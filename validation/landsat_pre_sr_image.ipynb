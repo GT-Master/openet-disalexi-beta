{
 "cells": [
  {
   "cell_type": "markdown",
   "metadata": {},
   "source": [
    "# Google Earth Engine (GEE) DisALEXI \n",
    "## Single Landsat Pre-collection SR Image Example\n",
    "\n",
    "Example of calling the GEE DisALEXI function on a single Landsat 8 pre-collection LEDAPS at-surface reflectance image."
   ]
  },
  {
   "cell_type": "markdown",
   "metadata": {},
   "source": [
    "### Python imports and GEE initialization"
   ]
  },
  {
   "cell_type": "code",
   "execution_count": 1,
   "metadata": {
    "collapsed": true
   },
   "outputs": [],
   "source": [
    "import pprint\n",
    "\n",
    "import ee\n",
    "from IPython.display import Image\n",
    "\n",
    "# This should work assuming \"eedisalexi\" is in the PYTHONPATH\n",
    "# import eedisalexi.eedisalexi as eedisalexi\n",
    "# import eedisalexi.landsat as landsat\n",
    "# import eedisalexi.utils as utils\n",
    "\n",
    "# This seems super hacky and is not PEP8 but works for now\n",
    "import os, sys\n",
    "module_path = os.path.join(os.path.dirname(os.getcwd()), 'eedisalexi')\n",
    "sys.path.insert(0, module_path)\n",
    "import eedisalexi\n",
    "import landsat\n",
    "import utils"
   ]
  },
  {
   "cell_type": "code",
   "execution_count": 2,
   "metadata": {
    "collapsed": true
   },
   "outputs": [],
   "source": [
    "pp = pprint.PrettyPrinter(indent=2)\n",
    "ee.Initialize()"
   ]
  },
  {
   "cell_type": "code",
   "execution_count": 3,
   "metadata": {
    "collapsed": true
   },
   "outputs": [],
   "source": [
    "# AmeriFlux sites adjusted to nearest Landsat cell centroid\n",
    "# http://sites.ameriflux.lbl.gov/US-NE1/\n",
    "ne1_xy = [-96.47672812080845, 41.16506126041818]\n",
    "ne2_xy = [-96.46994024736414, 41.16491226772292]\n",
    "ne3_xy = [-96.43968912903934, 41.17964494123755]\n",
    "ne1_geom = ee.Geometry.Point(ne1_xy)\n",
    "ne2_geom = ee.Geometry.Point(ne2_xy)\n",
    "ne3_geom = ee.Geometry.Point(ne3_xy)\n",
    "\n",
    "asset_region = [[-96.99, 41.05], [-96.97, 41.86], [-95.89, 41.83], [-95.92, 41.02]]\n",
    "test_region = [[-96.5, 41.15], [-96.5, 41.2], [-96.41, 41.2], [-96.41, 41.15]]"
   ]
  },
  {
   "cell_type": "code",
   "execution_count": 4,
   "metadata": {
    "collapsed": true
   },
   "outputs": [],
   "source": [
    "ssebop_et_palette = [\n",
    "  'DEC29B', 'E6CDA1', 'EDD9A6', 'F5E4A9', 'FFF4AD', 'C3E683', '6BCC5C', \n",
    "  '3BB369', '20998F', '1C8691', '16678A', '114982', '0B2C7A']\n",
    "ndvi_palette = '#EFE7E1,#003300'"
   ]
  },
  {
   "cell_type": "markdown",
   "metadata": {},
   "source": [
    "### Construct a TOA like image\n",
    "\n",
    "Combine the the LEDAPS SR shortwave bands and the TOA thermal and BQA bands"
   ]
  },
  {
   "cell_type": "code",
   "execution_count": 5,
   "metadata": {
    "collapsed": true
   },
   "outputs": [],
   "source": [
    "sr_img = ee.Image('LANDSAT/LC8_SR/LC80280312014189').multiply(0.0001)\n",
    "toa_img = ee.Image('LANDSAT/LC08/C01/T1_RT_TOA/LC08_028031_20140708')\n",
    "landsat_img = ee.Image([\n",
    "    sr_img.select(['B2']), sr_img.select(['B3']),\n",
    "    sr_img.select(['B4']), sr_img.select(['B5']),\n",
    "    sr_img.select(['B6']), sr_img.select(['B7']),\n",
    "    toa_img.select('B10'), toa_img.select('BQA')\n",
    "])\n",
    "# Copy properties from the TOA image\n",
    "landsat_img = ee.Image(landsat_img.copyProperties(toa_img, [\n",
    "    'system:index', 'system:time_start', 'SPACECRAFT_ID',\n",
    "    'K1_CONSTANT_BAND_10', 'K2_CONSTANT_BAND_10']))\n",
    "# pp.pprint(landsat_img.getInfo())"
   ]
  },
  {
   "cell_type": "code",
   "execution_count": 6,
   "metadata": {},
   "outputs": [
    {
     "name": "stdout",
     "output_type": "stream",
     "text": [
      "EPSG:32614\n",
      "[30.0, 0.0, 632385.0, 0.0, -30.0, 4743015.0]\n"
     ]
    }
   ],
   "source": [
    "# Extract geotransform and spatial reference\n",
    "image_crs = landsat_img.select('B2').projection().crs().getInfo()\n",
    "image_transform = landsat_img.select('B2').projection().getInfo()['transform']\n",
    "image_geom = landsat_img.select('B2').geometry()\n",
    "print(image_crs)\n",
    "print(image_transform)"
   ]
  },
  {
   "cell_type": "code",
   "execution_count": 7,
   "metadata": {},
   "outputs": [
    {
     "data": {
      "text/html": [
       "<img src=\"https://earthengine.googleapis.com/api/thumb?thumbid=30657698203dd9d4d7cde12e7962f9a3&token=d811815e776747e5ca1706eef6819a1a\"/>"
      ],
      "text/plain": [
       "<IPython.core.display.Image object>"
      ]
     },
     "execution_count": 7,
     "metadata": {},
     "output_type": "execute_result"
    }
   ],
   "source": [
    "validation_geom = ee.Image('users/cgmorton/disalexi/LC08_028031_20140708/albedo') \\\n",
    "    .geometry()\n",
    "\n",
    "    # {}'min': [0.01, 0.01, 0.01], 'max': [0.4, 0.4, 0.4], 'gamma': [1.8, 1.8, 1.8]}\n",
    "vis_image = landsat_img \\\n",
    "    .visualize(bands=['B4', 'B3', 'B2'], min=[0.01, 0.01, 0.01], max=[0.3, 0.3, 0.3]) \\\n",
    "    .reproject(crs=image_crs, crsTransform=image_transform) \\\n",
    "    .paint(validation_geom, color=0.5, width=1) \\\n",
    "    .clip(image_geom)\n",
    "Image(url=vis_image.getThumbURL())\n",
    "# print(vis_image.getThumbURL())"
   ]
  },
  {
   "cell_type": "markdown",
   "metadata": {},
   "source": [
    "### Prep the raw Landsat TOA image for use in GEE DisALEXI\n",
    "\n",
    "The prep function will rename the bands to generic names, compute albedo, ndvi, lai, and extract the fmask image from the BQA band."
   ]
  },
  {
   "cell_type": "code",
   "execution_count": 8,
   "metadata": {
    "collapsed": true
   },
   "outputs": [],
   "source": [
    "input_img = ee.Image(landsat.Landsat(landsat_img).prep())\n",
    "mask_img = input_img.select('cfmask').eq(0)\n",
    "# pp.pprint(input_img.getInfo())"
   ]
  },
  {
   "cell_type": "markdown",
   "metadata": {},
   "source": [
    "Show the NDVI band for the validation asset area"
   ]
  },
  {
   "cell_type": "code",
   "execution_count": 9,
   "metadata": {},
   "outputs": [
    {
     "data": {
      "text/html": [
       "<img src=\"https://earthengine.googleapis.com/api/thumb?thumbid=680187feb84b7e82f260c238f4de719c&token=cfac22c0cf5e4ef6df1e40040f069a9a\"/>"
      ],
      "text/plain": [
       "<IPython.core.display.Image object>"
      ]
     },
     "execution_count": 9,
     "metadata": {},
     "output_type": "execute_result"
    }
   ],
   "source": [
    "vis_img = input_img.select(['ndvi']).updateMask(mask_img) \\\n",
    "    .paint(ee.Geometry.Polygon(test_region), 'red', 1)\n",
    "Image(url=vis_img.getThumbURL({\n",
    "    'region': asset_region, 'min':-0.1, 'max':0.9, 'palette': ndvi_palette}))"
   ]
  },
  {
   "cell_type": "markdown",
   "metadata": {},
   "source": [
    "Show the NDVI band for the study area"
   ]
  },
  {
   "cell_type": "code",
   "execution_count": 10,
   "metadata": {},
   "outputs": [
    {
     "data": {
      "text/html": [
       "<img src=\"https://earthengine.googleapis.com/api/thumb?thumbid=52b34b6f5cfab7213fd159ab53998476&token=5003271e82b5366c4cc367c76d11b966\"/>"
      ],
      "text/plain": [
       "<IPython.core.display.Image object>"
      ]
     },
     "execution_count": 10,
     "metadata": {},
     "output_type": "execute_result"
    }
   ],
   "source": [
    "Image(url=input_img.select(['ndvi']).updateMask(mask_img).getThumbURL({\n",
    "    'region': test_region, 'min':-0.1, 'max':0.9, 'palette': ndvi_palette}))"
   ]
  },
  {
   "cell_type": "markdown",
   "metadata": {},
   "source": [
    "### Extract input values at the test point"
   ]
  },
  {
   "cell_type": "code",
   "execution_count": 11,
   "metadata": {},
   "outputs": [
    {
     "name": "stdout",
     "output_type": "stream",
     "text": [
      "LAI:      4.60945286\n",
      "NDVI:     0.86999571\n",
      "Albedo:   0.19520390\n",
      "LST:    300.37899609 [K]\n"
     ]
    }
   ],
   "source": [
    "print('LAI:    {:12.8f}'.format(float(\n",
    "    utils.image_value(input_img, xy=ne1_xy)['lai'])))\n",
    "print('NDVI:   {:12.8f}'.format(float(\n",
    "    utils.image_value(input_img, xy=ne1_xy)['ndvi'])))\n",
    "print('Albedo: {:12.8f}'.format(float(\n",
    "    utils.image_value(input_img, xy=ne1_xy)['albedo'])))\n",
    "print('LST:    {:12.8f} [K]'.format(float(\n",
    "    utils.image_value(input_img, xy=ne1_xy)['lst'])))"
   ]
  },
  {
   "cell_type": "markdown",
   "metadata": {},
   "source": [
    "### Initialize the DisALEXI object"
   ]
  },
  {
   "cell_type": "code",
   "execution_count": 12,
   "metadata": {},
   "outputs": [],
   "source": [
    "# Initialize the DisALEXI object using all default values\n",
    "# NLCD Landcover, NED Elevation, CONUS ALEXI ET\n",
    "disalexi = eedisalexi.DisALEXI(input_img, iterations=10)"
   ]
  },
  {
   "cell_type": "markdown",
   "metadata": {},
   "source": [
    "### Extract the ancillary values at the test point"
   ]
  },
  {
   "cell_type": "code",
   "execution_count": 13,
   "metadata": {},
   "outputs": [
    {
     "name": "stdout",
     "output_type": "stream",
     "text": [
      "ALEXI ET:     6.34297943 [mm]\n",
      "Elevation:  356.74499512 [m]\n",
      "Rs Hourly:  925.85181250 [W m-2]\n",
      "Rs Daily:  8506.97167969 [W m-2]\n",
      "Wind Speed:   4.11969798 [m/s]\n",
      "Land Cover:  82\n"
     ]
    }
   ],
   "source": [
    "disalexi._set_alexi_et_vars()\n",
    "disalexi._set_elevation_vars()\n",
    "disalexi._set_landcover_vars()\n",
    "disalexi._set_solar_vars()\n",
    "disalexi._set_weather_vars()\n",
    "print('ALEXI ET:   {:>12.8f} [mm]'.format(float(utils.image_value(\n",
    "    disalexi.alexi_et, xy=ne1_xy)['alexi_et'])))\n",
    "print('Elevation:  {:>12.8f} [m]'.format(float(utils.image_value(\n",
    "    disalexi.elevation, xy=ne1_xy)['elevation'])))\n",
    "print('Rs Hourly:  {:>12.8f} [W m-2]'.format(float(utils.image_value(\n",
    "    disalexi.rs1, xy=ne1_xy)['rs'])))\n",
    "print('Rs Daily:  {:>13.8f} [W m-2]'.format(float(utils.image_value(\n",
    "    disalexi.rs24, xy=ne1_xy)['rs'])))\n",
    "print('Wind Speed: {:>12.8f} [m/s]'.format(float(utils.image_value(\n",
    "    disalexi.windspeed, xy=ne1_xy)['windspeed'])))\n",
    "print('Land Cover: {:3}'.format(int(utils.image_value(\n",
    "    disalexi.landcover, xy=ne1_xy)['landcover'])))"
   ]
  },
  {
   "cell_type": "markdown",
   "metadata": {},
   "source": [
    "### Compute Air Temperature"
   ]
  },
  {
   "cell_type": "code",
   "execution_count": 14,
   "metadata": {
    "collapsed": true
   },
   "outputs": [],
   "source": [
    "image_transform = landsat_img.select('B2').projection().getInfo()['transform']\n",
    "# Reduce the computation resoultion\n",
    "# image_transform = [120.0, 0.0, 632685.0, 0.0, -120.0, 4742715.0]"
   ]
  },
  {
   "cell_type": "code",
   "execution_count": 15,
   "metadata": {},
   "outputs": [],
   "source": [
    "t_air_img = ee.Image(disalexi.compute_ta()) \\\n",
    "    .reproject(crs=image_crs, crsTransform=image_transform)"
   ]
  },
  {
   "cell_type": "code",
   "execution_count": 16,
   "metadata": {
    "collapsed": true
   },
   "outputs": [],
   "source": [
    "# print('Output Ta:\\n{}'.format(\n",
    "#     pprint.pformat(utils.image_value(t_air_img)['t_air'])))"
   ]
  },
  {
   "cell_type": "code",
   "execution_count": 17,
   "metadata": {
    "collapsed": true
   },
   "outputs": [],
   "source": [
    "# t_air_url = t_air_img.getThumbURL({\n",
    "#     'region': test_region, 'min':280, 'max':310})\n",
    "# print(t_air_url)"
   ]
  },
  {
   "cell_type": "code",
   "execution_count": 18,
   "metadata": {},
   "outputs": [],
   "source": [
    "# Image(url=t_air_url)"
   ]
  },
  {
   "cell_type": "markdown",
   "metadata": {},
   "source": [
    "### Aggregate Air Temperature to ALEXI ET cells"
   ]
  },
  {
   "cell_type": "code",
   "execution_count": 19,
   "metadata": {},
   "outputs": [],
   "source": [
    "t_air_coarse_img = disalexi.aggregate(t_air_img)"
   ]
  },
  {
   "cell_type": "code",
   "execution_count": 20,
   "metadata": {},
   "outputs": [
    {
     "name": "stdout",
     "output_type": "stream",
     "text": [
      "Coarse Ta: 296.65529296395783\n"
     ]
    }
   ],
   "source": [
    "# print('Coarse Ta: {}'.format(pprint.pformat(\n",
    "#     utils.image_value(t_air_coarse_img, xy=ne1_xy, scale=1)['t_air'])))"
   ]
  },
  {
   "cell_type": "code",
   "execution_count": 21,
   "metadata": {
    "collapsed": true
   },
   "outputs": [],
   "source": [
    "# t_air_coarse_url = t_air_coarse_img.getThumbUrl({\n",
    "#     'region': test_region, 'min':280, 'max':310})\n",
    "# print(t_air_coarse_url)"
   ]
  },
  {
   "cell_type": "code",
   "execution_count": 22,
   "metadata": {},
   "outputs": [],
   "source": [
    "# Image(url=t_air_coarse_url)"
   ]
  },
  {
   "cell_type": "markdown",
   "metadata": {},
   "source": [
    "### Compute ET"
   ]
  },
  {
   "cell_type": "code",
   "execution_count": 23,
   "metadata": {
    "collapsed": true
   },
   "outputs": [],
   "source": [
    "et_img = disalexi.compute_et(t_air_coarse_img) \\\n",
    "    .reproject(crs=image_crs, crsTransform=image_transform)"
   ]
  },
  {
   "cell_type": "code",
   "execution_count": 24,
   "metadata": {},
   "outputs": [
    {
     "name": "stdout",
     "output_type": "stream",
     "text": [
      "ET: 7.178786715171644\n"
     ]
    }
   ],
   "source": [
    "# print('ET: {}'.format(pprint.pformat(\n",
    "#     utils.image_value(et_img, xy=ne1_xy)['et'])))"
   ]
  },
  {
   "cell_type": "code",
   "execution_count": 25,
   "metadata": {
    "collapsed": true
   },
   "outputs": [],
   "source": [
    "# et_url = et_img.getThumbURL({\n",
    "#     'region': test_region, 'min': 0, 'max': 8, \n",
    "#     'palette': ','.join(ssebop_et_palette)})\n",
    "# print(et_url)"
   ]
  },
  {
   "cell_type": "code",
   "execution_count": 26,
   "metadata": {},
   "outputs": [],
   "source": [
    "# Image(url=et_url)"
   ]
  },
  {
   "cell_type": "markdown",
   "metadata": {},
   "source": [
    "### Aggregate ET to ALEXI ET cells"
   ]
  },
  {
   "cell_type": "code",
   "execution_count": 27,
   "metadata": {},
   "outputs": [],
   "source": [
    "et_coarse_img = disalexi.aggregate(et_img)"
   ]
  },
  {
   "cell_type": "code",
   "execution_count": 28,
   "metadata": {
    "collapsed": true
   },
   "outputs": [],
   "source": [
    "# print('Coarse ET: {}'.format(pprint.pformat(\n",
    "#     utils.image_value(et_coarse_img, xy=ne1_xy, scale=1)['et'])))"
   ]
  },
  {
   "cell_type": "markdown",
   "metadata": {
    "collapsed": true
   },
   "source": [
    "### Exports"
   ]
  },
  {
   "cell_type": "code",
   "execution_count": 29,
   "metadata": {
    "collapsed": true
   },
   "outputs": [],
   "source": [
    "tair_task = ee.batch.Export.image.toDrive(\n",
    "    t_air_img,\n",
    "    description='LC08_028031_20140708_pre_sr_tair',\n",
    "    folder='DisALEXI',\n",
    "    fileNamePrefix='LC08_028031_20140708_pre_sr_tair',\n",
    "    dimensions='3000x3000',\n",
    "    crs=image_crs,\n",
    "    crsTransform=image_transform,\n",
    "    maxPixels=1E9)"
   ]
  },
  {
   "cell_type": "code",
   "execution_count": 30,
   "metadata": {
    "collapsed": true
   },
   "outputs": [],
   "source": [
    "tair_coarse_task = ee.batch.Export.image.toDrive(\n",
    "    t_air_coarse_img,\n",
    "    description='LC08_028031_20140708_pre_sr_tair_coarse',\n",
    "    folder='DisALEXI',\n",
    "    fileNamePrefix='LC08_028031_20140708_pre_sr_tair_coarse',\n",
    "    dimensions='3000x3000',\n",
    "    crs=image_crs,\n",
    "    crsTransform=image_transform,\n",
    "    maxPixels=1E9)"
   ]
  },
  {
   "cell_type": "code",
   "execution_count": 31,
   "metadata": {
    "collapsed": true
   },
   "outputs": [],
   "source": [
    "et_task = ee.batch.Export.image.toDrive(\n",
    "    et_img,\n",
    "    description='LC08_028031_20140708_pre_sr_et',\n",
    "    folder='DisALEXI',\n",
    "    fileNamePrefix='LC08_028031_20140708_pre_sr_et',\n",
    "    dimensions='3000x3000',\n",
    "    crs=image_crs,\n",
    "    crsTransform=image_transform,\n",
    "    maxPixels=1E9)"
   ]
  },
  {
   "cell_type": "code",
   "execution_count": 32,
   "metadata": {
    "collapsed": true
   },
   "outputs": [],
   "source": [
    "et_coarse_task = ee.batch.Export.image.toDrive(\n",
    "    et_coarse_img,\n",
    "    description='LC08_028031_20140708_pre_sr_et_coarse',\n",
    "    folder='DisALEXI',\n",
    "    fileNamePrefix='LC08_028031_20140708_pre_sr_et_coarse',\n",
    "    dimensions='3000x3000',\n",
    "    crs=image_crs,\n",
    "    crsTransform=image_transform,\n",
    "    maxPixels=1E9)"
   ]
  },
  {
   "cell_type": "code",
   "execution_count": 33,
   "metadata": {},
   "outputs": [
    {
     "name": "stdout",
     "output_type": "stream",
     "text": [
      "Tair Coarse Status: {'id': 'ZZF6WZZ7X2FHW6TIFZ2PSK7Q', 'state': 'READY', 'creation_timestamp_ms': 1507393741124, 'update_timestamp_ms': 1507393741124, 'description': 'LC08_028031_20140708_pre_sr_tair_coarse', 'task_type': 'EXPORT_IMAGE'}\n"
     ]
    }
   ],
   "source": [
    "# tair_task.start()\n",
    "# tair_coarse_task.start()\n",
    "# et_task.start()\n",
    "# et_coarse_task.start()\n",
    "# print('Tair Status:        {}'.format(tair_task.status()))\n",
    "# print('Tair Coarse Status: {}'.format(tair_coarse_task.status()))\n",
    "# print('ET Status:          {}'.format(et_task.status()))\n",
    "# print('ET Status:          {}'.format(et_coarse_task.status()))"
   ]
  },
  {
   "cell_type": "code",
   "execution_count": null,
   "metadata": {
    "collapsed": true
   },
   "outputs": [],
   "source": []
  }
 ],
 "metadata": {
  "kernelspec": {
   "display_name": "Python 3",
   "language": "python",
   "name": "python3"
  },
  "language_info": {
   "codemirror_mode": {
    "name": "ipython",
    "version": 3
   },
   "file_extension": ".py",
   "mimetype": "text/x-python",
   "name": "python",
   "nbconvert_exporter": "python",
   "pygments_lexer": "ipython3",
   "version": "3.6.1"
  }
 },
 "nbformat": 4,
 "nbformat_minor": 2
}
