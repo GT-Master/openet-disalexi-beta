{
 "cells": [
  {
   "cell_type": "markdown",
   "metadata": {},
   "source": [
    "# Google Earth Engine (GEE) DisALEXI \n",
    "## Validation Asset Example\n",
    "\n",
    "Example of calling GEE DisALEXI function using the validation assets for a small area of Landsat scene LC08_028031_20140708 in eastern Nebraska.  The validation assets were converted to 64bit floats, scaled to appropriate units/ranges, and ingested into Earth Engine.\n",
    "\n",
    "Examples of the validation assets can be seen here:\n",
    "https://code.earthengine.google.com/0466eb6dc63732e5b16d687e0091a632"
   ]
  },
  {
   "cell_type": "markdown",
   "metadata": {},
   "source": [
    "### Python imports and GEE initialization"
   ]
  },
  {
   "cell_type": "code",
   "execution_count": 1,
   "metadata": {
    "collapsed": true
   },
   "outputs": [],
   "source": [
    "import pprint\n",
    "\n",
    "import ee\n",
    "from IPython.display import Image\n",
    "\n",
    "# This should work assuming \"eedisalexi\" is in the PYTHONPATH\n",
    "# import eedisalexi.eedisalexi as eedisalexi\n",
    "# import eedisalexi.utils as utils\n",
    "\n",
    "# This seems super hacky and is not PEP8 but works for now\n",
    "import os, sys\n",
    "module_path = os.path.join(os.path.dirname(os.getcwd()), 'eedisalexi')\n",
    "sys.path.insert(0, module_path)\n",
    "import eedisalexi\n",
    "import utils"
   ]
  },
  {
   "cell_type": "code",
   "execution_count": 2,
   "metadata": {
    "collapsed": true
   },
   "outputs": [],
   "source": [
    "pp = pprint.PrettyPrinter(indent=2)\n",
    "ee.Initialize()"
   ]
  },
  {
   "cell_type": "code",
   "execution_count": 3,
   "metadata": {
    "collapsed": true
   },
   "outputs": [],
   "source": [
    "# AmeriFlux sites adjusted to nearest Landsat cell centroid\n",
    "# http://sites.ameriflux.lbl.gov/US-NE1/\n",
    "ne1_xy = [-96.47672812080845, 41.16506126041818]\n",
    "ne2_xy = [-96.46994024736414, 41.16491226772292]\n",
    "ne3_xy = [-96.43968912903934, 41.17964494123755]\n",
    "ne1_geom = ee.Geometry.Point(ne1_xy)\n",
    "ne2_geom = ee.Geometry.Point(ne2_xy)\n",
    "ne3_geom = ee.Geometry.Point(ne3_xy)\n",
    "\n",
    "asset_region = [[-96.99, 41.05], [-96.97, 41.86], [-95.89, 41.83], [-95.92, 41.02]]\n",
    "test_region = [[-96.5, 41.15], [-96.5, 41.2], [-96.41, 41.2], [-96.41, 41.15]]"
   ]
  },
  {
   "cell_type": "code",
   "execution_count": 4,
   "metadata": {
    "collapsed": true
   },
   "outputs": [],
   "source": [
    "ssebop_et_palette = [\n",
    "  'DEC29B', 'E6CDA1', 'EDD9A6', 'F5E4A9', 'FFF4AD', 'C3E683', '6BCC5C', \n",
    "  '3BB369', '20998F', '1C8691', '16678A', '114982', '0B2C7A']\n",
    "ndvi_palette = '#EFE7E1,#003300'"
   ]
  },
  {
   "cell_type": "markdown",
   "metadata": {},
   "source": [
    "### Initialized a \"prepped\" Landsat image"
   ]
  },
  {
   "cell_type": "code",
   "execution_count": 5,
   "metadata": {},
   "outputs": [
    {
     "name": "stdout",
     "output_type": "stream",
     "text": [
      "Time Start: 1404839150550 -> 2014-07-08 17:05\n",
      "Hour Start: 1404838800000 -> 2014-07-08 17:00\n",
      "Date Start: 1404777600000 -> 2014-07-08 00:00\n"
     ]
    }
   ],
   "source": [
    "# Setup the image times for joining to the various ancillary collections\n",
    "# Time_start is 2014-07-08 17:05:50.5502040 UTC\n",
    "img_time = ee.Date(1404839150550)\n",
    "img_hour = ee.Date('2014-07-08T17:00', 'GMT')\n",
    "img_date = ee.Date('2014-07-08', 'GMT')\n",
    "print('Time Start: {} -> {}'.format(\n",
    "    img_time.millis().getInfo(), \n",
    "    img_time.format('yyyy-MM-dd HH:mm').getInfo()))\n",
    "print('Hour Start: {} -> {}'.format(\n",
    "    img_hour.millis().getInfo(), \n",
    "    img_hour.format('yyyy-MM-dd HH:mm').getInfo()))\n",
    "print('Date Start: {} -> {}'.format(\n",
    "    img_date.millis().getInfo(),\n",
    "    img_date.format('yyyy-MM-dd HH:mm').getInfo()))"
   ]
  },
  {
   "cell_type": "markdown",
   "metadata": {},
   "source": [
    "The following will bypass initializing and prepping a Landsat TOA image and instead build a prepped image directly from the validation assets."
   ]
  },
  {
   "cell_type": "code",
   "execution_count": 6,
   "metadata": {
    "collapsed": true
   },
   "outputs": [],
   "source": [
    "asset_ws = 'users/cgmorton/disalexi/LC08_028031_20140708/'\n",
    "\n",
    "# Initialize a \"prepped\" Landsat image using the validation assets directly\n",
    "input_img = ee.Image([\n",
    "        ee.Image(asset_ws + 'albedo').rename(['albedo']),\n",
    "        ee.Image(asset_ws + 'cfmask').rename(['cfmask']),\n",
    "        ee.Image(asset_ws + 'lai').rename(['lai']),\n",
    "        ee.Image(asset_ws + 'lst').add(0.01).rename(['lst']),\n",
    "        ee.Image(asset_ws + 'ndvi').rename(['ndvi'])])\n",
    "input_img = ee.Image(input_img.setMulti({\n",
    "    'system:time_start': img_time.millis(),\n",
    "    'SCENE_ID': 'LC08_028031_20140708'})) "
   ]
  },
  {
   "cell_type": "markdown",
   "metadata": {},
   "source": [
    "Show the NDVI band for the full validation asset area"
   ]
  },
  {
   "cell_type": "code",
   "execution_count": 7,
   "metadata": {},
   "outputs": [
    {
     "data": {
      "text/html": [
       "<img src=\"https://earthengine.googleapis.com/api/thumb?thumbid=3cbd81e94e5f084b8fc5c65c8b06c29c&token=58731157cdd2011f9e359c321c5adc65\"/>"
      ],
      "text/plain": [
       "<IPython.core.display.Image object>"
      ]
     },
     "execution_count": 7,
     "metadata": {},
     "output_type": "execute_result"
    }
   ],
   "source": [
    "Image(url=input_img.select(['ndvi'])\n",
    "    .paint(ee.Geometry.Polygon(test_region), 'red', 1)\n",
    "    .getThumbUrl({'min':-0.1, 'max':0.9, 'palette': ndvi_palette}))"
   ]
  },
  {
   "cell_type": "markdown",
   "metadata": {},
   "source": [
    "Show the NDVI band for the test site area"
   ]
  },
  {
   "cell_type": "code",
   "execution_count": 8,
   "metadata": {},
   "outputs": [
    {
     "data": {
      "text/html": [
       "<img src=\"https://earthengine.googleapis.com/api/thumb?thumbid=5541bfbc5cd56f59c644f5f2717a18f1&token=34287c923a8df3fd7a38e76484a3cbc9\"/>"
      ],
      "text/plain": [
       "<IPython.core.display.Image object>"
      ]
     },
     "execution_count": 8,
     "metadata": {},
     "output_type": "execute_result"
    }
   ],
   "source": [
    "Image(url=input_img.select(['ndvi']).getThumbURL({\n",
    "    'region': test_region, 'min':-0.1, 'max':0.9, 'palette': ndvi_palette}))"
   ]
  },
  {
   "cell_type": "markdown",
   "metadata": {},
   "source": [
    "### Extract input values at the test point"
   ]
  },
  {
   "cell_type": "code",
   "execution_count": 9,
   "metadata": {},
   "outputs": [
    {
     "name": "stdout",
     "output_type": "stream",
     "text": [
      "LAI:      2.82700014\n",
      "NDVI:     0.84600002\n",
      "Albedo:   0.19908118\n",
      "LST:    302.49074951 [K]\n"
     ]
    }
   ],
   "source": [
    "print('LAI:    {:12.8f}'.format(float(\n",
    "    utils.image_value(input_img, xy=ne1_xy)['lai'])))\n",
    "print('NDVI:   {:12.8f}'.format(float(\n",
    "    utils.image_value(input_img, xy=ne1_xy)['ndvi'])))\n",
    "print('Albedo: {:12.8f}'.format(float(\n",
    "    utils.image_value(input_img, xy=ne1_xy)['albedo'])))\n",
    "print('LST:    {:12.8f} [K]'.format(float(\n",
    "    utils.image_value(input_img, xy=ne1_xy)['lst'])))"
   ]
  },
  {
   "cell_type": "markdown",
   "metadata": {},
   "source": [
    "### Initialize the DisALEXI object\n",
    "\n",
    "Eventually it will be possible to set some or all of the anciallary datasets directly when the class is built, but for now, only elevation and landcover are supported."
   ]
  },
  {
   "cell_type": "code",
   "execution_count": 10,
   "metadata": {
    "collapsed": true
   },
   "outputs": [],
   "source": [
    "# Initialize the DisALEXI object\n",
    "disalexi = eedisalexi.DisALEXI(\n",
    "    input_img, \n",
    "    iterations=10,\n",
    "    elevation=ee.Image.constant(350.0),\n",
    "    landcover=ee.Image(asset_ws + 'landcover'), lc_type='NLCD')\n",
    "\n",
    "# Overwrite the ALEXI ET collection with the test asset, geotransform, and crs\n",
    "# ALEXI ET is filtered to the nearest UTC date\n",
    "disalexi.et_coll = ee.ImageCollection([\n",
    "    ee.Image(asset_ws + 'alexiET') \\\n",
    "        .setMulti({'system:time_start': img_date.millis()})])\n",
    "disalexi.et_transform = [0.04, 0, -125.042123, 0, -0.04, 49.7764322]\n",
    "disalexi.et_crs = 'EPSG:4326'\n",
    "\n",
    "# Overwrite the solar data images with the test assets\n",
    "# # ALEXI ET hourly is filtered to the nearest UTC hour\n",
    "# disalexi.rs_hourly_coll = ee.ImageCollection([\n",
    "#     ee.Image(asset_ws + 'Insol1') \\\n",
    "#         .setMulti({'system:time_start': img_hour.millis()})])\n",
    "# ALEXI ET hourly is interpolated (assume image time is 30 minutes earlier) \n",
    "disalexi.rs_hourly_coll = ee.ImageCollection([\n",
    "    ee.Image(asset_ws + 'Insol1') \\\n",
    "        .setMulti({'system:time_start': img_hour.advance(-1, 'hour').millis()}),\n",
    "    ee.Image(asset_ws + 'Insol1') \\\n",
    "        .setMulti({'system:time_start': img_hour.millis()})])\n",
    "# ALEXI ET daily is filtered to the nearest UTC date\n",
    "disalexi.rs_daily_coll = ee.ImageCollection([\n",
    "    ee.Image(asset_ws + 'Insol24') \\\n",
    "        .setMulti({'system:time_start': img_date.millis()})])\n",
    "\n",
    "# Overwrite the weather data images with the test assets\n",
    "# Wind is filtered to the nearest UTC date\n",
    "# Create wind as u and v components\n",
    "disalexi.windspeed_coll = ee.ImageCollection([\n",
    "    ee.Image([ee.Image(asset_ws + 'u'), ee.Image(asset_ws + 'u').multiply(0)]) \\\n",
    "        .setMulti({'system:time_start': img_date.millis()})\n",
    "])"
   ]
  },
  {
   "cell_type": "markdown",
   "metadata": {},
   "source": [
    "### Extract the ancillary values at the test point"
   ]
  },
  {
   "cell_type": "code",
   "execution_count": 11,
   "metadata": {},
   "outputs": [
    {
     "name": "stdout",
     "output_type": "stream",
     "text": [
      "ALEXI ET:     5.99517632 [mm]\n",
      "Elevation:  350.00000000 [m]\n",
      "Rs Hourly:  917.87847900 [W m-2]\n",
      "Rs Daily:  8559.06640625 [W m-2]\n",
      "Wind Speed:   7.02662325 [m/s]\n",
      "Land Cover:  82\n"
     ]
    }
   ],
   "source": [
    "disalexi._set_alexi_et_vars()\n",
    "disalexi._set_elevation_vars()\n",
    "disalexi._set_landcover_vars()\n",
    "disalexi._set_solar_vars()\n",
    "disalexi._set_weather_vars()\n",
    "print('ALEXI ET:   {:>12.8f} [mm]'.format(float(utils.image_value(\n",
    "    disalexi.alexi_et, xy=ne1_xy)['alexi_et'])))\n",
    "print('Elevation:  {:>12.8f} [m]'.format(float(utils.image_value(\n",
    "    disalexi.elevation, xy=ne1_xy)['elevation'])))\n",
    "print('Rs Hourly:  {:>12.8f} [W m-2]'.format(float(utils.image_value(\n",
    "    disalexi.rs1, xy=ne1_xy)['rs'])))\n",
    "print('Rs Daily:  {:>13.8f} [W m-2]'.format(float(utils.image_value(\n",
    "    disalexi.rs24, xy=ne1_xy)['rs'])))\n",
    "print('Wind Speed: {:>12.8f} [m/s]'.format(float(utils.image_value(\n",
    "    disalexi.windspeed, xy=ne1_xy)['windspeed'])))\n",
    "print('Land Cover: {:3}'.format(int(utils.image_value(\n",
    "    disalexi.landcover, xy=ne1_xy)['landcover'])))"
   ]
  },
  {
   "cell_type": "markdown",
   "metadata": {},
   "source": [
    "### Compute Air Temperature"
   ]
  },
  {
   "cell_type": "markdown",
   "metadata": {},
   "source": [
    "Compute the extent of the image for generating the thumbnails"
   ]
  },
  {
   "cell_type": "code",
   "execution_count": 12,
   "metadata": {},
   "outputs": [
    {
     "name": "stdout",
     "output_type": "stream",
     "text": [
      "EPSG:32614\n",
      "[30.0, 0.0, 668565.0, 0.0, -30.0, 4636125.0]\n"
     ]
    }
   ],
   "source": [
    "image_crs = ee.Image(asset_ws + 'albedo').projection().crs().getInfo()\n",
    "image_geom = ee.Image(asset_ws + 'albedo').geometry()\n",
    "\n",
    "image_transform = ee.Image(asset_ws + 'albedo').projection().getInfo()['transform']\n",
    "# Reduce the computation resoultion\n",
    "# image_transform = [120.0, 0.0, 696915.0, 0.0, -120.0, 4587525.0]\n",
    "print(image_crs)\n",
    "print(image_transform)"
   ]
  },
  {
   "cell_type": "code",
   "execution_count": 13,
   "metadata": {
    "collapsed": true
   },
   "outputs": [],
   "source": [
    "t_air_img = disalexi.compute_ta() \\\n",
    "    .reproject(crs=image_crs, crsTransform=image_transform)"
   ]
  },
  {
   "cell_type": "code",
   "execution_count": 14,
   "metadata": {
    "collapsed": true
   },
   "outputs": [],
   "source": [
    "# print('Output Ta: {}'.format(pprint.pformat(\n",
    "#     utils.image_value(t_air_img, xy=ne1_xy)['t_air'])))"
   ]
  },
  {
   "cell_type": "code",
   "execution_count": 15,
   "metadata": {
    "collapsed": true
   },
   "outputs": [],
   "source": [
    "# t_air_url = t_air_img.getThumbURL({\n",
    "#     'region': test_region, 'min': 280, 'max':310})\n",
    "# print(t_air_url)"
   ]
  },
  {
   "cell_type": "code",
   "execution_count": 16,
   "metadata": {
    "collapsed": true
   },
   "outputs": [],
   "source": [
    "# Image(url=t_air_url)"
   ]
  },
  {
   "cell_type": "markdown",
   "metadata": {},
   "source": [
    "### Aggregate Air Temperature to ALEXI ET cells"
   ]
  },
  {
   "cell_type": "code",
   "execution_count": 17,
   "metadata": {
    "collapsed": true
   },
   "outputs": [],
   "source": [
    "t_air_coarse_img = disalexi.aggregate(t_air_img)"
   ]
  },
  {
   "cell_type": "code",
   "execution_count": 18,
   "metadata": {},
   "outputs": [],
   "source": [
    "# print('Coarse Ta: {}'.format(pprint.pformat(\n",
    "#     utils.image_value(t_air_coarse_img, xy=ne1_xy, scale=1)['t_air'])))"
   ]
  },
  {
   "cell_type": "code",
   "execution_count": 19,
   "metadata": {
    "collapsed": true
   },
   "outputs": [],
   "source": [
    "# t_air_coarse_url = url=t_air_coarse_img.getThumbURL({\n",
    "#     'region': test_region, 'min': 280, 'max':310})\n",
    "# print(t_air_coarse_url)"
   ]
  },
  {
   "cell_type": "code",
   "execution_count": 20,
   "metadata": {
    "collapsed": true
   },
   "outputs": [],
   "source": [
    "# Image(url=t_air_coarse_url)"
   ]
  },
  {
   "cell_type": "markdown",
   "metadata": {},
   "source": [
    "### Compute ET"
   ]
  },
  {
   "cell_type": "code",
   "execution_count": 21,
   "metadata": {
    "collapsed": true
   },
   "outputs": [],
   "source": [
    "et_img = disalexi.compute_et(t_air_coarse_img)"
   ]
  },
  {
   "cell_type": "code",
   "execution_count": 22,
   "metadata": {
    "collapsed": true
   },
   "outputs": [],
   "source": [
    "# print('ET: {}'.format(pprint.pformat(\n",
    "#     utils.image_value(et_img, xy=ne1_xy)['et'])))"
   ]
  },
  {
   "cell_type": "code",
   "execution_count": 23,
   "metadata": {
    "collapsed": true
   },
   "outputs": [],
   "source": [
    "# et_url = et_img.getThumbURL({\n",
    "#     'region': test_region, 'min': 0, 'max': 8, \n",
    "#     'palette': ','.join(ssebop_et_palette)})\n",
    "# print(et_url)"
   ]
  },
  {
   "cell_type": "code",
   "execution_count": 24,
   "metadata": {
    "collapsed": true
   },
   "outputs": [],
   "source": [
    "# Image(url=et_url)"
   ]
  },
  {
   "cell_type": "markdown",
   "metadata": {},
   "source": [
    "### Aggregate ET to ALEXI ET cells"
   ]
  },
  {
   "cell_type": "code",
   "execution_count": 25,
   "metadata": {
    "collapsed": true
   },
   "outputs": [],
   "source": [
    "et_coarse_img = disalexi.aggregate(et_img)"
   ]
  },
  {
   "cell_type": "code",
   "execution_count": 26,
   "metadata": {
    "collapsed": true
   },
   "outputs": [],
   "source": [
    "# print('Coarse ET: {}'.format(pprint.pformat(\n",
    "#     utils.image_value(et_coarse_img, xy=ne1_xy, scale=1)['et'])))"
   ]
  },
  {
   "cell_type": "markdown",
   "metadata": {},
   "source": [
    "### ALEXI ET"
   ]
  },
  {
   "cell_type": "code",
   "execution_count": 27,
   "metadata": {
    "collapsed": true
   },
   "outputs": [],
   "source": [
    "# alexi_url = ee.Image(asset_ws + 'alexiET') \\\n",
    "#     .getThumbURL({\n",
    "#         'region': test_region, 'min': 0, 'max': 8, \n",
    "#         'palette': ','.join(ssebop_et_palette)})\n",
    "# #     .reproject(crs='EPSG:4326') \\\n",
    "# print(alexi_url)"
   ]
  },
  {
   "cell_type": "code",
   "execution_count": 28,
   "metadata": {
    "collapsed": true
   },
   "outputs": [],
   "source": [
    "# Image(url=alexi_url)"
   ]
  },
  {
   "cell_type": "markdown",
   "metadata": {
    "collapsed": true
   },
   "source": [
    "### Exports"
   ]
  },
  {
   "cell_type": "code",
   "execution_count": 29,
   "metadata": {
    "collapsed": true
   },
   "outputs": [],
   "source": [
    "tair_task = ee.batch.Export.image.toDrive(\n",
    "    t_air_img,\n",
    "    description='LC08_028031_20140708_asset_tair',\n",
    "    folder='DisALEXI',\n",
    "    fileNamePrefix='LC08_028031_20140708_asset_tair',\n",
    "    dimensions='3000x3000',\n",
    "    crs=image_crs,\n",
    "    crsTransform=image_transform,\n",
    "    maxPixels=1E9)"
   ]
  },
  {
   "cell_type": "code",
   "execution_count": 30,
   "metadata": {
    "collapsed": true
   },
   "outputs": [],
   "source": [
    "tair_coarse_task = ee.batch.Export.image.toDrive(\n",
    "    t_air_coarse_img,\n",
    "    description='LC08_028031_20140708_asset_tair_coarse',\n",
    "    folder='DisALEXI',\n",
    "    fileNamePrefix='LC08_028031_20140708_asset_tair_coarse',\n",
    "    dimensions='3000x3000',\n",
    "    crs=image_crs,\n",
    "    crsTransform=image_transform,\n",
    "    maxPixels=1E9)"
   ]
  },
  {
   "cell_type": "code",
   "execution_count": 31,
   "metadata": {
    "collapsed": true
   },
   "outputs": [],
   "source": [
    "et_task = ee.batch.Export.image.toDrive(\n",
    "    et_img,\n",
    "    description='LC08_028031_20140708_asset_et',\n",
    "    folder='DisALEXI',\n",
    "    fileNamePrefix='LC08_028031_20140708_asset_et',\n",
    "    dimensions='3000x3000',\n",
    "    crs=image_crs,\n",
    "    crsTransform=image_transform,\n",
    "    maxPixels=1E9)"
   ]
  },
  {
   "cell_type": "code",
   "execution_count": 32,
   "metadata": {
    "collapsed": true
   },
   "outputs": [],
   "source": [
    "et_coarse_task = ee.batch.Export.image.toDrive(\n",
    "    et_coarse_img,\n",
    "    description='LC08_028031_20140708_asset_et_coarse',\n",
    "    folder='DisALEXI',\n",
    "    fileNamePrefix='LC08_028031_20140708_asset_et_coarse',\n",
    "    dimensions='3000x3000',\n",
    "    crs=image_crs,\n",
    "    crsTransform=image_transform,\n",
    "    maxPixels=1E9)"
   ]
  },
  {
   "cell_type": "code",
   "execution_count": 33,
   "metadata": {
    "collapsed": true
   },
   "outputs": [],
   "source": [
    "# tair_task.start()\n",
    "# tair_coarse_task.start()\n",
    "# et_task.start()\n",
    "# et_coarse_task.start()\n",
    "# print('Tair Status:        {}'.format(tair_task.status()))\n",
    "# print('Tair Coarse Status: {}'.format(tair_coarse_task.status()))\n",
    "# print('ET Status:          {}'.format(et_task.status()))\n",
    "# print('ET Status:          {}'.format(et_coarse_task.status()))"
   ]
  },
  {
   "cell_type": "code",
   "execution_count": null,
   "metadata": {
    "collapsed": true
   },
   "outputs": [],
   "source": []
  }
 ],
 "metadata": {
  "kernelspec": {
   "display_name": "Python 2",
   "language": "python",
   "name": "python2"
  },
  "language_info": {
   "codemirror_mode": {
    "name": "ipython",
    "version": 2
   },
   "file_extension": ".py",
   "mimetype": "text/x-python",
   "name": "python",
   "nbconvert_exporter": "python",
   "pygments_lexer": "ipython2",
   "version": "2.7.14"
  }
 },
 "nbformat": 4,
 "nbformat_minor": 2
}
