{
 "cells": [
  {
   "cell_type": "markdown",
   "metadata": {},
   "source": [
    "# Validation Asset Values\n",
    "\n",
    "The purpose of this notebook is to check the validation asset values and see if they can be recreated using Earth Engine assets.  The albedo, land surface temperature (LST), and NDVI were computed using pre-collection and collection 1 images available in GEE for the Landsat 8 image \"LC08_028031_20140708\".  Values are being extracted at the AmeriFlux locations used in the other validation work and in the tests.\n",
    "\n",
    "The values of the validation images do not match up exactly with the TOA computed values, although they are similar (within ~5%).  Based on the comparison with the SR values, the likely explanation for this discrepancy is that the validation assets were generated using LEDAPS at-surface reflectance (not TOA reflectance) and the LST is actually an LST value (and not a brightness temperature like the raw B10 values)."
   ]
  },
  {
   "cell_type": "code",
   "execution_count": 1,
   "metadata": {
    "collapsed": true
   },
   "outputs": [],
   "source": [
    "import os\n",
    "import pprint\n",
    "import sys\n",
    "\n",
    "import ee\n",
    "from IPython.display import Image\n",
    "\n",
    "import openet.disalexi.disalexi as eedisalexi\n",
    "import openet.disalexi.landsat as landsat\n",
    "import openet.disalexi.utils as utils"
   ]
  },
  {
   "cell_type": "code",
   "execution_count": 2,
   "metadata": {},
   "outputs": [],
   "source": [
    "pp = pprint.PrettyPrinter(indent=2)\n",
    "ee.Initialize()"
   ]
  },
  {
   "cell_type": "code",
   "execution_count": 3,
   "metadata": {
    "collapsed": true
   },
   "outputs": [],
   "source": [
    "# AmeriFlux sites adjusted to nearest Landsat cell centroid\n",
    "# http://sites.ameriflux.lbl.gov/US-NE1/\n",
    "ne1_xy = [-96.47672812080845, 41.16506126041818]\n",
    "ne2_xy = [-96.46994024736414, 41.16491226772292]\n",
    "ne3_xy = [-96.43968912903934, 41.17964494123755]\n",
    "ne1_geom = ee.Geometry.Point(ne1_xy)\n",
    "ne2_geom = ee.Geometry.Point(ne2_xy)\n",
    "ne3_geom = ee.Geometry.Point(ne3_xy)"
   ]
  },
  {
   "cell_type": "markdown",
   "metadata": {},
   "source": [
    "### Extract the validation asset values at the test point"
   ]
  },
  {
   "cell_type": "code",
   "execution_count": 4,
   "metadata": {},
   "outputs": [
    {
     "name": "stdout",
     "output_type": "stream",
     "text": [
      "albedo: 0.1990811824798584\n",
      "LST: 302.4907495117187\n",
      "NDVI: 0.8460000157356262\n"
     ]
    }
   ],
   "source": [
    "asset_ws = 'users/cgmorton/disalexi/LC08_028031_20140708/'\n",
    "asset_albedo_img = ee.Image(asset_ws + 'albedo')\n",
    "asset_lst_img = ee.Image(asset_ws + 'lst').add(0.01)  # To match IDL codes that use 273.16 to convert K to C\n",
    "asset_ndvi_img = ee.Image(asset_ws + 'ndvi')\n",
    "\n",
    "asset_albedo = utils.image_value(asset_albedo_img, xy=ne1_xy)['albedo']\n",
    "print('albedo: {}'.format(asset_albedo))\n",
    "\n",
    "asset_lst = utils.image_value(asset_lst_img, xy=ne1_xy)['lst']\n",
    "print('LST: {}'.format(asset_lst))\n",
    "\n",
    "asset_ndvi = utils.image_value(asset_ndvi_img, xy=ne1_xy)['ndvi']\n",
    "print('NDVI: {}'.format(asset_ndvi))"
   ]
  },
  {
   "cell_type": "markdown",
   "metadata": {},
   "source": [
    "### Extract the radiance values from the \"raw\" pre/C1 images\n",
    "\n",
    "Images were downloaded from the GCS buckets.  Not sure if it is worth downloading the images from the USGS or amazon also.\n",
    "\n",
    "https://console.cloud.google.com/storage/browser/gcp-public-data-landsat/LC08/01/028/031/LC08_L1TP_028031_20140708_20170304_01_T1\n",
    "\n",
    "https://console.cloud.google.com/storage/browser/gcp-public-data-landsat/LC08/PRE/028/031/LC80280312014189LGN00/"
   ]
  },
  {
   "cell_type": "code",
   "execution_count": 5,
   "metadata": {
    "collapsed": true
   },
   "outputs": [],
   "source": [
    "# pre = {'B2': 10483, 'B3': 10104, 'B4': 8777, 'B5': 32426,\n",
    "#        'B6': 15784, 'B7': 10639, 'B10': 23622, 'BQA': 20480}\n",
    "# c1 = {'B2': 10484, 'B3': 10102, 'B4': 8775, 'B5': 32418,\n",
    "#       'B6': 15780, 'B7': 10638, 'B10': 23912, 'BQA': 2720}"
   ]
  },
  {
   "cell_type": "markdown",
   "metadata": {},
   "source": [
    "### Check that the GEE images have the same radiance values"
   ]
  },
  {
   "cell_type": "code",
   "execution_count": 6,
   "metadata": {},
   "outputs": [
    {
     "name": "stdout",
     "output_type": "stream",
     "text": [
      "Red: 7341\n",
      "NIR: 24527\n",
      "LST: 26718\n",
      "\n",
      "Red: 7342\n",
      "NIR: 24503\n",
      "LST: 27000\n"
     ]
    }
   ],
   "source": [
    "pre_rad_img = ee.Image('LANDSAT/LC8_L1T/LC80280312014189LGN00')\n",
    "c1_rad_img = ee.Image('LANDSAT/LC08/C01/T1_RT/LC08_028031_20140708')\n",
    "\n",
    "pre_rad_values = utils.image_value(pre_rad_img, xy=ne1_xy)\n",
    "print('Red: {}'.format(pre_rad_values['B4']))\n",
    "print('NIR: {}'.format(pre_rad_values['B5']))\n",
    "print('LST: {}'.format(pre_rad_values['B10']))\n",
    "c1_rad_values = utils.image_value(c1_rad_img, xy=ne1_xy)\n",
    "print('\\nRed: {}'.format(c1_rad_values['B4']))\n",
    "print('NIR: {}'.format(c1_rad_values['B5']))\n",
    "print('LST: {}'.format(c1_rad_values['B10']))"
   ]
  },
  {
   "cell_type": "markdown",
   "metadata": {},
   "source": [
    "### Print the GEE image TOA values"
   ]
  },
  {
   "cell_type": "code",
   "execution_count": 7,
   "metadata": {},
   "outputs": [
    {
     "name": "stdout",
     "output_type": "stream",
     "text": [
      "Red: 0.052059274166822433\n",
      "NIR: 0.4342424273490906\n",
      "LST: 295.95098876953125\n",
      "\n",
      "Red: 0.05213770270347595\n",
      "NIR: 0.43417665362358093\n",
      "LST: 296.6331787109375\n"
     ]
    }
   ],
   "source": [
    "pre_toa_img = ee.Image('LANDSAT/LC8_L1T_TOA/LC80280312014189LGN00')\n",
    "c1_toa_img = ee.Image('LANDSAT/LC08/C01/T1_RT_TOA/LC08_028031_20140708')\n",
    "\n",
    "pre_toa_values = utils.image_value(pre_toa_img, xy=ne1_xy)\n",
    "print('Red: {}'.format(pre_toa_values['B4']))\n",
    "print('NIR: {}'.format(pre_toa_values['B5']))\n",
    "print('LST: {}'.format(pre_toa_values['B10']))\n",
    "c1_toa_values = utils.image_value(c1_toa_img, xy=ne1_xy)\n",
    "print('\\nRed: {}'.format(c1_toa_values['B4']))\n",
    "print('NIR: {}'.format(c1_toa_values['B5']))\n",
    "print('LST: {}'.format(c1_toa_values['B10']))"
   ]
  },
  {
   "cell_type": "markdown",
   "metadata": {},
   "source": [
    "### Print the GEE image SR values"
   ]
  },
  {
   "cell_type": "code",
   "execution_count": 8,
   "metadata": {},
   "outputs": [
    {
     "name": "stdout",
     "output_type": "stream",
     "text": [
      "Red: 0.0302\n",
      "NIR: 0.4344\n"
     ]
    }
   ],
   "source": [
    "pre_sr_img = ee.Image('LANDSAT/LC8_SR/LC80280312014189').multiply(0.0001)\n",
    "pre_sr_values = utils.image_value(pre_sr_img, xy=ne1_xy)\n",
    "print('Red: {}'.format(pre_sr_values['B4']))\n",
    "print('NIR: {}'.format(pre_sr_values['B5']))\n",
    "# There is no thermal band in the old GEE Landsat SR images\n",
    "# print('LST: {}'.format(pre_sr_values['B10']))"
   ]
  },
  {
   "cell_type": "markdown",
   "metadata": {},
   "source": [
    "### Compute NDVI"
   ]
  },
  {
   "cell_type": "code",
   "execution_count": 9,
   "metadata": {
    "collapsed": true
   },
   "outputs": [],
   "source": [
    "def ndvi(a, b):\n",
    "    return (float(a) - b) / (a + b)"
   ]
  },
  {
   "cell_type": "code",
   "execution_count": 10,
   "metadata": {},
   "outputs": [
    {
     "name": "stdout",
     "output_type": "stream",
     "text": [
      "PRE TOA NDVI: 0.7858972156398308\n",
      "C1 TOA NDVI:  0.7855802444441421\n",
      "PRE SR NDVI:  0.8699956952216961\n"
     ]
    }
   ],
   "source": [
    "print('PRE TOA NDVI: {}'.format(ndvi(pre_toa_values['B5'], pre_toa_values['B4'])))\n",
    "print('C1 TOA NDVI:  {}'.format(ndvi(c1_toa_values['B5'], c1_toa_values['B4'])))\n",
    "print('PRE SR NDVI:  {}'.format(ndvi(pre_sr_values['B5'], pre_sr_values['B4'])))"
   ]
  },
  {
   "cell_type": "markdown",
   "metadata": {},
   "source": [
    "### Compute albedo"
   ]
  },
  {
   "cell_type": "code",
   "execution_count": 11,
   "metadata": {},
   "outputs": [
    {
     "name": "stdout",
     "output_type": "stream",
     "text": [
      "PRE TOA Albedo: 0.22201117428094153\n",
      "C1 TOA Albedo:  0.2220337672501803\n",
      "PRE SR Albedo:  0.1952039\n"
     ]
    }
   ],
   "source": [
    "coefs = {'B2': 0.356, 'B4': 0.130, 'B5': 0.373, 'B6': 0.085, 'B7': 0.072}\n",
    "print('PRE TOA Albedo: {}'.format(sum([c * pre_toa_values[b] for b, c in coefs.items()]) - 0.0018))\n",
    "print('C1 TOA Albedo:  {}'.format(sum([c * c1_toa_values[b] for b, c in coefs.items()]) - 0.0018))\n",
    "print('PRE SR Albedo:  {}'.format(sum([c * pre_sr_values[b] for b, c in coefs.items()]) - 0.0018))"
   ]
  },
  {
   "cell_type": "markdown",
   "metadata": {},
   "source": [
    "### Check that the Landsat class is properly renaming the bands"
   ]
  },
  {
   "cell_type": "code",
   "execution_count": 12,
   "metadata": {},
   "outputs": [
    {
     "name": "stdout",
     "output_type": "stream",
     "text": [
      "\n",
      "Red: 0.05213770270347595\n",
      "NIR: 0.43417665362358093\n",
      "LST: 296.6331787109375\n"
     ]
    }
   ],
   "source": [
    "input_image = landsat.Landsat(c1_toa_img).input_image\n",
    "input_values = utils.image_value(input_image, xy=ne1_xy)\n",
    "print('\\nRed: {}'.format(input_values['red']))\n",
    "print('NIR: {}'.format(input_values['nir']))\n",
    "print('LST: {}'.format(input_values['lst']))"
   ]
  },
  {
   "cell_type": "markdown",
   "metadata": {},
   "source": [
    "### Check the Landsat class NDVI calculation"
   ]
  },
  {
   "cell_type": "code",
   "execution_count": 13,
   "metadata": {},
   "outputs": [
    {
     "name": "stdout",
     "output_type": "stream",
     "text": [
      "NDVI: 0.7855802178382874\n"
     ]
    }
   ],
   "source": [
    "prep_img = ee.Image(landsat.Landsat(c1_toa_img).prep())\n",
    "prep_values = utils.image_value(prep_img, xy=ne1_xy)\n",
    "print('NDVI: {}'.format(prep_values['ndvi']))"
   ]
  },
  {
   "cell_type": "markdown",
   "metadata": {},
   "source": [
    "### Check the Landsat class albedo calculation"
   ]
  },
  {
   "cell_type": "code",
   "execution_count": 14,
   "metadata": {},
   "outputs": [
    {
     "name": "stdout",
     "output_type": "stream",
     "text": [
      "Albedo: 0.2220337672501803\n"
     ]
    }
   ],
   "source": [
    "prep_img = ee.Image(landsat.Landsat(c1_toa_img).prep())\n",
    "prep_values = utils.image_value(prep_img, xy=ne1_xy)\n",
    "print('Albedo: {}'.format(prep_values['albedo']))"
   ]
  },
  {
   "cell_type": "markdown",
   "metadata": {},
   "source": [
    "### Check the Landsat class LST calculation"
   ]
  },
  {
   "cell_type": "code",
   "execution_count": 15,
   "metadata": {},
   "outputs": [
    {
     "name": "stdout",
     "output_type": "stream",
     "text": [
      "LST: 300.3789960858447\n"
     ]
    }
   ],
   "source": [
    "prep_img = ee.Image(landsat.Landsat(c1_toa_img).prep())\n",
    "prep_values = utils.image_value(prep_img, xy=ne1_xy)\n",
    "print('LST: {}'.format(prep_values['lst']))"
   ]
  },
  {
   "cell_type": "code",
   "execution_count": null,
   "metadata": {
    "collapsed": true
   },
   "outputs": [],
   "source": []
  },
  {
   "cell_type": "code",
   "execution_count": null,
   "metadata": {},
   "outputs": [],
   "source": []
  }
 ],
 "metadata": {
  "kernelspec": {
   "display_name": "Python 3",
   "language": "python",
   "name": "python3"
  },
  "language_info": {
   "codemirror_mode": {
    "name": "ipython",
    "version": 3
   },
   "file_extension": ".py",
   "mimetype": "text/x-python",
   "name": "python",
   "nbconvert_exporter": "python",
   "pygments_lexer": "ipython3",
   "version": "3.6.6"
  }
 },
 "nbformat": 4,
 "nbformat_minor": 2
}
