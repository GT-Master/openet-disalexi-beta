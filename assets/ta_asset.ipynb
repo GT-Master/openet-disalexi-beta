{
 "cells": [
  {
   "cell_type": "code",
   "execution_count": 1,
   "metadata": {},
   "outputs": [],
   "source": [
    "import datetime\n",
    "import math\n",
    "import pprint\n",
    "import time\n",
    "\n",
    "import ee\n",
    "from IPython.display import Image\n",
    "\n",
    "import openet\n",
    "import openet.disalexi.disalexi as disalexi\n",
    "import openet.disalexi.landsat as landsat\n",
    "import openet.disalexi.utils as utils\n",
    "\n",
    "ee.Initialize()"
   ]
  },
  {
   "cell_type": "code",
   "execution_count": 2,
   "metadata": {},
   "outputs": [],
   "source": [
    "# start_date = '2015-07-11'\n",
    "# end_date = '2015-07-12'\n",
    "start_date = '2015-07-01'\n",
    "end_date = '2015-08-01'\n",
    "\n",
    "ta_landsat_id = 'projects/disalexi/ta/landsat'\n",
    "ta_coarse_id = 'projects/disalexi/ta/CONUS'\n",
    "\n",
    "asset_dt_fmt = '%Y%m%d'\n",
    "asset_id_fmt = '{collection_id}/{date}'\n",
    "task_id_fmt = 'disalexi_tair_conus_{date}'\n",
    "\n",
    "start_dt = datetime.datetime.strptime(start_date, '%Y-%m-%d')\n",
    "end_dt = datetime.datetime.strptime(end_date, '%Y-%m-%d')"
   ]
  },
  {
   "cell_type": "markdown",
   "metadata": {},
   "source": [
    "### ALEXI Properties"
   ]
  },
  {
   "cell_type": "code",
   "execution_count": 3,
   "metadata": {},
   "outputs": [],
   "source": [
    "alexi_coll = ee.ImageCollection('projects/disalexi/alexi/CONUS')\n",
    "# print(ee.Image(alexi_coll.first()).projection().getInfo()['transform'])\n",
    "# print(ee.Image(alexi_coll.first()).projection().getInfo()['crs'])\n",
    "# print(ee.Image(alexi_coll.first()).getInfo()['bands'][0]['dimensions'])\n",
    "alexi_cs = 0.04\n",
    "alexi_geo = [0.04, 0.0, -125.04, 0.0, -0.04, 49.82]\n",
    "\n",
    "alexi_shape = [1456, 625]\n",
    "alexi_crs = 'EPSG:4326'\n",
    "\n",
    "alexi_extent = [\n",
    "    alexi_geo[2], alexi_geo[5] + alexi_geo[4] * alexi_shape[1], \n",
    "    alexi_geo[2] + alexi_geo[0] * alexi_shape[0], alexi_geo[5]]\n",
    "alexi_region = ee.Geometry.Rectangle(alexi_extent, alexi_crs, False) \\\n",
    "    .bounds(1, 'EPSG:4326').coordinates().getInfo()\n",
    "# print(alexi_extent)\n",
    "# print(alexi_region)\n",
    "\n",
    "alexi_geo_str = '[' + ','.join(list(map(str, alexi_geo))) + ']'\n",
    "alexi_shape_str = '{0}x{1}'.format(*alexi_shape)\n",
    "# print(alexi_geo_str)\n",
    "# print(alexi_shape_str)"
   ]
  },
  {
   "cell_type": "markdown",
   "metadata": {},
   "source": [
    "### Study Area Properties"
   ]
  },
  {
   "cell_type": "code",
   "execution_count": 4,
   "metadata": {},
   "outputs": [
    {
     "name": "stdout",
     "output_type": "stream",
     "text": [
      "[0.002,0.0,-123.0,0.0,-0.002,40.0]\n",
      "1300x1100\n",
      "0p002\n"
     ]
    }
   ],
   "source": [
    "# Input parameters\n",
    "output_crs = 'EPSG:4326'\n",
    "\n",
    "# output_cs = 0.001   # ~100m\n",
    "output_cs = 0.002   # ~100m\n",
    "# output_cs = 0.005   # Internal Error\n",
    "# output_cs = 0.01   # Internal Error\n",
    "# output_cs = 0.04   # Internal Error\n",
    "# output_cs = alexi_geo[0]\n",
    "\n",
    "# output_extent = [-121.9, 38.8, -121.7, 38.9]  # Study Area\n",
    "# output_extent = [-122.0, 38.7, -121.6, 39.0]  # Study Area\n",
    "# output_extent = [-122.0, 38.0, -121.0, 39.0]  # 1 x 1 deg\n",
    "output_extent = [-123.0, 37.8, -120.4, 40.0]  # LC08_044033_20150711\n",
    "# output_extent = [-123, 35, -118.5, 40]  # Central Valley\n",
    "# output_extent = [-125, 32, -114, 42]  # California / Nevada\n",
    "# output_extent = [-125, 25, -65, 50]  # CONUS\n",
    "\n",
    "# Computed parameters\n",
    "output_geom = ee.Geometry.Rectangle(output_extent, output_crs, False)\n",
    "output_region = output_geom.bounds(1, output_crs).coordinates().getInfo()[0][:-1]\n",
    "output_xmin = min(x for x, y in output_region)\n",
    "output_ymin = min(y for x, y in output_region)\n",
    "output_xmax = max(x for x, y in output_region)\n",
    "output_ymax = max(y for x, y in output_region)\n",
    "# Expand extent when snapping\n",
    "output_xmin = math.floor((output_xmin - alexi_extent[0]) / output_cs) * output_cs + alexi_extent[0]\n",
    "output_ymin = math.floor((output_ymin - alexi_extent[3]) / output_cs) * output_cs + alexi_extent[3]\n",
    "output_xmax = math.ceil((output_xmax - alexi_extent[0]) / output_cs) * output_cs + alexi_extent[0]\n",
    "output_ymax = math.ceil((output_ymax - alexi_extent[3]) / output_cs) * output_cs + alexi_extent[3]\n",
    "# Limit output extent to ALEXI extent for now\n",
    "output_xmin = max(output_xmin, alexi_extent[0])\n",
    "output_ymin = max(output_ymin, alexi_extent[1])\n",
    "output_xmax = min(output_xmax, alexi_extent[2])\n",
    "output_ymax = min(output_ymax, alexi_extent[3])\n",
    "output_extent = [output_xmin, output_ymin, output_xmax, output_ymax]\n",
    "output_geo = [output_cs, 0.0, output_xmin, 0.0, -output_cs, output_ymax]\n",
    "# output_geo = [alexi_geo[0], 0.0, output_xmin, 0.0, alexi_geo[4], output_ymax]\n",
    "output_geo_str = '[' + ','.join(list(map(str, output_geo))) + ']'\n",
    "output_shape_str = '{0}x{1}'.format(\n",
    "    int(abs(output_extent[2] - output_extent[0]) / output_cs),\n",
    "    int(abs(output_extent[3] - output_extent[1]) / output_cs))\n",
    "output_cs_str = '{:0.3f}'.format(output_cs).replace('.', 'p')\n",
    "print(output_geo_str)\n",
    "print(output_shape_str)\n",
    "print(output_cs_str)"
   ]
  },
  {
   "cell_type": "markdown",
   "metadata": {},
   "source": [
    "### Landsat Image, Collection, and Properties"
   ]
  },
  {
   "cell_type": "code",
   "execution_count": 5,
   "metadata": {},
   "outputs": [
    {
     "name": "stdout",
     "output_type": "stream",
     "text": [
      "EPSG:32610\n",
      "[30.0,0.0,499785.0,0.0,-30.0,4423215.0]\n",
      "7671x7791\n"
     ]
    }
   ],
   "source": [
    "landsat_id = 'LC08_044033_20150711'\n",
    "landsat_img = ee.Image('LANDSAT/LC08/C01/T1_RT_TOA/LC08_044033_20150711')\n",
    "\n",
    "landsat_crs = landsat_img.select(['B2']).projection().getInfo()['crs']\n",
    "landsat_geo = landsat_img.select(['B2']).projection().getInfo()['transform']\n",
    "landsat_shape = landsat_img.select(['B2']).getInfo()['bands'][0]['dimensions']\n",
    "landsat_geo_str = '[' + ','.join(list(map(str, landsat_geo))) + ']'\n",
    "landsat_shape_str = '{0}x{1}'.format(*landsat_shape)\n",
    "print(landsat_crs)\n",
    "print(landsat_geo_str)\n",
    "print(landsat_shape_str)"
   ]
  },
  {
   "cell_type": "code",
   "execution_count": 6,
   "metadata": {},
   "outputs": [
    {
     "name": "stdout",
     "output_type": "stream",
     "text": [
      "['LC08_043032_20150704',\n",
      " 'LC08_043032_20150720',\n",
      " 'LC08_043033_20150720',\n",
      " 'LC08_043034_20150704',\n",
      " 'LC08_043034_20150720',\n",
      " 'LC08_044032_20150711',\n",
      " 'LC08_044032_20150727',\n",
      " 'LC08_044033_20150711',\n",
      " 'LC08_044033_20150727',\n",
      " 'LC08_044034_20150711',\n",
      " 'LC08_044034_20150727',\n",
      " 'LC08_045032_20150702',\n",
      " 'LC08_045032_20150718',\n",
      " 'LC08_045033_20150702',\n",
      " 'LC08_045033_20150718',\n",
      " 'LC08_045034_20150718']\n"
     ]
    }
   ],
   "source": [
    "landsat_coll = ee.ImageCollection('LANDSAT/LC08/C01/T1_RT_TOA') \\\n",
    "    .filterDate(start_date, end_date) \\\n",
    "    .filterBounds(output_geom) \\\n",
    "    .filterMetadata('CLOUD_COVER_LAND', 'less_than', 70)\n",
    "\n",
    "# l7_coll = ee.ImageCollection('LANDSAT/LE07/C01/T1_RT_TOA') \\\n",
    "#     .filterDate(start_date, end_date) \\\n",
    "#     .filterBounds(output_geom) \\\n",
    "#     .filterMetadata('CLOUD_COVER_LAND', 'less_than', 70)\n",
    "# l8_coll = ee.ImageCollection('LANDSAT/LC08/C01/T1_RT_TOA') \\\n",
    "#     .filterDate(start_date, end_date) \\\n",
    "#     .filterBounds(output_geom) \\\n",
    "#     .filterMetadata('CLOUD_COVER_LAND', 'less_than', 70)\n",
    "# landast_coll = ee.ImageCollection(l7_coll.merge(l8_coll))\n",
    "\n",
    "#     .filterMetadata('WRS_PATH', 'equals', 44) \\\n",
    "#     .filterMetadata('WRS_ROW', 'less_than', 35) \\\n",
    "#     .filterMetadata('WRS_ROW', 'greater_than', 32)\n",
    "#     .filterMetadata('WRS_ROW', 'equals', 33)\n",
    "\n",
    "pprint.pprint(list(landsat_coll.aggregate_histogram('system:index').getInfo().keys()))"
   ]
  },
  {
   "cell_type": "markdown",
   "metadata": {},
   "source": [
    "### Functions"
   ]
  },
  {
   "cell_type": "code",
   "execution_count": 7,
   "metadata": {},
   "outputs": [],
   "source": [
    "def date_range(start_dt, end_dt, days=1, skip_leap_days=False):\n",
    "    \"\"\"Generate dates within a range (inclusive)\n",
    "\n",
    "    Parameters\n",
    "    ----------\n",
    "    start_dt : datetime\n",
    "        Start date.\n",
    "    end_dt : datetime\n",
    "        End date (inclusive).\n",
    "    days : int, optional\n",
    "        Step size (the default is 1).\n",
    "    skip_leap_days : bool, optional\n",
    "        If True, skip leap days while incrementing (the default is False).\n",
    "\n",
    "    Yields\n",
    "    ------\n",
    "    datetime\n",
    "\n",
    "    \"\"\"\n",
    "    import copy\n",
    "    curr_dt = copy.copy(start_dt)\n",
    "    while curr_dt <= end_dt:\n",
    "        if not skip_leap_days or curr_dt.month != 2 or curr_dt.day != 29:\n",
    "            yield curr_dt\n",
    "        curr_dt += datetime.timedelta(days=days)"
   ]
  },
  {
   "cell_type": "code",
   "execution_count": 8,
   "metadata": {},
   "outputs": [],
   "source": [
    "def get_affine_transform(image):\n",
    "    return ee.List(ee.Dictionary(ee.Algorithms.Describe(image.projection())).get('transform'))"
   ]
  },
  {
   "cell_type": "markdown",
   "metadata": {},
   "source": [
    "### Coarse Ta Function"
   ]
  },
  {
   "cell_type": "code",
   "execution_count": 9,
   "metadata": {},
   "outputs": [],
   "source": [
    "def ta_landsat_func(l_img):\n",
    "    input_img = ee.Image(landsat.Landsat(l_img).prep())\n",
    "\n",
    "    # Use the CONUS ALEXI ET but the global landcover and elevation products\n",
    "    d_obj = disalexi.Image(\n",
    "        input_img, \n",
    "        iterations=10,\n",
    "        elevation=ee.Image('USGS/SRTMGL1_003').rename(['elevation']),\n",
    "        landcover=ee.Image(ee.ImageCollection('users/cgmorton/GlobeLand30')\n",
    "                               .filterBounds(l_img.geometry().bounds(1)).mosaic()) \\\n",
    "            .divide(10).floor().multiply(10).rename(['landcover']),\n",
    "        lc_type='GLOBELAND30',\n",
    "        tair_values=list(range(273, 321, 1)),\n",
    "    )\n",
    "    \n",
    "    return d_obj.compute_ta()\n",
    "    # landsat_crs = landsat_img.select(['B2']).projection().crs()\n",
    "    # landsat_geo = get_affine_transform(landsat_img.select(['B2']))\n",
    "    # return d_obj.compute_ta().reproject(crs=landsat_crs, crsTransform=landsat_geo)\n",
    "    \n",
    "    \n",
    "def ta_coarse_func(l_img):\n",
    "    input_img = ee.Image(landsat.Landsat(l_img).prep())\n",
    "\n",
    "    # Use the CONUS ALEXI ET but the global landcover and elevation products\n",
    "    d_obj = disalexi.Image(\n",
    "        input_img, \n",
    "        iterations=10,\n",
    "        elevation=ee.Image('USGS/SRTMGL1_003').rename(['elevation']),\n",
    "        landcover=ee.Image(ee.ImageCollection('users/cgmorton/GlobeLand30')\n",
    "                           .filterBounds(l_img.geometry().bounds(1)).mosaic()) \\\n",
    "            .divide(10).floor().multiply(10).rename(['landcover']),\n",
    "        lc_type='GLOBELAND30',\n",
    "        tair_values=list(range(273, 321, 1)),\n",
    "    )\n",
    "    \n",
    "    landsat_crs = landsat_img.select(['B2']).projection().crs()\n",
    "    landsat_geo = get_affine_transform(landsat_img.select(['B2']))\n",
    "    \n",
    "    return d_obj.compute_ta()\\\n",
    "        .reproject(crs=landsat_crs, crsTransform=landsat_geo)\\\n",
    "        .reduceResolution(reducer=ee.Reducer.mean(), maxPixels=65535) \\\n",
    "        .reproject(crs=output_crs, crsTransform=output_geo) \\\n",
    "        .updateMask(1)"
   ]
  },
  {
   "cell_type": "markdown",
   "metadata": {},
   "source": [
    "### Ta Coarse Export"
   ]
  },
  {
   "cell_type": "code",
   "execution_count": 10,
   "metadata": {},
   "outputs": [
    {
     "name": "stdout",
     "output_type": "stream",
     "text": [
      "{'type': 'Image', 'bands': [{'id': 't_air', 'data_type': {'type': 'PixelType', 'precision': 'double'}, 'crs': 'EPSG:4326', 'crs_transform': [0.002, 0.0, -123.0, 0.0, -0.002, 40.0]}], 'properties': {'DATE': '2015-07-11', 'DISALEXI_VERSION': '0.0.2', 'DATE_INGESTED': '2018-11-01'}}\n"
     ]
    }
   ],
   "source": [
    "# for export_dt in date_range(start_dt, end_dt):\n",
    "export_dt = datetime.datetime(2015, 7, 11)\n",
    "export_date = export_dt.strftime('%Y-%m-%d')\n",
    "next_date = (export_dt + datetime.timedelta(days=1)).strftime('%Y-%m-%d')\n",
    "# print(export_date)\n",
    "\n",
    "# asset_id = asset_id_fmt.format(collection_id=ta_coarse_id, \n",
    "#                                date=export_dt.strftime(asset_dt_fmt))\n",
    "# task_id = task_id_fmt.format(date=export_dt.strftime(asset_dt_fmt))\n",
    "# ta_coarse_coll = landsat_coll\\\n",
    "#     .filterDate(export_date, next_date)\\\n",
    "#     .map(ta_coarse_func)\n",
    "# ta_coarse_img = ee.ImageCollection(ta_coarse_coll)\\\n",
    "#     .mean()\\\n",
    "\n",
    "asset_id = '{coll}/{image}_{cs}'.format(\n",
    "    coll=ta_coarse_id, image=landsat_id, cs=output_cs_str)\n",
    "task_id = 'disalexi_tair_coarse_{image}_{cs}'.format(\n",
    "    image=landsat_id, cs=output_cs_str)\n",
    "ta_coarse_img = ta_coarse_func(landsat_img)\\\n",
    "    .setMulti({\n",
    "        'DATE_INGESTED': datetime.datetime.now().strftime('%Y-%m-%d'),\n",
    "        'DISALEXI_VERSION': openet.disalexi.__version__,\n",
    "        'DATE': export_date,\n",
    "    })\n",
    "\n",
    "print(ta_coarse_img.getInfo())\n",
    "\n",
    "task = ee.batch.Export.image.toAsset(\n",
    "    image=ee.Image(ta_coarse_img).toFloat(),\n",
    "    description=task_id,\n",
    "    assetId=asset_id,\n",
    "    crs=output_crs,\n",
    "    crsTransform=output_geo_str,\n",
    "    dimensions=output_shape_str,\n",
    ")\n",
    "# task.start()\n",
    "# time.sleep(1)\n",
    "# print(task.status())\n",
    "  \n",
    "#     break"
   ]
  },
  {
   "cell_type": "markdown",
   "metadata": {},
   "source": [
    "### Ta (Landsat) Export"
   ]
  },
  {
   "cell_type": "code",
   "execution_count": null,
   "metadata": {},
   "outputs": [],
   "source": [
    "export_dt = datetime.datetime(2015, 7, 11)\n",
    "export_date = export_dt.strftime('%Y-%m-%d')\n",
    "next_date = (export_dt + datetime.timedelta(days=1)).strftime('%Y-%m-%d')\n",
    "\n",
    "# l8_coll_id = 'LANDSAT/LC08/C01/T1_RT_TOA'\n",
    "# l8_coll = ee.ImageCollection(l8_coll_id) \\\n",
    "#     .filterDate(start_date, end_date) \\\n",
    "#     .filterBounds(ee.Geometry.Rectangle([-123, 35, -118.5, 40])) \\\n",
    "#     .filterMetadata('CLOUD_COVER_LAND', 'less_than', 70)\n",
    "# export_id_list = list(l8_coll.aggregate_histogram('system:index').getInfo().keys())\n",
    "# # print(export_id_list)\n",
    "\n",
    "# for export_id in export_id_list:\n",
    "    \n",
    "export_id = 'LC08_044033_20150711'\n",
    "print(export_id)\n",
    "export_img = ee.Image('{}/{}'.format(l8_coll_id, export_id))\n",
    "\n",
    "# Switch output cellsize to 60m\n",
    "export_cs = 60\n",
    "export_crs = export_img.select(['B2']).projection().getInfo()['crs']\n",
    "export_geo = export_img.select(['B2']).projection().getInfo()['transform']\n",
    "export_geo[0] = export_cs\n",
    "export_geo[4] = -export_cs\n",
    "export_shape = export_img.select(['B2']).getInfo()['bands'][0]['dimensions']\n",
    "export_shape[0] = int(export_shape[0] / (export_cs / 30) + 0.5)\n",
    "export_shape[1] = int(export_shape[1] / (export_cs / 30) + 0.5)\n",
    "# print(export_crs)\n",
    "# print(export_geo)\n",
    "# print(export_shape)\n",
    "\n",
    "asset_id = '{coll}_{cs}m/{image}_{cs}m'.format(\n",
    "    coll=ta_landsat_id, image=export_id, cs=export_cs)\n",
    "task_id = 'disalexi_tair_landsat_{image}_{cs}m'.format(\n",
    "    image=export_id, cs=export_cs)\n",
    "\n",
    "ta_landsat_img = ta_landsat_func(export_img)\\\n",
    "    .setMulti({\n",
    "        'DATE_INGESTED': datetime.datetime.now().strftime('%Y-%m-%d'),\n",
    "        'DISALEXI_VERSION': openet.disalexi.__version__,\n",
    "        'DATE': export_date,\n",
    "    })\n",
    "task = ee.batch.Export.image.toAsset(\n",
    "    image=ee.Image(ta_landsat_img).toFloat(),\n",
    "    description=task_id,\n",
    "    assetId=asset_id,\n",
    "    crs=export_crs,\n",
    "    crsTransform='[' + ','.join(list(map(str, export_geo))) + ']',\n",
    "    dimensions='{0}x{1}'.format(*export_shape),\n",
    ")\n",
    "# task.start()\n",
    "# time.sleep(1)\n",
    "# print(task.status())\n",
    "    \n",
    "#     break"
   ]
  },
  {
   "cell_type": "code",
   "execution_count": null,
   "metadata": {},
   "outputs": [],
   "source": [
    "export_id = 'LC08_044033_20150711'\n",
    "export_img = ee.Image('{}/{}'.format(l8_coll_id, export_id))\n",
    "\n",
    "# Switch output cellsize to 60m\n",
    "export_cs = 30\n",
    "export_crs = export_img.select(['B2']).projection().getInfo()['crs']\n",
    "export_geo = export_img.select(['B2']).projection().getInfo()['transform']\n",
    "export_geo[0] = export_cs\n",
    "export_geo[4] = -export_cs\n",
    "export_shape = export_img.select(['B2']).getInfo()['bands'][0]['dimensions']\n",
    "export_shape[0] = int(export_shape[0] / (export_cs / 30) + 0.5)\n",
    "export_shape[1] = int(export_shape[1] / (export_cs / 30) + 0.5)\n",
    "# print(export_crs)\n",
    "# print(export_geo)\n",
    "# print(export_shape)\n",
    "\n",
    "asset_id = '{coll}_{cs}m/{image}_{cs}m'.format(\n",
    "    coll=ta_landsat_id, image=export_id, cs=export_cs)\n",
    "task_id = 'disalexi_tair_landsat_{image}_{cs}m'.format(\n",
    "    image=export_id, cs=export_cs)\n",
    "\n",
    "ta_landsat_img = ta_landsat_func(export_img)\\\n",
    "    .setMulti({\n",
    "        'DATE_INGESTED': datetime.datetime.now().strftime('%Y-%m-%d'),\n",
    "        'DISALEXI_VERSION': openet.disalexi.__version__,\n",
    "        'DATE': export_date,\n",
    "    })\n",
    "task = ee.batch.Export.image.toAsset(\n",
    "    image=ee.Image(ta_landsat_img).toFloat(),\n",
    "    description=task_id,\n",
    "    assetId=asset_id,\n",
    "    crs=export_crs,\n",
    "    crsTransform='[' + ','.join(list(map(str, export_geo))) + ']',\n",
    "    dimensions='{0}x{1}'.format(*export_shape),\n",
    ")\n",
    "task.start()"
   ]
  },
  {
   "cell_type": "markdown",
   "metadata": {},
   "source": [
    "### Thumbnails"
   ]
  },
  {
   "cell_type": "code",
   "execution_count": null,
   "metadata": {},
   "outputs": [],
   "source": [
    "# thumbnail_crs = 'EPSG:4326'\n",
    "# thumbnail_cs = 0.005\n",
    "thumbnail_crs = 'EPSG:32610'\n",
    "thumbnail_cs = 120\n",
    "thumbnail_xy = output_geom.bounds(1, thumbnail_crs).coordinates().getInfo()[0]\n",
    "thumbnail_xmin = int(min(x for x, y in thumbnail_xy) / thumbnail_cs) * thumbnail_cs\n",
    "thumbnail_ymin = int(min(y for x, y in thumbnail_xy) / thumbnail_cs) * thumbnail_cs\n",
    "thumbnail_xmax = int(max(x for x, y in thumbnail_xy) / thumbnail_cs) * thumbnail_cs + thumbnail_cs\n",
    "thumbnail_ymax = int(max(y for x, y in thumbnail_xy) / thumbnail_cs) * thumbnail_cs + thumbnail_cs\n",
    "thumbnail_geo = [thumbnail_cs, 0.0, thumbnail_xmin, 0.0, thumbnail_cs, thumbnail_ymax]\n",
    "thumnbail_region = [[], [], [], []]\n",
    "thumbnail_shape_str = '{0}x{1}'.format(\n",
    "    int(abs(thumbnail_xmax - thumbnail_xmin) / thumbnail_cs),\n",
    "    int(abs(thumbnail_ymax - thumbnail_ymin) / thumbnail_cs))\n",
    "print(thumbnail_crs)\n",
    "print(thumbnail_geo)\n",
    "print(thumbnail_shape_str)"
   ]
  },
  {
   "cell_type": "code",
   "execution_count": null,
   "metadata": {},
   "outputs": [],
   "source": [
    "landsat_url = landsat_img.select(['B4', 'B3', 'B2'])\\\n",
    "    .reproject(crs=thumbnail_crs, crsTransform=thumbnail_geo)\\\n",
    "    .getThumbURL({'region': output_region, 'min': 0, 'max': 0.30})\n",
    "# print(landsat_url)\n",
    "Image(url=landsat_url)"
   ]
  },
  {
   "cell_type": "code",
   "execution_count": null,
   "metadata": {},
   "outputs": [],
   "source": [
    "landsat_url = landsat_coll.filterDate('2015-07-11', '2015-07-12')\\\n",
    "    .median().select(['B4', 'B3', 'B2'])\\\n",
    "    .reproject(crs=thumbnail_crs, crsTransform=thumbnail_geo)\\\n",
    "    .getThumbURL({'region': output_region, 'min': 0, 'max': 0.30})\n",
    "# print(landsat_url)\n",
    "Image(url=landsat_url)"
   ]
  },
  {
   "cell_type": "code",
   "execution_count": null,
   "metadata": {},
   "outputs": [],
   "source": [
    "landsat_url = landsat_coll.filterDate('2015-07-11', '2015-07-12')\\\n",
    "      .mean().select(['B4', 'B3', 'B2'])\\\n",
    "      .reproject(crs=output_crs, crsTransform=output_geo)\\\n",
    "      .getThumbURL({'region': output_region, 'min': 0, 'max': 0.30})\n",
    "    # print(landsat_url)\n",
    "Image(url=landsat_url)"
   ]
  },
  {
   "cell_type": "markdown",
   "metadata": {},
   "source": [
    "### Ta Image"
   ]
  },
  {
   "cell_type": "code",
   "execution_count": null,
   "metadata": {},
   "outputs": [],
   "source": [
    "# ta_landsat_url = ta_landsat_func(landsat_img)\\\n",
    "#     .reproject(crs=thumbnail_crs, crsTransform=thumbnail_geo)\\\n",
    "#     .getThumbURL({\n",
    "#         'region': output_region, 'min': 273, 'max': 325, \n",
    "#         'palette': ','.join(['FF0000', 'FFFF00', '00FFFF', '0000FF'])})\n",
    "# print(ta_landsat_url)\n",
    "# Image(url=ta_landsat_url)"
   ]
  },
  {
   "cell_type": "code",
   "execution_count": null,
   "metadata": {},
   "outputs": [],
   "source": [
    "# ta_coarse_url = ta_coarse_func(landsat_img)\\\n",
    "#     .reproject(crs=thumbnail_crs, crsTransform=thumbnail_geo)\\\n",
    "#     .getThumbURL({'region': output_region, 'min': 273, 'max': 325, \n",
    "#                   'palette': ','.join(['FF0000', 'FFFF00', '00FFFF', '0000FF'])})\n",
    "# print(ta_coarse_url)\n",
    "# Image(url=ta_coarse_url)"
   ]
  },
  {
   "cell_type": "code",
   "execution_count": null,
   "metadata": {},
   "outputs": [],
   "source": []
  }
 ],
 "metadata": {
  "kernelspec": {
   "display_name": "Python 3",
   "language": "python",
   "name": "python3"
  },
  "language_info": {
   "codemirror_mode": {
    "name": "ipython",
    "version": 3
   },
   "file_extension": ".py",
   "mimetype": "text/x-python",
   "name": "python",
   "nbconvert_exporter": "python",
   "pygments_lexer": "ipython3",
   "version": "3.6.6"
  }
 },
 "nbformat": 4,
 "nbformat_minor": 2
}
