{
 "cells": [
  {
   "cell_type": "markdown",
   "metadata": {},
   "source": [
    "# Google Earth Engine (GEE) DisALEXI \n",
    "## Mexico 2015 - Landsat Collection 1 TOA\n",
    "\n",
    "Example of calling the GEE DisALEXI function on a mosaiced (merging rows) Landsat 8 Collection 1 top-of-atmosphere reflectance image.  \n",
    "Study area WRS2 tiles: p039r037, p038r037, p039r038, p038r038\n",
    "\n",
    "https://console.cloud.google.com/storage/browser/gcp-public-data-landsat/LC08/01/038/038/LC08_L1TP_038038_20150717_20170226_01_T1/"
   ]
  },
  {
   "cell_type": "code",
   "execution_count": 1,
   "metadata": {
    "collapsed": true
   },
   "outputs": [],
   "source": [
    "import ee\n",
    "from IPython.display import Image\n",
    "\n",
    "# For some reason the initialize has to be before the model imports below\n",
    "ee.Initialize()\n",
    "\n",
    "import openet.disalexi.disalexi as disalexi\n",
    "import openet.disalexi.landsat as landsat\n",
    "import openet.disalexi.utils as utils\n",
    "\n",
    "ndvi_palette = ['#EFE7E1', '#003300']\n",
    "ssebop_et_palette = [\n",
    "  'DEC29B', 'E6CDA1', 'EDD9A6', 'F5E4A9', 'FFF4AD', 'C3E683', '6BCC5C', \n",
    "  '3BB369', '20998F', '1C8691', '16678A', '114982', '0B2C7A']"
   ]
  },
  {
   "cell_type": "markdown",
   "metadata": {},
   "source": [
    "### Study area"
   ]
  },
  {
   "cell_type": "code",
   "execution_count": 2,
   "metadata": {},
   "outputs": [
    {
     "name": "stdout",
     "output_type": "stream",
     "text": [
      "[30,0,624000,0,-30,3625000]\n",
      "3000x3000\n"
     ]
    }
   ],
   "source": [
    "output_extent = [624000, 3535000, 714000, 3625000]\n",
    "output_crs = 'EPSG:32611'\n",
    "cell_size = 30\n",
    "output_transform = [cell_size, 0, output_extent[0], 0, -cell_size, output_extent[3]]\n",
    "output_transform_str = '[' + ','.join(map(str, output_transform)) + ']'\n",
    "output_shape_str = '{0}x{1}'.format(\n",
    "    int(abs(output_extent[2] - output_extent[0]) / cell_size),\n",
    "    int(abs(output_extent[3] - output_extent[1]) / cell_size))\n",
    "output_region = ee.Geometry.Rectangle(output_extent, output_crs, False) \\\n",
    "    .bounds(1, 'EPSG:4326').coordinates().getInfo()\n",
    "print(output_transform_str)\n",
    "print(output_shape_str)"
   ]
  },
  {
   "cell_type": "code",
   "execution_count": 3,
   "metadata": {
    "collapsed": true
   },
   "outputs": [],
   "source": [
    "thumbnail_region = [[-115.09, 32.32], [-115.09, 32.40], [-114.95, 32.40], [-114.95, 32.32]]\n",
    "thumbnail_geom = ee.Geometry.Polygon(thumbnail_region)"
   ]
  },
  {
   "cell_type": "markdown",
   "metadata": {},
   "source": [
    "### Prep DisALEXI Input"
   ]
  },
  {
   "cell_type": "code",
   "execution_count": 4,
   "metadata": {},
   "outputs": [
    {
     "name": "stdout",
     "output_type": "stream",
     "text": [
      "EPSG:32611\n",
      "[30.0, 0.0, 659985.0, 0.0, -30.0, 3789615.0]\n"
     ]
    }
   ],
   "source": [
    "landsat_a_img = ee.Image('LANDSAT/LC08/C01/T1_RT_TOA/LC08_038037_20150717')\n",
    "landsat_b_img = ee.Image('LANDSAT/LC08/C01/T1_RT_TOA/LC08_038038_20150717')\n",
    "\n",
    "# Get the projection information from the first image\n",
    "image_crs = landsat_a_img.select('B2').projection().crs().getInfo()\n",
    "image_transform = landsat_a_img.select('B2').projection().getInfo()['transform']\n",
    "image_geom = landsat_a_img.select('B2').geometry()\n",
    "print(image_crs)\n",
    "print(image_transform)\n",
    "\n",
    "# Mosaic images into a single Landsat image\n",
    "landsat_img = ee.Image(ee.ImageCollection([landsat_a_img, landsat_b_img]).mosaic()) \\\n",
    "    .reproject(crs=image_crs, crsTransform=image_transform)\n",
    "\n",
    "# Copy the image properties from the first image\n",
    "landsat_img = ee.Image(landsat_img.copyProperties(landsat_a_img, [\n",
    "    'system:time_start', 'system:index', 'SPACECRAFT_ID', \n",
    "    'K1_CONSTANT_BAND_10', 'K2_CONSTANT_BAND_10']))\n",
    "\n",
    "input_img = ee.Image(landsat.Landsat(landsat_img).prep())"
   ]
  },
  {
   "cell_type": "markdown",
   "metadata": {},
   "source": [
    "### NDVI "
   ]
  },
  {
   "cell_type": "code",
   "execution_count": 5,
   "metadata": {},
   "outputs": [
    {
     "data": {
      "text/html": [
       "<img src=\"https://earthengine.googleapis.com/api/thumb?thumbid=d06df16d645679ad7d37c1360c5e7578&token=103f51150111aa7671cd09f90836041c\"/>"
      ],
      "text/plain": [
       "<IPython.core.display.Image object>"
      ]
     },
     "execution_count": 5,
     "metadata": {},
     "output_type": "execute_result"
    }
   ],
   "source": [
    "Image(url=input_img.select(['ndvi']).paint(thumbnail_geom, 'red', 1).getThumbURL({\n",
    "    'region': output_region, 'min': -0.1, 'max': 0.9, \n",
    "    'palette': ','.join(ndvi_palette)}))"
   ]
  },
  {
   "cell_type": "markdown",
   "metadata": {},
   "source": [
    "### Apply DisALEXI"
   ]
  },
  {
   "cell_type": "code",
   "execution_count": 6,
   "metadata": {},
   "outputs": [],
   "source": [
    "# Use the CONUS ALEXI ET but the global landcover and elevation products\n",
    "disalexi = disalexi.Image(\n",
    "    input_img, \n",
    "    iterations=10,\n",
    "    elevation=ee.Image('USGS/SRTMGL1_003').rename(['elevation']),\n",
    "    landcover=ee.Image(\n",
    "        ee.ImageCollection('users/cgmorton/GlobeLand30').mosaic()) \\\n",
    "            .divide(10).floor().multiply(10).rename(['landcover']),\n",
    "    lc_type='GLOBELAND30')\n",
    "\n",
    "tair_img = disalexi.compute_ta() \\\n",
    "    .reproject(crs=output_crs, crsTransform=output_transform)\n",
    "\n",
    "tair_coarse_img = disalexi.aggregate(tair_img)\n",
    "# tair_smooth_img = disalexi.smooth(tair_coarse_img)\n",
    "\n",
    "et_img = disalexi.compute_et(tair_coarse_img) \\\n",
    "    .reproject(crs=output_crs, crsTransform=output_transform)"
   ]
  },
  {
   "cell_type": "code",
   "execution_count": 7,
   "metadata": {
    "collapsed": true
   },
   "outputs": [],
   "source": [
    "# print(t_air_img.getInfo())\n",
    "# print(t_air_coarse_img.getInfo())\n",
    "# print(et_img.getInfo())"
   ]
  },
  {
   "cell_type": "markdown",
   "metadata": {},
   "source": [
    "### Export to Drive"
   ]
  },
  {
   "cell_type": "code",
   "execution_count": 8,
   "metadata": {},
   "outputs": [],
   "source": [
    "et_task = ee.batch.Export.image.toDrive(\n",
    "    et_img,\n",
    "    description='LC08_038XXX_20150717_et',\n",
    "    folder='DisALEXI',\n",
    "    fileNamePrefix='LC08_038XXX_20150717_et',\n",
    "    dimensions=output_shape_str,\n",
    "    crs=output_crs,\n",
    "    crsTransform=output_transform_str,\n",
    "    maxPixels=1E10)"
   ]
  },
  {
   "cell_type": "code",
   "execution_count": 9,
   "metadata": {
    "collapsed": true
   },
   "outputs": [],
   "source": [
    "# tair_task = ee.batch.Export.image.toDrive(\n",
    "#     tair_img,\n",
    "#     description='LC08_038XXX_20150717_tair',\n",
    "#     folder='DisALEXI',\n",
    "#     fileNamePrefix='LC08_038XXX_20150717_tair',\n",
    "#     dimensions=output_shape_str,\n",
    "#     crs=output_crs,\n",
    "#     crsTransform=output_transform_str,\n",
    "#     maxPixels=1E10)"
   ]
  },
  {
   "cell_type": "code",
   "execution_count": 10,
   "metadata": {
    "collapsed": true
   },
   "outputs": [],
   "source": [
    "# tair_coarse_task = ee.batch.Export.image.toDrive(\n",
    "#     tair_coarse_img,\n",
    "#     description='LC08_038XXX_20150717_tair_coarse',\n",
    "#     folder='DisALEXI',\n",
    "#     fileNamePrefix='LC08_038XXX_20150717_tair_coarse',\n",
    "#     dimensions=output_shape_str,\n",
    "#     crs=output_crs,\n",
    "#     crsTransform=output_transform_str,\n",
    "#     maxPixels=1E10)"
   ]
  },
  {
   "cell_type": "code",
   "execution_count": 11,
   "metadata": {},
   "outputs": [],
   "source": [
    "# tair_task.start()\n",
    "# tair_coarse_task.start()\n",
    "# et_task.start()\n",
    "# print('Status: {}'.format(tair_task.status()))\n",
    "# print('Status: {}'.format(tair_coarse_task.status()))\n",
    "# print('Status: {}'.format(et_task.status()))"
   ]
  },
  {
   "cell_type": "markdown",
   "metadata": {},
   "source": [
    "### Thumbnails"
   ]
  },
  {
   "cell_type": "code",
   "execution_count": 12,
   "metadata": {},
   "outputs": [
    {
     "data": {
      "text/html": [
       "<img src=\"https://earthengine.googleapis.com/api/thumb?thumbid=1534c40d3fe69d2402ec6de20bdae0ee&token=5eb8a6eb310ae4ce39f1f672bd089791\"/>"
      ],
      "text/plain": [
       "<IPython.core.display.Image object>"
      ]
     },
     "execution_count": 12,
     "metadata": {},
     "output_type": "execute_result"
    }
   ],
   "source": [
    "Image(url=input_img.select(['ndvi']).getThumbURL({\n",
    "    'region': thumbnail_region, 'min': -0.1, 'max': 0.9, \n",
    "    'palette': ','.join(ndvi_palette)}))"
   ]
  },
  {
   "cell_type": "code",
   "execution_count": 13,
   "metadata": {},
   "outputs": [
    {
     "data": {
      "text/html": [
       "<img src=\"https://earthengine.googleapis.com/api/thumb?thumbid=023ec164cb6c554ecacebc09421b980e&token=dfc8bfe4e54874f9a49173a9a7166c99\"/>"
      ],
      "text/plain": [
       "<IPython.core.display.Image object>"
      ]
     },
     "execution_count": 13,
     "metadata": {},
     "output_type": "execute_result"
    }
   ],
   "source": [
    "alexi_url = ee.Image(disalexi.alexi_et).reproject(crs=output_crs, crsTransform=output_transform).getThumbURL({\n",
    "    'region': thumbnail_region, 'min': 0, 'max': 10, \n",
    "    'palette': ','.join(['FF0000', 'FFFF00', '00FFFF', '0000FF'])})\n",
    "# print(alexi_url)\n",
    "Image(url=alexi_url)"
   ]
  },
  {
   "cell_type": "code",
   "execution_count": 14,
   "metadata": {},
   "outputs": [
    {
     "data": {
      "text/html": [
       "<img src=\"https://earthengine.googleapis.com/api/thumb?thumbid=f5009cfc901149a472e91c248c3a434c&token=6591610b64514763d98144f93f2ae940\"/>"
      ],
      "text/plain": [
       "<IPython.core.display.Image object>"
      ]
     },
     "execution_count": 14,
     "metadata": {},
     "output_type": "execute_result"
    }
   ],
   "source": [
    "tair_url = tair_img.getThumbURL({\n",
    "    'region': thumbnail_region, 'min': 270, 'max': 330, \n",
    "    'palette': ','.join(['FF0000', 'FFFF00', '00FFFF', '0000FF'])})\n",
    "# print(tair_url)\n",
    "Image(url=tair_url)"
   ]
  },
  {
   "cell_type": "code",
   "execution_count": 15,
   "metadata": {},
   "outputs": [
    {
     "data": {
      "text/html": [
       "<img src=\"https://earthengine.googleapis.com/api/thumb?thumbid=577468eaadd716cfad6df2bdb77af04b&token=d83e7af09e1ad302ebdf6d3f2740eaa8\"/>"
      ],
      "text/plain": [
       "<IPython.core.display.Image object>"
      ]
     },
     "execution_count": 15,
     "metadata": {},
     "output_type": "execute_result"
    }
   ],
   "source": [
    "tair_coarse_url = tair_coarse_img.getThumbURL({\n",
    "    'region': thumbnail_region, 'min': 270, 'max': 330, \n",
    "    'palette': ','.join(['FF0000', 'FFFF00', '00FFFF', '0000FF'])})\n",
    "# print(tair_coarse_url)\n",
    "Image(url=tair_coarse_url)"
   ]
  },
  {
   "cell_type": "code",
   "execution_count": 16,
   "metadata": {},
   "outputs": [
    {
     "data": {
      "text/html": [
       "<img src=\"https://earthengine.googleapis.com/api/thumb?thumbid=ac886eed3b4074388aebd5980e06cbee&token=01d6226eead15c1e1d3b291d68d95c13\"/>"
      ],
      "text/plain": [
       "<IPython.core.display.Image object>"
      ]
     },
     "execution_count": 16,
     "metadata": {},
     "output_type": "execute_result"
    }
   ],
   "source": [
    "et_url = et_img.getThumbURL({\n",
    "    'region': thumbnail_region, 'min': 0, 'max': 10, \n",
    "    'palette': ','.join(ssebop_et_palette)})\n",
    "# print(et_url)\n",
    "Image(url=et_url)"
   ]
  },
  {
   "cell_type": "code",
   "execution_count": null,
   "metadata": {
    "collapsed": true
   },
   "outputs": [],
   "source": []
  },
  {
   "cell_type": "code",
   "execution_count": null,
   "metadata": {
    "collapsed": true
   },
   "outputs": [],
   "source": []
  },
  {
   "cell_type": "code",
   "execution_count": null,
   "metadata": {
    "collapsed": true
   },
   "outputs": [],
   "source": []
  },
  {
   "cell_type": "code",
   "execution_count": 17,
   "metadata": {
    "collapsed": true
   },
   "outputs": [],
   "source": [
    "# def aggregate_daily(image_coll, start_date, end_date, agg_type='mean'):\n",
    "#     \"\"\"Aggregate images by day\n",
    "\n",
    "#     This function should be used to mosaic Landsat images from same path\n",
    "#         but different rows\n",
    "#     Aggregation is currently hardcoded to 'mean'\n",
    "#     system:time_start of returned images will be 0 UTC (not the image time)\n",
    "\n",
    "#     Image Properties:\n",
    "#         DATE: Image date string in ISO format (YYYY-MM-DD)\n",
    "\n",
    "#     Args:\n",
    "#         image_coll (ee.ImageCollection): Input image collection.\n",
    "#         start_date (date/number/string): Start date.\n",
    "#             Needs to be an EE readable date (ISO Date string or milliseconds)\n",
    "#         end_date (date/number/string): End date.\n",
    "#             Needs to be an EE readable date (ISO Date string or milliseconds)\n",
    "#         agg_type (str): Aggregation type.\n",
    "#             Currently only 'mean' is supported for daily aggregations\n",
    "\n",
    "#     Returns:\n",
    "#         ee.ImageCollesction()\n",
    "#     \"\"\"\n",
    "#     date_list = ee.List.sequence(\n",
    "#         ee.Date(start_date).millis(),\n",
    "#         ee.Date(end_date).millis(),\n",
    "#         # ee.Date(end_date).advance(1, 'day').millis(),\n",
    "#         24 * 3600 * 1000)\n",
    "\n",
    "#     def set_date(time):\n",
    "#         \"\"\"Set system and date properties from a time_start value\n",
    "\n",
    "#         Intentionally set DOY as 0 padded 3 character string for joining\n",
    "#         Intentionally set month as integer (not string)\n",
    "#         \"\"\"\n",
    "#         return ee.Feature(None, {\n",
    "#             'system:index': ee.Date(time).format('yyyyMMdd'),\n",
    "#             'system:time_start': ee.Number(time).int64(),\n",
    "#             'DATE': ee.Date(time).format('yyyy-MM-dd'),\n",
    "#             'MONTH': ee.Number(ee.Date(time).get('month')),\n",
    "#             'DOY': ee.Number(ee.Date(time).getRelative('day', 'year')) \\\n",
    "#                 .int().add(1).format('%03d'),\n",
    "#             'TIME_0UTC': ee.Number(time).int64()\n",
    "#         })\n",
    "#     date_coll = ee.FeatureCollection(date_list.map(set_date))\n",
    "\n",
    "#     join_coll = ee.FeatureCollection(\n",
    "#         ee.Join.saveAll('join').apply(\n",
    "#             date_coll, image_coll,\n",
    "#             ee.Filter.equals(leftField='DATE', rightField='DATE')))\n",
    "\n",
    "#     def aggregate_func(ftr):\n",
    "#         # The composite image time will not be 0 UTC (not Landsat time)\n",
    "#         # if agg_type.lower() == 'mean':\n",
    "#         return ee.ImageCollection.fromImages(ftr.get('join')).mean() \\\n",
    "#             .copyProperties(ftr, etf_properties)\n",
    "\n",
    "#     return ee.ImageCollection(join_coll.map(aggregate_func))"
   ]
  },
  {
   "cell_type": "markdown",
   "metadata": {},
   "source": [
    "### DisALEXI ET Collection"
   ]
  },
  {
   "cell_type": "code",
   "execution_count": 18,
   "metadata": {
    "collapsed": true
   },
   "outputs": [],
   "source": [
    "# landsat_coll = ee.ImageCollection('LANDSAT/LC08/C01/T1_RT_TOA') \\\n",
    "#     .filterDate('2015-07-01', '2015-07-02') \\\n",
    "#     .filterBounds(ee.Geometry.Polygon(test_region))\n",
    "#     # .filterMetadata('WRS_PATH', 'equals', '39')\n",
    "# print(landsat_coll.aggregate_histogram('system:index').getInfo())\n",
    "\n",
    "# def apply_disalexi(landsat_img):\n",
    "#     disalexi = eedisalexi.DisALEXI(\n",
    "#         ee.Image(landsat.Landsat(landsat_img).prep()), \n",
    "#         iterations=10,\n",
    "#         elevation=ee.Image('USGS/SRTMGL1_003').rename(['elevation']),\n",
    "#         landcover=ee.Image(\n",
    "#             ee.ImageCollection('users/nbearson/GlobeLand30_2010').mosaic()) \\\n",
    "#                 .divide(10).floor().multiply(10) \\\n",
    "#                 .rename(['landcover']),\n",
    "#         lc_type='GLOBELAND30')\n",
    "#     t_air_img = disalexi.compute_ta()\n",
    "#     t_air_coarse_img = disalexi.aggregate(t_air_img) \\\n",
    "#         .reproject(crs='EPSG:4326', crsTransform=et_transform)\n",
    "#     et_img = disalexi.compute_et(t_air_coarse_img) \\\n",
    "#         .reproject(crs=image_crs, crsTransform=image_transform)\n",
    "#     return et_img\n",
    "\n",
    "# et_coll = ee.ImageCollection(landsat_coll.map(apply_disalexi))\n",
    "# print(et_coll.getInfo())\n",
    "\n",
    "# # pp.pprint(landsat_img.getInfo()['properties'])"
   ]
  },
  {
   "cell_type": "code",
   "execution_count": 19,
   "metadata": {
    "collapsed": true
   },
   "outputs": [],
   "source": [
    "# et_url = ee.Image(et_coll.mosaic()).getThumbURL({\n",
    "#     'region': test_region, 'min': 1, 'max': 7, \n",
    "#     'palette': ','.join(ssebop_et_palette)})\n",
    "# # print(et_url)"
   ]
  },
  {
   "cell_type": "code",
   "execution_count": 20,
   "metadata": {
    "collapsed": true
   },
   "outputs": [],
   "source": [
    "# Image(url=et_url)"
   ]
  },
  {
   "cell_type": "code",
   "execution_count": null,
   "metadata": {
    "collapsed": true
   },
   "outputs": [],
   "source": []
  }
 ],
 "metadata": {
  "kernelspec": {
   "display_name": "Python 3",
   "language": "python",
   "name": "python3"
  },
  "language_info": {
   "codemirror_mode": {
    "name": "ipython",
    "version": 3
   },
   "file_extension": ".py",
   "mimetype": "text/x-python",
   "name": "python",
   "nbconvert_exporter": "python",
   "pygments_lexer": "ipython3",
   "version": "3.6.6"
  }
 },
 "nbformat": 4,
 "nbformat_minor": 2
}
