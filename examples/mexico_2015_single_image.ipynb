{
 "cells": [
  {
   "cell_type": "markdown",
   "metadata": {},
   "source": [
    "# Google Earth Engine (GEE) DisALEXI \n",
    "## Mexico 2015 - Landsat Collection 1 TOA\n",
    "\n",
    "Example of calling the GEE DisALEXI function for a singleLandsat 8 Collection 1 top-of-atmosphere reflectance image.  \n",
    "Study area WRS2 tiles: p039r037, p038r037, p039r038, p038r038\n",
    "\n",
    "https://console.cloud.google.com/storage/browser/gcp-public-data-landsat/LC08/01/038/038/LC08_L1TP_038038_20150717_20170226_01_T1/"
   ]
  },
  {
   "cell_type": "code",
   "execution_count": 1,
   "metadata": {},
   "outputs": [],
   "source": [
    "import ee\n",
    "from IPython.display import Image\n",
    "\n",
    "import openet.disalexi.disalexi as disalexi\n",
    "import openet.disalexi.landsat as landsat\n",
    "import openet.disalexi.utils as utils\n",
    "\n",
    "ee.Initialize()\n",
    "\n",
    "ndvi_palette = ['#EFE7E1', '#003300']\n",
    "ssebop_et_palette = [\n",
    "  'DEC29B', 'E6CDA1', 'EDD9A6', 'F5E4A9', 'FFF4AD', 'C3E683', '6BCC5C', \n",
    "  '3BB369', '20998F', '1C8691', '16678A', '114982', '0B2C7A']"
   ]
  },
  {
   "cell_type": "markdown",
   "metadata": {},
   "source": [
    "### Study area"
   ]
  },
  {
   "cell_type": "code",
   "execution_count": 3,
   "metadata": {},
   "outputs": [
    {
     "name": "stdout",
     "output_type": "stream",
     "text": [
      "[30,0,624000,0,-30,3625000]\n",
      "3000x3000\n"
     ]
    }
   ],
   "source": [
    "output_extent = [624000, 3535000, 714000, 3625000]\n",
    "output_crs = 'EPSG:32611'\n",
    "cell_size = 30\n",
    "output_transform = [cell_size, 0, output_extent[0], 0, -cell_size, output_extent[3]]\n",
    "output_transform_str = '[' + ','.join(map(str, output_transform)) + ']'\n",
    "output_shape_str = '{0}x{1}'.format(\n",
    "    int(abs(output_extent[2] - output_extent[0]) / cell_size),\n",
    "    int(abs(output_extent[3] - output_extent[1]) / cell_size))\n",
    "output_region = ee.Geometry.Rectangle(output_extent, output_crs, False) \\\n",
    "    .bounds(1, 'EPSG:4326').coordinates().getInfo()\n",
    "print(output_transform_str)\n",
    "print(output_shape_str)"
   ]
  },
  {
   "cell_type": "code",
   "execution_count": 4,
   "metadata": {},
   "outputs": [],
   "source": [
    "thumbnail_region = [[-115.09, 32.32], [-115.09, 32.40], [-114.95, 32.40], [-114.95, 32.32]]\n",
    "thumbnail_geom = ee.Geometry.Polygon(thumbnail_region)"
   ]
  },
  {
   "cell_type": "markdown",
   "metadata": {},
   "source": [
    "### Prep DisALEXI Input"
   ]
  },
  {
   "cell_type": "code",
   "execution_count": 5,
   "metadata": {},
   "outputs": [],
   "source": [
    "scene_id = 'LC08_038038_20150717'\n",
    "landsat_img = ee.Image('LANDSAT/LC08/C01/T1_RT_TOA/LC08_038038_20150717')\n",
    "image_crs = landsat_img.select('B2').projection().crs().getInfo()\n",
    "image_transform = landsat_img.select('B2').projection().getInfo()['transform']\n",
    "image_geom = landsat_img.select('B2').geometry()\n",
    "# print(image_crs)\n",
    "# print(image_transform)\n",
    "\n",
    "input_img = ee.Image(landsat.Landsat(landsat_img).prep())"
   ]
  },
  {
   "cell_type": "markdown",
   "metadata": {},
   "source": [
    "### NDVI"
   ]
  },
  {
   "cell_type": "code",
   "execution_count": 6,
   "metadata": {},
   "outputs": [
    {
     "data": {
      "text/html": [
       "<img src=\"https://earthengine.googleapis.com/api/thumb?thumbid=c424c4875566ad1af74d41ae5616a05e&token=7470c83e03192a749c5facd5a3cfe0f5\"/>"
      ],
      "text/plain": [
       "<IPython.core.display.Image object>"
      ]
     },
     "execution_count": 6,
     "metadata": {},
     "output_type": "execute_result"
    }
   ],
   "source": [
    "Image(url=input_img.select(['ndvi']).paint(thumbnail_geom, 'red', 1).getThumbURL({\n",
    "    'region': output_region, 'min': -0.1, 'max': 0.9, \n",
    "    'palette': ','.join(ndvi_palette)}))"
   ]
  },
  {
   "cell_type": "markdown",
   "metadata": {},
   "source": [
    "### Apply DisALEXI"
   ]
  },
  {
   "cell_type": "code",
   "execution_count": 7,
   "metadata": {},
   "outputs": [],
   "source": [
    "# Use the CONUS ALEXI ET but the global landcover and elevation products\n",
    "disalexi = disalexi.Image(\n",
    "    input_img, \n",
    "    iterations=10,\n",
    "    elevation=ee.Image('USGS/SRTMGL1_003').rename(['elevation']),\n",
    "    landcover=ee.Image(\n",
    "        ee.ImageCollection('users/cgmorton/GlobeLand30').mosaic()) \\\n",
    "            .divide(10).floor().multiply(10).rename(['landcover']),\n",
    "    lc_type='GLOBELAND30')\n",
    "\n",
    "ta_img = disalexi.compute_ta() \\\n",
    "    .reproject(crs=output_crs, crsTransform=output_transform)\n",
    "ta_coarse_img = disalexi.aggregate(ta_img)\n",
    "# Eventually make smoothing to a DisALEXI method\n",
    "ta_smooth_img = ta_coarse_img \\\n",
    "    .resample('bilinear') \\\n",
    "    .reproject(crs=output_crs, crsTransform=output_transform)\n",
    "et_img = disalexi.compute_et(ta_smooth_img)\n",
    "\n",
    "# et_img = disalexi.compute_et(ta_smooth_img) \\\n",
    "#     .reproject(crs=output_crs, crsTransform=output_transform)"
   ]
  },
  {
   "cell_type": "code",
   "execution_count": 9,
   "metadata": {},
   "outputs": [
    {
     "ename": "EEException",
     "evalue": "Image.rename, argument 'input': Invalid type. Expected: Image<unknown bands>. Actual: ImageCollection.",
     "output_type": "error",
     "traceback": [
      "\u001b[1;31m---------------------------------------------------------------------------\u001b[0m",
      "\u001b[1;31mEEException\u001b[0m                               Traceback (most recent call last)",
      "\u001b[1;32m<ipython-input-9-5b77591da0cd>\u001b[0m in \u001b[0;36m<module>\u001b[1;34m()\u001b[0m\n\u001b[1;32m----> 1\u001b[1;33m \u001b[0mprint\u001b[0m\u001b[1;33m(\u001b[0m\u001b[0mta_img\u001b[0m\u001b[1;33m.\u001b[0m\u001b[0mgetInfo\u001b[0m\u001b[1;33m(\u001b[0m\u001b[1;33m)\u001b[0m\u001b[1;33m)\u001b[0m\u001b[1;33m\u001b[0m\u001b[0m\n\u001b[0m\u001b[0;32m      2\u001b[0m \u001b[0mprint\u001b[0m\u001b[1;33m(\u001b[0m\u001b[0mta_coarse_img\u001b[0m\u001b[1;33m.\u001b[0m\u001b[0mgetInfo\u001b[0m\u001b[1;33m(\u001b[0m\u001b[1;33m)\u001b[0m\u001b[1;33m)\u001b[0m\u001b[1;33m\u001b[0m\u001b[0m\n\u001b[0;32m      3\u001b[0m \u001b[0mprint\u001b[0m\u001b[1;33m(\u001b[0m\u001b[0mta_smooth_img\u001b[0m\u001b[1;33m.\u001b[0m\u001b[0mgetInfo\u001b[0m\u001b[1;33m(\u001b[0m\u001b[1;33m)\u001b[0m\u001b[1;33m)\u001b[0m\u001b[1;33m\u001b[0m\u001b[0m\n\u001b[0;32m      4\u001b[0m \u001b[0mprint\u001b[0m\u001b[1;33m(\u001b[0m\u001b[0met_img\u001b[0m\u001b[1;33m.\u001b[0m\u001b[0mgetInfo\u001b[0m\u001b[1;33m(\u001b[0m\u001b[1;33m)\u001b[0m\u001b[1;33m)\u001b[0m\u001b[1;33m\u001b[0m\u001b[0m\n",
      "\u001b[1;32mC:\\Miniconda3\\envs\\openet\\lib\\site-packages\\ee\\image.py\u001b[0m in \u001b[0;36mgetInfo\u001b[1;34m(self)\u001b[0m\n\u001b[0;32m    114\u001b[0m           \u001b[0mproperties\u001b[0m \u001b[1;33m-\u001b[0m \u001b[0mDictionary\u001b[0m \u001b[0mcontaining\u001b[0m \u001b[0mthe\u001b[0m \u001b[0mimage\u001b[0m\u001b[0;31m'\u001b[0m\u001b[0ms\u001b[0m \u001b[0mmetadata\u001b[0m \u001b[0mproperties\u001b[0m\u001b[1;33m.\u001b[0m\u001b[1;33m\u001b[0m\u001b[0m\n\u001b[0;32m    115\u001b[0m     \"\"\"\n\u001b[1;32m--> 116\u001b[1;33m     \u001b[1;32mreturn\u001b[0m \u001b[0msuper\u001b[0m\u001b[1;33m(\u001b[0m\u001b[0mImage\u001b[0m\u001b[1;33m,\u001b[0m \u001b[0mself\u001b[0m\u001b[1;33m)\u001b[0m\u001b[1;33m.\u001b[0m\u001b[0mgetInfo\u001b[0m\u001b[1;33m(\u001b[0m\u001b[1;33m)\u001b[0m\u001b[1;33m\u001b[0m\u001b[0m\n\u001b[0m\u001b[0;32m    117\u001b[0m \u001b[1;33m\u001b[0m\u001b[0m\n\u001b[0;32m    118\u001b[0m   \u001b[1;32mdef\u001b[0m \u001b[0mgetMapId\u001b[0m\u001b[1;33m(\u001b[0m\u001b[0mself\u001b[0m\u001b[1;33m,\u001b[0m \u001b[0mvis_params\u001b[0m\u001b[1;33m=\u001b[0m\u001b[1;32mNone\u001b[0m\u001b[1;33m)\u001b[0m\u001b[1;33m:\u001b[0m\u001b[1;33m\u001b[0m\u001b[0m\n",
      "\u001b[1;32mC:\\Miniconda3\\envs\\openet\\lib\\site-packages\\ee\\computedobject.py\u001b[0m in \u001b[0;36mgetInfo\u001b[1;34m(self)\u001b[0m\n\u001b[0;32m     93\u001b[0m       \u001b[0mThe\u001b[0m \u001b[0mobject\u001b[0m \u001b[0mcan\u001b[0m \u001b[0mevaluate\u001b[0m \u001b[0mto\u001b[0m \u001b[0manything\u001b[0m\u001b[1;33m.\u001b[0m\u001b[1;33m\u001b[0m\u001b[0m\n\u001b[0;32m     94\u001b[0m     \"\"\"\n\u001b[1;32m---> 95\u001b[1;33m     \u001b[1;32mreturn\u001b[0m \u001b[0mdata\u001b[0m\u001b[1;33m.\u001b[0m\u001b[0mcomputeValue\u001b[0m\u001b[1;33m(\u001b[0m\u001b[0mself\u001b[0m\u001b[1;33m)\u001b[0m\u001b[1;33m\u001b[0m\u001b[0m\n\u001b[0m\u001b[0;32m     96\u001b[0m \u001b[1;33m\u001b[0m\u001b[0m\n\u001b[0;32m     97\u001b[0m   \u001b[1;32mdef\u001b[0m \u001b[0mencode\u001b[0m\u001b[1;33m(\u001b[0m\u001b[0mself\u001b[0m\u001b[1;33m,\u001b[0m \u001b[0mencoder\u001b[0m\u001b[1;33m)\u001b[0m\u001b[1;33m:\u001b[0m\u001b[1;33m\u001b[0m\u001b[0m\n",
      "\u001b[1;32mC:\\Miniconda3\\envs\\openet\\lib\\site-packages\\ee\\data.py\u001b[0m in \u001b[0;36mcomputeValue\u001b[1;34m(obj)\u001b[0m\n\u001b[0;32m    290\u001b[0m     \u001b[0mThe\u001b[0m \u001b[0mresult\u001b[0m \u001b[0mof\u001b[0m \u001b[0mevaluating\u001b[0m \u001b[0mthat\u001b[0m \u001b[0mobject\u001b[0m \u001b[0mon\u001b[0m \u001b[0mthe\u001b[0m \u001b[0mserver\u001b[0m\u001b[1;33m.\u001b[0m\u001b[1;33m\u001b[0m\u001b[0m\n\u001b[0;32m    291\u001b[0m   \"\"\"\n\u001b[1;32m--> 292\u001b[1;33m   \u001b[1;32mreturn\u001b[0m \u001b[0msend_\u001b[0m\u001b[1;33m(\u001b[0m\u001b[1;34m'/value'\u001b[0m\u001b[1;33m,\u001b[0m \u001b[1;33m(\u001b[0m\u001b[1;33m{\u001b[0m\u001b[1;34m'json'\u001b[0m\u001b[1;33m:\u001b[0m \u001b[0mobj\u001b[0m\u001b[1;33m.\u001b[0m\u001b[0mserialize\u001b[0m\u001b[1;33m(\u001b[0m\u001b[1;33m)\u001b[0m\u001b[1;33m,\u001b[0m \u001b[1;34m'json_format'\u001b[0m\u001b[1;33m:\u001b[0m \u001b[1;34m'v2'\u001b[0m\u001b[1;33m}\u001b[0m\u001b[1;33m)\u001b[0m\u001b[1;33m)\u001b[0m\u001b[1;33m\u001b[0m\u001b[0m\n\u001b[0m\u001b[0;32m    293\u001b[0m \u001b[1;33m\u001b[0m\u001b[0m\n\u001b[0;32m    294\u001b[0m \u001b[1;33m\u001b[0m\u001b[0m\n",
      "\u001b[1;32mC:\\Miniconda3\\envs\\openet\\lib\\site-packages\\ee\\data.py\u001b[0m in \u001b[0;36msend_\u001b[1;34m(path, params, opt_method, opt_raw)\u001b[0m\n\u001b[0;32m    850\u001b[0m       \u001b[1;32mraise\u001b[0m \u001b[0mee_exception\u001b[0m\u001b[1;33m.\u001b[0m\u001b[0mEEException\u001b[0m\u001b[1;33m(\u001b[0m\u001b[1;34m'Invalid JSON: %s'\u001b[0m \u001b[1;33m%\u001b[0m \u001b[0mcontent\u001b[0m\u001b[1;33m)\u001b[0m\u001b[1;33m\u001b[0m\u001b[0m\n\u001b[0;32m    851\u001b[0m     \u001b[1;32mif\u001b[0m \u001b[1;34m'error'\u001b[0m \u001b[1;32min\u001b[0m \u001b[0mjson_content\u001b[0m\u001b[1;33m:\u001b[0m\u001b[1;33m\u001b[0m\u001b[0m\n\u001b[1;32m--> 852\u001b[1;33m       \u001b[1;32mraise\u001b[0m \u001b[0mee_exception\u001b[0m\u001b[1;33m.\u001b[0m\u001b[0mEEException\u001b[0m\u001b[1;33m(\u001b[0m\u001b[0mjson_content\u001b[0m\u001b[1;33m[\u001b[0m\u001b[1;34m'error'\u001b[0m\u001b[1;33m]\u001b[0m\u001b[1;33m[\u001b[0m\u001b[1;34m'message'\u001b[0m\u001b[1;33m]\u001b[0m\u001b[1;33m)\u001b[0m\u001b[1;33m\u001b[0m\u001b[0m\n\u001b[0m\u001b[0;32m    853\u001b[0m     \u001b[1;32mif\u001b[0m \u001b[1;34m'data'\u001b[0m \u001b[1;32mnot\u001b[0m \u001b[1;32min\u001b[0m \u001b[0mcontent\u001b[0m\u001b[1;33m:\u001b[0m\u001b[1;33m\u001b[0m\u001b[0m\n\u001b[0;32m    854\u001b[0m       \u001b[1;32mraise\u001b[0m \u001b[0mee_exception\u001b[0m\u001b[1;33m.\u001b[0m\u001b[0mEEException\u001b[0m\u001b[1;33m(\u001b[0m\u001b[1;34m'Malformed response: '\u001b[0m \u001b[1;33m+\u001b[0m \u001b[0mstr\u001b[0m\u001b[1;33m(\u001b[0m\u001b[0mcontent\u001b[0m\u001b[1;33m)\u001b[0m\u001b[1;33m)\u001b[0m\u001b[1;33m\u001b[0m\u001b[0m\n",
      "\u001b[1;31mEEException\u001b[0m: Image.rename, argument 'input': Invalid type. Expected: Image<unknown bands>. Actual: ImageCollection."
     ]
    }
   ],
   "source": [
    "print(ta_img.getInfo())\n",
    "print(ta_coarse_img.getInfo())\n",
    "print(ta_smooth_img.getInfo())\n",
    "print(et_img.getInfo())"
   ]
  },
  {
   "cell_type": "markdown",
   "metadata": {},
   "source": [
    "### Export to Drive"
   ]
  },
  {
   "cell_type": "code",
   "execution_count": 11,
   "metadata": {},
   "outputs": [],
   "source": [
    "et_task = ee.batch.Export.image.toDrive(\n",
    "    et_img.toFloat(),\n",
    "    description=scene_id + '_et',\n",
    "    folder='DisALEXI',\n",
    "    fileNamePrefix=scene_id + '_et',\n",
    "    dimensions=output_shape_str,\n",
    "    crs=output_crs,\n",
    "    crsTransform=output_transform_str,\n",
    "    maxPixels=1E10)"
   ]
  },
  {
   "cell_type": "code",
   "execution_count": 14,
   "metadata": {},
   "outputs": [
    {
     "ename": "NameError",
     "evalue": "name 'et_task' is not defined",
     "output_type": "error",
     "traceback": [
      "\u001b[1;31m---------------------------------------------------------------------------\u001b[0m",
      "\u001b[1;31mNameError\u001b[0m                                 Traceback (most recent call last)",
      "\u001b[1;32m<ipython-input-14-4d0f4cd6215c>\u001b[0m in \u001b[0;36m<module>\u001b[1;34m()\u001b[0m\n\u001b[1;32m----> 1\u001b[1;33m \u001b[0met_task\u001b[0m\u001b[1;33m.\u001b[0m\u001b[0mstart\u001b[0m\u001b[1;33m(\u001b[0m\u001b[1;33m)\u001b[0m\u001b[1;33m\u001b[0m\u001b[0m\n\u001b[0m\u001b[0;32m      2\u001b[0m \u001b[0mprint\u001b[0m\u001b[1;33m(\u001b[0m\u001b[1;34m'Status: {}'\u001b[0m\u001b[1;33m.\u001b[0m\u001b[0mformat\u001b[0m\u001b[1;33m(\u001b[0m\u001b[0met_task\u001b[0m\u001b[1;33m.\u001b[0m\u001b[0mstatus\u001b[0m\u001b[1;33m(\u001b[0m\u001b[1;33m)\u001b[0m\u001b[1;33m)\u001b[0m\u001b[1;33m)\u001b[0m\u001b[1;33m\u001b[0m\u001b[0m\n",
      "\u001b[1;31mNameError\u001b[0m: name 'et_task' is not defined"
     ]
    }
   ],
   "source": [
    "et_task.start()\n",
    "print('Status: {}'.format(et_task.status()))"
   ]
  },
  {
   "cell_type": "code",
   "execution_count": null,
   "metadata": {},
   "outputs": [],
   "source": [
    "# ta_task = ee.batch.Export.image.toDrive(\n",
    "#     ta_img.toFloat(),\n",
    "#     description=scene_id + '_ta',\n",
    "#     folder='DisALEXI',\n",
    "#     fileNamePrefix=scene_id + '_ta',\n",
    "#     dimensions=output_shape_str,\n",
    "#     crs=output_crs,\n",
    "#     crsTransform=output_transform_str,\n",
    "#     maxPixels=1E10)"
   ]
  },
  {
   "cell_type": "code",
   "execution_count": null,
   "metadata": {},
   "outputs": [],
   "source": [
    "# ta_coarse_task = ee.batch.Export.image.toDrive(\n",
    "#     ta_coarse_img.toFloat(),\n",
    "#     description=scene_id + '_ta_coarse',\n",
    "#     folder='DisALEXI',\n",
    "#     fileNamePrefix=scene_id + '_ta_coarse',\n",
    "#     dimensions=output_shape_str,\n",
    "#     crs=output_crs,\n",
    "#     crsTransform=output_transform_str,\n",
    "#     maxPixels=1E10)"
   ]
  },
  {
   "cell_type": "code",
   "execution_count": null,
   "metadata": {},
   "outputs": [],
   "source": [
    "# ta_smooth_task = ee.batch.Export.image.toDrive(\n",
    "#     ta_smooth_img.toFloat(),\n",
    "#     description=scene_id + '_ta_smooth',\n",
    "#     folder='DisALEXI',\n",
    "#     fileNamePrefix=scene_id + '_ta_smooth',\n",
    "#     dimensions=output_shape_str,\n",
    "#     crs=output_crs,\n",
    "#     crsTransform=output_transform_str,\n",
    "#     maxPixels=1E10)"
   ]
  },
  {
   "cell_type": "code",
   "execution_count": null,
   "metadata": {},
   "outputs": [],
   "source": [
    "# ta_task.start()\n",
    "# print('Status: {}'.format(ta_task.status()))\n",
    "# ta_coarse_task.start()\n",
    "# print('Status: {}'.format(ta_coarse_task.status()))\n",
    "# ta_smooth_task.start()\n",
    "# print('Status: {}'.format(ta_smooth_task.status()))"
   ]
  },
  {
   "cell_type": "markdown",
   "metadata": {},
   "source": [
    "### Thumbnails"
   ]
  },
  {
   "cell_type": "code",
   "execution_count": null,
   "metadata": {},
   "outputs": [],
   "source": [
    "Image(url=input_img.select(['ndvi']).getThumbURL({\n",
    "    'region': thumbnail_region, 'min': -0.1, 'max': 0.9, \n",
    "    'palette': ','.join(ndvi_palette)}))"
   ]
  },
  {
   "cell_type": "code",
   "execution_count": null,
   "metadata": {},
   "outputs": [],
   "source": [
    "alexi_url = ee.Image(disalexi.alexi_et).reproject(crs=output_crs, crsTransform=output_transform).getThumbURL({\n",
    "    'region': thumbnail_region, 'min': 0, 'max': 10, \n",
    "    'palette': ','.join(['FF0000', 'FFFF00', '00FFFF', '0000FF'])})\n",
    "# print(alexi_url)\n",
    "Image(url=alexi_url)"
   ]
  },
  {
   "cell_type": "code",
   "execution_count": null,
   "metadata": {},
   "outputs": [],
   "source": [
    "ta_url = ta_img.getThumbURL({\n",
    "    'region': thumbnail_region, 'min': 273, 'max': 325, \n",
    "    'palette': ','.join(['FF0000', 'FFFF00', '00FFFF', '0000FF'])})\n",
    "# print(ta_url)\n",
    "Image(url=ta_url)"
   ]
  },
  {
   "cell_type": "code",
   "execution_count": null,
   "metadata": {},
   "outputs": [],
   "source": [
    "# ta_coarse_url = ta_coarse_img.getThumbURL({\n",
    "#     'region': thumbnail_region, 'min': 273, 'max': 325, \n",
    "#     'palette': ','.join(['FF0000', 'FFFF00', '00FFFF', '0000FF'])})\n",
    "# # print(ta_coarse_url)\n",
    "# Image(url=ta_coarse_url)"
   ]
  },
  {
   "cell_type": "code",
   "execution_count": null,
   "metadata": {},
   "outputs": [],
   "source": [
    "# ta_smooth_url = ta_smooth_img.getThumbURL({\n",
    "#     'region': thumbnail_region, 'min': 273, 'max': 325, \n",
    "#     'palette': ','.join(['FF0000', 'FFFF00', '00FFFF', '0000FF'])})\n",
    "# # print(ta_smooth_url)\n",
    "# Image(url=ta_smooth_url)"
   ]
  },
  {
   "cell_type": "code",
   "execution_count": null,
   "metadata": {
    "scrolled": true
   },
   "outputs": [],
   "source": [
    "# et_url = et_img.getThumbURL({\n",
    "#     'region': thumbnail_region, 'min': 0, 'max': 10, \n",
    "#     'palette': ','.join(ssebop_et_palette)})\n",
    "# # print(et_url)\n",
    "# Image(url=et_url)"
   ]
  },
  {
   "cell_type": "code",
   "execution_count": null,
   "metadata": {},
   "outputs": [],
   "source": []
  }
 ],
 "metadata": {
  "kernelspec": {
   "display_name": "Python 3",
   "language": "python",
   "name": "python3"
  },
  "language_info": {
   "codemirror_mode": {
    "name": "ipython",
    "version": 3
   },
   "file_extension": ".py",
   "mimetype": "text/x-python",
   "name": "python",
   "nbconvert_exporter": "python",
   "pygments_lexer": "ipython3",
   "version": "3.6.6"
  }
 },
 "nbformat": 4,
 "nbformat_minor": 2
}
