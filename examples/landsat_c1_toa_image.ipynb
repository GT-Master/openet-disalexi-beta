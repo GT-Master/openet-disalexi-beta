{
 "cells": [
  {
   "cell_type": "markdown",
   "metadata": {},
   "source": [
    "# Google Earth Engine (GEE) DisALEXI \n",
    "## Single Landsat Collection 1 TOA Image Example\n",
    "\n",
    "Example of calling the GEE DisALEXI function on a single Landsat 8 Collection 1 top-of-atmosphere reflectance image."
   ]
  },
  {
   "cell_type": "markdown",
   "metadata": {},
   "source": [
    "### Python imports and GEE initialization"
   ]
  },
  {
   "cell_type": "code",
   "execution_count": 1,
   "metadata": {
    "collapsed": true
   },
   "outputs": [],
   "source": [
    "import pprint\n",
    "\n",
    "import ee\n",
    "from IPython.display import Image\n",
    "\n",
    "import openet.disalexi.disalexi as disalexi\n",
    "import openet.disalexi.landsat as landsat\n",
    "import openet.disalexi.utils as utils"
   ]
  },
  {
   "cell_type": "code",
   "execution_count": 2,
   "metadata": {
    "collapsed": true
   },
   "outputs": [],
   "source": [
    "pp = pprint.PrettyPrinter(indent=2)\n",
    "ee.Initialize()"
   ]
  },
  {
   "cell_type": "code",
   "execution_count": 3,
   "metadata": {},
   "outputs": [],
   "source": [
    "test_xy = [-114.986, 32.355]\n",
    "test_geom = ee.Geometry.Point(test_xy)\n",
    "\n",
    "test_region = [[-115.1, 32.3], [-115.1, 32.41], [-114.9, 32.41], [-114.9, 32.3]]\n",
    "test_geom = ee.Geometry.Polygon(test_region)"
   ]
  },
  {
   "cell_type": "code",
   "execution_count": 4,
   "metadata": {
    "collapsed": true
   },
   "outputs": [],
   "source": [
    "ssebop_et_palette = [\n",
    "  'DEC29B', 'E6CDA1', 'EDD9A6', 'F5E4A9', 'FFF4AD', 'C3E683', '6BCC5C', \n",
    "  '3BB369', '20998F', '1C8691', '16678A', '114982', '0B2C7A']\n",
    "ndvi_palette = '#EFE7E1,#003300'"
   ]
  },
  {
   "cell_type": "markdown",
   "metadata": {},
   "source": [
    "### Start with a single Landsat 8 TOA image"
   ]
  },
  {
   "cell_type": "code",
   "execution_count": 5,
   "metadata": {
    "collapsed": true
   },
   "outputs": [],
   "source": [
    "landsat_img = ee.Image('LANDSAT/LC08/C01/T1_RT_TOA/LC08_038038_20150717')\n",
    "\n",
    "# # Mosaic images into a single Landsat image\n",
    "# landsat_a_img = ee.Image('LANDSAT/LC08/C01/T1_RT_TOA/LC08_038037_20150717')\n",
    "# landsat_b_img = ee.Image('LANDSAT/LC08/C01/T1_RT_TOA/LC08_038038_20150717')\n",
    "# landsat_img = ee.Image(ee.ImageCollection([landsat_a_img, landsat_b_img]).mosaic()) \\\n",
    "#     .copyProperties(landsat_a_img, [\n",
    "#         'system:time_start', 'system:index', 'SPACECRAFT_ID', 'SUN_ELEVATION', \n",
    "#         'K1_CONSTANT_BAND_10', 'K2_CONSTANT_BAND_10'])\n",
    "# landsat_image = ee.Image(landsat_image)\n",
    "# pp.pprint(landsat_img.getInfo()['properties'])"
   ]
  },
  {
   "cell_type": "code",
   "execution_count": 6,
   "metadata": {},
   "outputs": [
    {
     "name": "stdout",
     "output_type": "stream",
     "text": [
      "EPSG:32611\n",
      "[30.0, 0.0, 626985.0, 0.0, -30.0, 3629715.0]\n"
     ]
    }
   ],
   "source": [
    "# Extract geotransform and spatial reference\n",
    "image_crs = landsat_img.select('B2').projection().crs().getInfo()\n",
    "image_transform = landsat_img.select('B2').projection().getInfo()['transform']\n",
    "image_geom = landsat_img.select('B2').geometry()\n",
    "print(image_crs)\n",
    "print(image_transform)"
   ]
  },
  {
   "cell_type": "code",
   "execution_count": 7,
   "metadata": {},
   "outputs": [
    {
     "data": {
      "text/html": [
       "<img src=\"https://earthengine.googleapis.com/api/thumb?thumbid=ea8b8d3b5a34eab45d6184b30a646d01&token=cd3622c686c9372526a706a4e9ab3bbb\"/>"
      ],
      "text/plain": [
       "<IPython.core.display.Image object>"
      ]
     },
     "execution_count": 7,
     "metadata": {},
     "output_type": "execute_result"
    }
   ],
   "source": [
    "vis_image = ee.Image(landsat_img) \\\n",
    "    .visualize(bands=['B4', 'B3', 'B2'], min=[0, 0, 0], max=[0.3, 0.3, 0.3]) \\\n",
    "    .reproject(crs=image_crs, crsTransform=image_transform) \\\n",
    "    .clip(test_geom)\n",
    "Image(url=vis_image.getThumbURL())"
   ]
  },
  {
   "cell_type": "markdown",
   "metadata": {},
   "source": [
    "### Prep the raw Landsat TOA image for use in DisALEXI\n",
    "\n",
    "The prep function will rename the bands to generic names, compute albedo, ndvi, lai, and extract the fmask image from the BQA band."
   ]
  },
  {
   "cell_type": "code",
   "execution_count": 8,
   "metadata": {
    "collapsed": true
   },
   "outputs": [],
   "source": [
    "input_img = ee.Image(landsat.Landsat(landsat_img).prep())"
   ]
  },
  {
   "cell_type": "markdown",
   "metadata": {},
   "source": [
    "Show the NDVI band for the validation asset area"
   ]
  },
  {
   "cell_type": "code",
   "execution_count": 9,
   "metadata": {},
   "outputs": [
    {
     "data": {
      "text/html": [
       "<img src=\"https://earthengine.googleapis.com/api/thumb?thumbid=61ae5084a8b341be5bd4f2fcd58c888a&token=26b36134a6800a2e801f869615df7edf\"/>"
      ],
      "text/plain": [
       "<IPython.core.display.Image object>"
      ]
     },
     "execution_count": 9,
     "metadata": {},
     "output_type": "execute_result"
    }
   ],
   "source": [
    "vis_img = input_img.select(['ndvi']).getThumbURL({\n",
    "    'region': test_region, 'min':-0.1, 'max':0.9, \n",
    "    'palette': ndvi_palette})\n",
    "Image(url=vis_img)"
   ]
  },
  {
   "cell_type": "markdown",
   "metadata": {},
   "source": [
    "Show the NDVI band for the test site area"
   ]
  },
  {
   "cell_type": "code",
   "execution_count": 10,
   "metadata": {},
   "outputs": [
    {
     "data": {
      "text/html": [
       "<img src=\"https://earthengine.googleapis.com/api/thumb?thumbid=61ae5084a8b341be5bd4f2fcd58c888a&token=c5b0479e10e95da66c70eb865683a1a1\"/>"
      ],
      "text/plain": [
       "<IPython.core.display.Image object>"
      ]
     },
     "execution_count": 10,
     "metadata": {},
     "output_type": "execute_result"
    }
   ],
   "source": [
    "Image(url=input_img.select(['ndvi']).getThumbURL({\n",
    "    'region': test_region, 'min':-0.1, 'max':0.9, 'palette': ndvi_palette}))"
   ]
  },
  {
   "cell_type": "markdown",
   "metadata": {},
   "source": [
    "### Extract input values at the test point"
   ]
  },
  {
   "cell_type": "code",
   "execution_count": 11,
   "metadata": {},
   "outputs": [
    {
     "name": "stdout",
     "output_type": "stream",
     "text": [
      "LAI:      2.73533273\n",
      "NDVI:     0.73108977\n",
      "Albedo:   0.24656877\n",
      "LST:    308.38769255 [K]\n",
      "CFMask:   0.00000000\n"
     ]
    }
   ],
   "source": [
    "print('LAI:    {:12.8f}'.format(float(\n",
    "    utils.image_value(input_img, xy=test_xy, scale=30)['lai'])))\n",
    "print('NDVI:   {:12.8f}'.format(float(\n",
    "    utils.image_value(input_img, xy=test_xy, scale=30)['ndvi'])))\n",
    "print('Albedo: {:12.8f}'.format(float(\n",
    "    utils.image_value(input_img, xy=test_xy, scale=30)['albedo'])))\n",
    "print('LST:    {:12.8f} [K]'.format(float(\n",
    "    utils.image_value(input_img, xy=test_xy, scale=30)['lst'])))\n",
    "print('CFMask: {:12.8f}'.format(float(\n",
    "    utils.image_value(input_img, xy=test_xy, scale=30)['cfmask'])))"
   ]
  },
  {
   "cell_type": "markdown",
   "metadata": {},
   "source": [
    "### Initialize the DisALEXI object"
   ]
  },
  {
   "cell_type": "code",
   "execution_count": 12,
   "metadata": {
    "collapsed": true
   },
   "outputs": [],
   "source": [
    "# Initialize the DisALEXI object using all default values\n",
    "# NLCD Landcover, NED Elevation, CONUS ALEXI ET\n",
    "disalexi = disalexi.Image(\n",
    "    input_img, \n",
    "    iterations=10,\n",
    "    elevation=ee.Image('USGS/SRTMGL1_003').rename(['elevation']),\n",
    "    landcover=ee.Image(\n",
    "        ee.ImageCollection('users/cgmorton/GlobeLand30').mosaic()) \\\n",
    "            .divide(10).floor().multiply(10) \\\n",
    "            .rename(['landcover']),\n",
    "    lc_type='GLOBELAND30')\n",
    "disalexi._set_alexi_et_vars()\n",
    "disalexi._set_elevation_vars()\n",
    "disalexi._set_landcover_vars()\n",
    "disalexi._set_time_vars()\n",
    "disalexi._set_solar_vars()\n",
    "disalexi._set_weather_vars()"
   ]
  },
  {
   "cell_type": "markdown",
   "metadata": {},
   "source": [
    "### Extract the ancillary values at the test point"
   ]
  },
  {
   "cell_type": "code",
   "execution_count": 1,
   "metadata": {},
   "outputs": [
    {
     "ename": "NameError",
     "evalue": "name 'utils' is not defined",
     "output_type": "error",
     "traceback": [
      "\u001b[1;31m---------------------------------------------------------------------------\u001b[0m",
      "\u001b[1;31mNameError\u001b[0m                                 Traceback (most recent call last)",
      "\u001b[1;32m<ipython-input-1-5ad82338a418>\u001b[0m in \u001b[0;36m<module>\u001b[1;34m()\u001b[0m\n\u001b[1;32m----> 1\u001b[1;33m print('ALEXI ET:   {:>12.8f} [mm]'.format(float(utils.image_value(\n\u001b[0m\u001b[0;32m      2\u001b[0m     disalexi.alexi_et, xy=test_xy, scale=30)['alexi_et'])))\n\u001b[0;32m      3\u001b[0m print('Elevation:  {:>12.8f} [m]'.format(float(utils.image_value(\n\u001b[0;32m      4\u001b[0m     disalexi.elevation, xy=test_xy, scale=30)['elevation'])))\n\u001b[0;32m      5\u001b[0m print('Rs Hourly:  {:>12.8f} [W m-2]'.format(float(utils.image_value(\n",
      "\u001b[1;31mNameError\u001b[0m: name 'utils' is not defined"
     ]
    }
   ],
   "source": [
    "print('ALEXI ET:   {:>12.8f} [mm]'.format(float(utils.image_value(\n",
    "    disalexi.alexi_et, xy=test_xy, scale=30)['alexi_et'])))\n",
    "print('Elevation:  {:>12.8f} [m]'.format(float(utils.image_value(\n",
    "    disalexi.elevation, xy=test_xy, scale=30)['elevation'])))\n",
    "print('Rs Hourly:  {:>12.8f} [W m-2]'.format(float(utils.image_value(\n",
    "    disalexi.rs1, xy=test_xy, scale=30)['rs'])))\n",
    "print('Rs Daily:  {:>13.8f} [W m-2]'.format(float(utils.image_value(\n",
    "    disalexi.rs24, xy=test_xy, scale=30)['rs'])))\n",
    "print('Wind Speed: {:>12.8f} [m/s]'.format(float(utils.image_value(\n",
    "    disalexi.windspeed, xy=test_xy, scale=30)['windspeed'])))\n",
    "print('Land Cover: {:3}'.format(int(utils.image_value(\n",
    "    disalexi.landcover, xy=test_xy, scale=30)['landcover'])))"
   ]
  },
  {
   "cell_type": "code",
   "execution_count": 14,
   "metadata": {},
   "outputs": [
    {
     "data": {
      "text/html": [
       "<img src=\"https://earthengine.googleapis.com/api/thumb?thumbid=d12d5c2a89eafa67a7526fc451f833d0&token=9aa6d8350a624389d8f8e90c8ffb8ed7\"/>"
      ],
      "text/plain": [
       "<IPython.core.display.Image object>"
      ]
     },
     "execution_count": 14,
     "metadata": {},
     "output_type": "execute_result"
    }
   ],
   "source": [
    "vis_img = disalexi.alexi_et.getThumbURL({\n",
    "    'region': test_region, 'min':0, 'max':4, \n",
    "    'palette': ndvi_palette})\n",
    "Image(url=vis_img)"
   ]
  },
  {
   "cell_type": "markdown",
   "metadata": {},
   "source": [
    "### Extract the computed inputs"
   ]
  },
  {
   "cell_type": "code",
   "execution_count": 15,
   "metadata": {},
   "outputs": [
    {
     "name": "stdout",
     "output_type": "stream",
     "text": [
      "hc:         0.40717820\n",
      "clump:      0.83000000\n",
      "t_rise:    12.75206586\n",
      "t_end:     26.78551224\n",
      "pressure: 101.09921051\n"
     ]
    }
   ],
   "source": [
    "print('hc:       {:12.8f}'.format(float(\n",
    "    utils.image_value(disalexi.hc, xy=test_xy, scale=30)['hc'])))\n",
    "print('clump:    {:12.8f}'.format(float(\n",
    "    utils.image_value(disalexi.clump, xy=test_xy, scale=30)['omega'])))\n",
    "print('t_rise:   {:12.8f}'.format(float(\n",
    "    utils.image_value(disalexi.t_rise, xy=test_xy, scale=30)['t_rise'])))\n",
    "print('t_end:    {:12.8f}'.format(float(\n",
    "    utils.image_value(disalexi.t_end, xy=test_xy, scale=30)['t_end'])))\n",
    "print('pressure: {:12.8f}'.format(float(\n",
    "    utils.image_value(disalexi.pressure, xy=test_xy, scale=30)['pressure'])))"
   ]
  },
  {
   "cell_type": "markdown",
   "metadata": {},
   "source": [
    "### Compute Air Temperature"
   ]
  },
  {
   "cell_type": "code",
   "execution_count": 16,
   "metadata": {},
   "outputs": [
    {
     "name": "stdout",
     "output_type": "stream",
     "text": [
      "[30.0, 0.0, 626985.0, 0.0, -30.0, 3629715.0]\n"
     ]
    }
   ],
   "source": [
    "image_transform = ee.Image(landsat_img).select('B2').projection().getInfo()['transform']\n",
    "print(image_transform)\n",
    "# Reduce the computation resolution\n",
    "image_transform = '[' + ','.join(map(str, [120.0, 0.0, 626985.0, 0.0, -120.0, 3629715.0])) + ']'\n",
    "# output_transform = [cell_size, 0, output_extent[0], 0, -cell_size, output_extent[3]]\n",
    "image_transform = [120.0, 0.0, 626985.0, 0.0, -120.0, 3629715.0]"
   ]
  },
  {
   "cell_type": "code",
   "execution_count": 17,
   "metadata": {},
   "outputs": [
    {
     "ename": "EEException",
     "evalue": "Image.rename, argument 'input': Invalid type. Expected: Image<unknown bands>. Actual: ImageCollection.",
     "output_type": "error",
     "traceback": [
      "\u001b[1;31m---------------------------------------------------------------------------\u001b[0m",
      "\u001b[1;31mEEException\u001b[0m                               Traceback (most recent call last)",
      "\u001b[1;32m<ipython-input-17-f7207c248e1f>\u001b[0m in \u001b[0;36m<module>\u001b[1;34m()\u001b[0m\n\u001b[0;32m      1\u001b[0m \u001b[0mt_air_img\u001b[0m \u001b[1;33m=\u001b[0m \u001b[0mee\u001b[0m\u001b[1;33m.\u001b[0m\u001b[0mImage\u001b[0m\u001b[1;33m(\u001b[0m\u001b[0mdisalexi\u001b[0m\u001b[1;33m.\u001b[0m\u001b[0mcompute_ta\u001b[0m\u001b[1;33m(\u001b[0m\u001b[1;33m)\u001b[0m\u001b[1;33m)\u001b[0m     \u001b[1;33m.\u001b[0m\u001b[0mreproject\u001b[0m\u001b[1;33m(\u001b[0m\u001b[0mcrs\u001b[0m\u001b[1;33m=\u001b[0m\u001b[0mimage_crs\u001b[0m\u001b[1;33m,\u001b[0m \u001b[0mcrsTransform\u001b[0m\u001b[1;33m=\u001b[0m\u001b[0mimage_transform\u001b[0m\u001b[1;33m)\u001b[0m\u001b[1;33m\u001b[0m\u001b[0m\n\u001b[0;32m      2\u001b[0m print('Output Ta:\\n{}'.format(pprint.pformat(\n\u001b[1;32m----> 3\u001b[1;33m     utils.image_value(t_air_img, xy=test_xy, scale=30)['t_air'])))\n\u001b[0m",
      "\u001b[1;32mC:\\Miniconda3\\envs\\openet\\lib\\site-packages\\openet\\disalexi\\utils.py\u001b[0m in \u001b[0;36mimage_value\u001b[1;34m(image, xy, scale, crs, crsTransform)\u001b[0m\n\u001b[0;32m     22\u001b[0m             \u001b[0mreducer\u001b[0m\u001b[1;33m=\u001b[0m\u001b[0mee\u001b[0m\u001b[1;33m.\u001b[0m\u001b[0mReducer\u001b[0m\u001b[1;33m.\u001b[0m\u001b[0mfirst\u001b[0m\u001b[1;33m(\u001b[0m\u001b[1;33m)\u001b[0m\u001b[1;33m,\u001b[0m\u001b[1;33m\u001b[0m\u001b[0m\n\u001b[0;32m     23\u001b[0m             \u001b[0mgeometry\u001b[0m\u001b[1;33m=\u001b[0m\u001b[0mee\u001b[0m\u001b[1;33m.\u001b[0m\u001b[0mGeometry\u001b[0m\u001b[1;33m.\u001b[0m\u001b[0mPoint\u001b[0m\u001b[1;33m(\u001b[0m\u001b[0mxy\u001b[0m\u001b[1;33m)\u001b[0m\u001b[1;33m,\u001b[0m\u001b[1;33m\u001b[0m\u001b[0m\n\u001b[1;32m---> 24\u001b[1;33m             scale=default_scale).getInfo()\n\u001b[0m\u001b[0;32m     25\u001b[0m     \u001b[1;32melse\u001b[0m\u001b[1;33m:\u001b[0m\u001b[1;33m\u001b[0m\u001b[0m\n\u001b[0;32m     26\u001b[0m         return image.reduceRegion(\n",
      "\u001b[1;32mC:\\Miniconda3\\envs\\openet\\lib\\site-packages\\ee\\computedobject.py\u001b[0m in \u001b[0;36mgetInfo\u001b[1;34m(self)\u001b[0m\n\u001b[0;32m     93\u001b[0m       \u001b[0mThe\u001b[0m \u001b[0mobject\u001b[0m \u001b[0mcan\u001b[0m \u001b[0mevaluate\u001b[0m \u001b[0mto\u001b[0m \u001b[0manything\u001b[0m\u001b[1;33m.\u001b[0m\u001b[1;33m\u001b[0m\u001b[0m\n\u001b[0;32m     94\u001b[0m     \"\"\"\n\u001b[1;32m---> 95\u001b[1;33m     \u001b[1;32mreturn\u001b[0m \u001b[0mdata\u001b[0m\u001b[1;33m.\u001b[0m\u001b[0mcomputeValue\u001b[0m\u001b[1;33m(\u001b[0m\u001b[0mself\u001b[0m\u001b[1;33m)\u001b[0m\u001b[1;33m\u001b[0m\u001b[0m\n\u001b[0m\u001b[0;32m     96\u001b[0m \u001b[1;33m\u001b[0m\u001b[0m\n\u001b[0;32m     97\u001b[0m   \u001b[1;32mdef\u001b[0m \u001b[0mencode\u001b[0m\u001b[1;33m(\u001b[0m\u001b[0mself\u001b[0m\u001b[1;33m,\u001b[0m \u001b[0mencoder\u001b[0m\u001b[1;33m)\u001b[0m\u001b[1;33m:\u001b[0m\u001b[1;33m\u001b[0m\u001b[0m\n",
      "\u001b[1;32mC:\\Miniconda3\\envs\\openet\\lib\\site-packages\\ee\\data.py\u001b[0m in \u001b[0;36mcomputeValue\u001b[1;34m(obj)\u001b[0m\n\u001b[0;32m    290\u001b[0m     \u001b[0mThe\u001b[0m \u001b[0mresult\u001b[0m \u001b[0mof\u001b[0m \u001b[0mevaluating\u001b[0m \u001b[0mthat\u001b[0m \u001b[0mobject\u001b[0m \u001b[0mon\u001b[0m \u001b[0mthe\u001b[0m \u001b[0mserver\u001b[0m\u001b[1;33m.\u001b[0m\u001b[1;33m\u001b[0m\u001b[0m\n\u001b[0;32m    291\u001b[0m   \"\"\"\n\u001b[1;32m--> 292\u001b[1;33m   \u001b[1;32mreturn\u001b[0m \u001b[0msend_\u001b[0m\u001b[1;33m(\u001b[0m\u001b[1;34m'/value'\u001b[0m\u001b[1;33m,\u001b[0m \u001b[1;33m(\u001b[0m\u001b[1;33m{\u001b[0m\u001b[1;34m'json'\u001b[0m\u001b[1;33m:\u001b[0m \u001b[0mobj\u001b[0m\u001b[1;33m.\u001b[0m\u001b[0mserialize\u001b[0m\u001b[1;33m(\u001b[0m\u001b[1;33m)\u001b[0m\u001b[1;33m,\u001b[0m \u001b[1;34m'json_format'\u001b[0m\u001b[1;33m:\u001b[0m \u001b[1;34m'v2'\u001b[0m\u001b[1;33m}\u001b[0m\u001b[1;33m)\u001b[0m\u001b[1;33m)\u001b[0m\u001b[1;33m\u001b[0m\u001b[0m\n\u001b[0m\u001b[0;32m    293\u001b[0m \u001b[1;33m\u001b[0m\u001b[0m\n\u001b[0;32m    294\u001b[0m \u001b[1;33m\u001b[0m\u001b[0m\n",
      "\u001b[1;32mC:\\Miniconda3\\envs\\openet\\lib\\site-packages\\ee\\data.py\u001b[0m in \u001b[0;36msend_\u001b[1;34m(path, params, opt_method, opt_raw)\u001b[0m\n\u001b[0;32m    850\u001b[0m       \u001b[1;32mraise\u001b[0m \u001b[0mee_exception\u001b[0m\u001b[1;33m.\u001b[0m\u001b[0mEEException\u001b[0m\u001b[1;33m(\u001b[0m\u001b[1;34m'Invalid JSON: %s'\u001b[0m \u001b[1;33m%\u001b[0m \u001b[0mcontent\u001b[0m\u001b[1;33m)\u001b[0m\u001b[1;33m\u001b[0m\u001b[0m\n\u001b[0;32m    851\u001b[0m     \u001b[1;32mif\u001b[0m \u001b[1;34m'error'\u001b[0m \u001b[1;32min\u001b[0m \u001b[0mjson_content\u001b[0m\u001b[1;33m:\u001b[0m\u001b[1;33m\u001b[0m\u001b[0m\n\u001b[1;32m--> 852\u001b[1;33m       \u001b[1;32mraise\u001b[0m \u001b[0mee_exception\u001b[0m\u001b[1;33m.\u001b[0m\u001b[0mEEException\u001b[0m\u001b[1;33m(\u001b[0m\u001b[0mjson_content\u001b[0m\u001b[1;33m[\u001b[0m\u001b[1;34m'error'\u001b[0m\u001b[1;33m]\u001b[0m\u001b[1;33m[\u001b[0m\u001b[1;34m'message'\u001b[0m\u001b[1;33m]\u001b[0m\u001b[1;33m)\u001b[0m\u001b[1;33m\u001b[0m\u001b[0m\n\u001b[0m\u001b[0;32m    853\u001b[0m     \u001b[1;32mif\u001b[0m \u001b[1;34m'data'\u001b[0m \u001b[1;32mnot\u001b[0m \u001b[1;32min\u001b[0m \u001b[0mcontent\u001b[0m\u001b[1;33m:\u001b[0m\u001b[1;33m\u001b[0m\u001b[0m\n\u001b[0;32m    854\u001b[0m       \u001b[1;32mraise\u001b[0m \u001b[0mee_exception\u001b[0m\u001b[1;33m.\u001b[0m\u001b[0mEEException\u001b[0m\u001b[1;33m(\u001b[0m\u001b[1;34m'Malformed response: '\u001b[0m \u001b[1;33m+\u001b[0m \u001b[0mstr\u001b[0m\u001b[1;33m(\u001b[0m\u001b[0mcontent\u001b[0m\u001b[1;33m)\u001b[0m\u001b[1;33m)\u001b[0m\u001b[1;33m\u001b[0m\u001b[0m\n",
      "\u001b[1;31mEEException\u001b[0m: Image.rename, argument 'input': Invalid type. Expected: Image<unknown bands>. Actual: ImageCollection."
     ]
    }
   ],
   "source": [
    "t_air_img = ee.Image(disalexi.compute_ta()) \\\n",
    "    .reproject(crs=image_crs, crsTransform=image_transform)\n",
    "print('Output Ta:\\n{}'.format(pprint.pformat(\n",
    "    utils.image_value(t_air_img, xy=test_xy, scale=30)['t_air'])))"
   ]
  },
  {
   "cell_type": "code",
   "execution_count": null,
   "metadata": {},
   "outputs": [],
   "source": [
    "t_air_url = t_air_img.getThumbURL({\n",
    "    'region': test_region, 'min':270, 'max':330})\n",
    "print(t_air_url)"
   ]
  },
  {
   "cell_type": "code",
   "execution_count": null,
   "metadata": {},
   "outputs": [],
   "source": [
    "Image(url=t_air_url)"
   ]
  },
  {
   "cell_type": "markdown",
   "metadata": {},
   "source": [
    "### Aggregate Air Temperature to ALEXI ET cells"
   ]
  },
  {
   "cell_type": "code",
   "execution_count": null,
   "metadata": {},
   "outputs": [],
   "source": [
    "# Test asset ALEXI ET geotransform (from IDL)\n",
    "# et_transform = [0.04, 0, -125.042123, 0, -0.04, 49.7764322]\n",
    "# CONUS ALEXI ET geotransform\n",
    "et_transform = [0.04, 0, -125.0, 0, -0.04, 49.80]\n",
    "\n",
    "t_air_coarse_img = disalexi.aggregate(t_air_img) \\\n",
    "    .reproject(crs='EPSG:4326', crsTransform=et_transform)\n",
    "print('Coarse Ta: {}'.format(pprint.pformat(\n",
    "    utils.image_value(t_air_coarse_img, xy=test_xy, scale=30)['t_air'])))"
   ]
  },
  {
   "cell_type": "code",
   "execution_count": null,
   "metadata": {},
   "outputs": [],
   "source": [
    "t_air_coarse_url = t_air_coarse_img.getThumbUrl({\n",
    "    'region': test_region, 'min':270, 'max':330})\n",
    "print(t_air_coarse_url)"
   ]
  },
  {
   "cell_type": "code",
   "execution_count": null,
   "metadata": {},
   "outputs": [],
   "source": [
    "Image(url=t_air_coarse_url)"
   ]
  },
  {
   "cell_type": "markdown",
   "metadata": {},
   "source": [
    "### Compute ET"
   ]
  },
  {
   "cell_type": "code",
   "execution_count": null,
   "metadata": {},
   "outputs": [],
   "source": [
    "et_img = disalexi.compute_et(t_air_coarse_img) \\\n",
    "    .reproject(crs=image_crs, crsTransform=image_transform)\n",
    "print('ET: {}'.format(pprint.pformat(\n",
    "    utils.image_value(et_img, xy=test_xy, scale=30)['et'])))"
   ]
  },
  {
   "cell_type": "code",
   "execution_count": null,
   "metadata": {
    "collapsed": true
   },
   "outputs": [],
   "source": [
    "et_url = et_img.getThumbURL({\n",
    "    'region': test_region, 'min': 1, 'max': 7, \n",
    "    'palette': ','.join(ssebop_et_palette)})\n",
    "# print(et_url)"
   ]
  },
  {
   "cell_type": "code",
   "execution_count": null,
   "metadata": {},
   "outputs": [],
   "source": [
    "Image(url=et_url)"
   ]
  },
  {
   "cell_type": "code",
   "execution_count": null,
   "metadata": {
    "collapsed": true
   },
   "outputs": [],
   "source": []
  }
 ],
 "metadata": {
  "kernelspec": {
   "display_name": "Python 3",
   "language": "python",
   "name": "python3"
  },
  "language_info": {
   "codemirror_mode": {
    "name": "ipython",
    "version": 3
   },
   "file_extension": ".py",
   "mimetype": "text/x-python",
   "name": "python",
   "nbconvert_exporter": "python",
   "pygments_lexer": "ipython3",
   "version": "3.6.6"
  }
 },
 "nbformat": 4,
 "nbformat_minor": 2
}
