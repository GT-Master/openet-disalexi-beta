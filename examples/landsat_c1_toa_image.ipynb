{
 "cells": [
  {
   "cell_type": "markdown",
   "metadata": {},
   "source": [
    "# Google Earth Engine (GEE) DisALEXI \n",
    "## Single Landsat Collection 1 TOA Image Example\n",
    "\n",
    "Example of calling the GEE DisALEXI function on a single Landsat 8 Collection 1 top-of-atmosphere reflectance image."
   ]
  },
  {
   "cell_type": "markdown",
   "metadata": {},
   "source": [
    "### Python imports and GEE initialization"
   ]
  },
  {
   "cell_type": "code",
   "execution_count": 1,
   "metadata": {},
   "outputs": [],
   "source": [
    "import pprint\n",
    "\n",
    "import ee\n",
    "from IPython.display import Image\n",
    "\n",
    "# For some reason the initialize has to be before the model imports below\n",
    "ee.Initialize()\n",
    "\n",
    "import openet.disalexi.disalexi as disalexi\n",
    "import openet.disalexi.landsat as landsat\n",
    "import openet.disalexi.utils as utils\n",
    "\n",
    "pp = pprint.PrettyPrinter(indent=2)"
   ]
  },
  {
   "cell_type": "code",
   "execution_count": 2,
   "metadata": {},
   "outputs": [],
   "source": [
    "test_xy = [-114.986, 32.355]\n",
    "test_geom = ee.Geometry.Point(test_xy)\n",
    "\n",
    "test_region = [[-115.1, 32.3], [-115.1, 32.41], [-114.9, 32.41], [-114.9, 32.3]]\n",
    "test_geom = ee.Geometry.Polygon(test_region)"
   ]
  },
  {
   "cell_type": "code",
   "execution_count": 3,
   "metadata": {},
   "outputs": [],
   "source": [
    "ssebop_et_palette = [\n",
    "  'DEC29B', 'E6CDA1', 'EDD9A6', 'F5E4A9', 'FFF4AD', 'C3E683', '6BCC5C', \n",
    "  '3BB369', '20998F', '1C8691', '16678A', '114982', '0B2C7A']\n",
    "ndvi_palette = '#EFE7E1,#003300'"
   ]
  },
  {
   "cell_type": "markdown",
   "metadata": {},
   "source": [
    "### Start with a single Landsat 8 TOA image"
   ]
  },
  {
   "cell_type": "code",
   "execution_count": 4,
   "metadata": {},
   "outputs": [],
   "source": [
    "landsat_img = ee.Image('LANDSAT/LC08/C01/T1_RT_TOA/LC08_038038_20150717')\n",
    "\n",
    "# # Mosaic images into a single Landsat image\n",
    "# landsat_a_img = ee.Image('LANDSAT/LC08/C01/T1_RT_TOA/LC08_038037_20150717')\n",
    "# landsat_b_img = ee.Image('LANDSAT/LC08/C01/T1_RT_TOA/LC08_038038_20150717')\n",
    "# landsat_img = ee.Image(ee.ImageCollection([landsat_a_img, landsat_b_img]).mosaic()) \\\n",
    "#     .copyProperties(landsat_a_img, [\n",
    "#         'system:time_start', 'system:index', 'SPACECRAFT_ID', 'SUN_ELEVATION', \n",
    "#         'K1_CONSTANT_BAND_10', 'K2_CONSTANT_BAND_10'])\n",
    "# landsat_image = ee.Image(landsat_image)\n",
    "# pp.pprint(landsat_img.getInfo()['properties'])"
   ]
  },
  {
   "cell_type": "code",
   "execution_count": 5,
   "metadata": {},
   "outputs": [
    {
     "name": "stdout",
     "output_type": "stream",
     "text": [
      "EPSG:32611\n",
      "[30.0, 0.0, 626985.0, 0.0, -30.0, 3629715.0]\n"
     ]
    }
   ],
   "source": [
    "# Extract geotransform and spatial reference\n",
    "image_crs = landsat_img.select('B2').projection().crs().getInfo()\n",
    "image_transform = landsat_img.select('B2').projection().getInfo()['transform']\n",
    "image_geom = landsat_img.select('B2').geometry()\n",
    "print(image_crs)\n",
    "print(image_transform)"
   ]
  },
  {
   "cell_type": "code",
   "execution_count": 6,
   "metadata": {},
   "outputs": [
    {
     "data": {
      "text/html": [
       "<img src=\"https://earthengine.googleapis.com/api/thumb?thumbid=c8add71fd5477fc2c16fa6a3a6fd1af1&token=e22b2470be3f83fa711d91fc2c16b7bf\"/>"
      ],
      "text/plain": [
       "<IPython.core.display.Image object>"
      ]
     },
     "execution_count": 6,
     "metadata": {},
     "output_type": "execute_result"
    }
   ],
   "source": [
    "vis_image = ee.Image(landsat_img) \\\n",
    "    .visualize(bands=['B4', 'B3', 'B2'], min=[0, 0, 0], max=[0.3, 0.3, 0.3]) \\\n",
    "    .reproject(crs=image_crs, crsTransform=image_transform) \\\n",
    "    .clip(test_geom)\n",
    "Image(url=vis_image.getThumbURL())"
   ]
  },
  {
   "cell_type": "markdown",
   "metadata": {},
   "source": [
    "### Prep the raw Landsat TOA image for use in DisALEXI\n",
    "\n",
    "The prep function will rename the bands to generic names, compute albedo, ndvi, lai, and extract the fmask image from the BQA band."
   ]
  },
  {
   "cell_type": "code",
   "execution_count": 7,
   "metadata": {},
   "outputs": [],
   "source": [
    "input_img = ee.Image(landsat.LandsatTOA(landsat_img).prep())"
   ]
  },
  {
   "cell_type": "markdown",
   "metadata": {},
   "source": [
    "Show the NDVI band for the validation asset area"
   ]
  },
  {
   "cell_type": "code",
   "execution_count": 8,
   "metadata": {},
   "outputs": [
    {
     "data": {
      "text/html": [
       "<img src=\"https://earthengine.googleapis.com/api/thumb?thumbid=008030ef13db8599cdf1047fb11d47a9&token=370855034ee8e6006cce3e16fe972b7e\"/>"
      ],
      "text/plain": [
       "<IPython.core.display.Image object>"
      ]
     },
     "execution_count": 8,
     "metadata": {},
     "output_type": "execute_result"
    }
   ],
   "source": [
    "vis_img = input_img.select(['ndvi']).getThumbURL({\n",
    "    'region': test_region, 'min':-0.1, 'max':0.9, \n",
    "    'palette': ndvi_palette})\n",
    "Image(url=vis_img)"
   ]
  },
  {
   "cell_type": "markdown",
   "metadata": {},
   "source": [
    "Show the NDVI band for the test site area"
   ]
  },
  {
   "cell_type": "code",
   "execution_count": 9,
   "metadata": {},
   "outputs": [
    {
     "data": {
      "text/html": [
       "<img src=\"https://earthengine.googleapis.com/api/thumb?thumbid=008030ef13db8599cdf1047fb11d47a9&token=6c08295a764c2384e3ea9f23ae51d504\"/>"
      ],
      "text/plain": [
       "<IPython.core.display.Image object>"
      ]
     },
     "execution_count": 9,
     "metadata": {},
     "output_type": "execute_result"
    }
   ],
   "source": [
    "Image(url=input_img.select(['ndvi']).getThumbURL({\n",
    "    'region': test_region, 'min':-0.1, 'max':0.9, 'palette': ndvi_palette}))"
   ]
  },
  {
   "cell_type": "markdown",
   "metadata": {},
   "source": [
    "### Extract input values at the test point"
   ]
  },
  {
   "cell_type": "code",
   "execution_count": 10,
   "metadata": {},
   "outputs": [
    {
     "name": "stdout",
     "output_type": "stream",
     "text": [
      "LAI:      2.73533273\n",
      "NDVI:     0.73108977\n",
      "Albedo:   0.24656877\n",
      "LST:    308.38769255 [K]\n",
      "CFMask:   0.00000000\n"
     ]
    }
   ],
   "source": [
    "print('LAI:    {:12.8f}'.format(float(\n",
    "    utils.image_value(input_img, xy=test_xy, scale=30)['lai'])))\n",
    "print('NDVI:   {:12.8f}'.format(float(\n",
    "    utils.image_value(input_img, xy=test_xy, scale=30)['ndvi'])))\n",
    "print('Albedo: {:12.8f}'.format(float(\n",
    "    utils.image_value(input_img, xy=test_xy, scale=30)['albedo'])))\n",
    "print('LST:    {:12.8f} [K]'.format(float(\n",
    "    utils.image_value(input_img, xy=test_xy, scale=30)['lst'])))\n",
    "print('CFMask: {:12.8f}'.format(float(\n",
    "    utils.image_value(input_img, xy=test_xy, scale=30)['cfmask'])))"
   ]
  },
  {
   "cell_type": "markdown",
   "metadata": {},
   "source": [
    "### Initialize the DisALEXI object"
   ]
  },
  {
   "cell_type": "code",
   "execution_count": 11,
   "metadata": {},
   "outputs": [],
   "source": [
    "# Initialize the DisALEXI object using all default values\n",
    "# NLCD Landcover, NED Elevation, CONUS ALEXI ET\n",
    "disalexi = disalexi.Image(\n",
    "    input_img, \n",
    "    iterations=10,\n",
    "    elevation=ee.Image('USGS/SRTMGL1_003').rename(['elevation']),\n",
    "    landcover=ee.Image(\n",
    "        ee.ImageCollection('users/cgmorton/GlobeLand30').mosaic()) \\\n",
    "            .divide(10).floor().multiply(10) \\\n",
    "            .rename(['landcover']),\n",
    "    lc_type='GLOBELAND30')\n",
    "disalexi._set_alexi_et_vars()\n",
    "disalexi._set_elevation_vars()\n",
    "disalexi._set_landcover_vars()\n",
    "disalexi._set_time_vars()\n",
    "disalexi._set_solar_vars()\n",
    "disalexi._set_weather_vars()"
   ]
  },
  {
   "cell_type": "markdown",
   "metadata": {},
   "source": [
    "### Extract the ancillary values at the test point"
   ]
  },
  {
   "cell_type": "code",
   "execution_count": 12,
   "metadata": {},
   "outputs": [
    {
     "name": "stdout",
     "output_type": "stream",
     "text": [
      "ALEXI ET:     2.62940478 [mm]\n",
      "Elevation:   17.00000000 [m]\n",
      "Rs Hourly:  929.51891667 [W m-2]\n",
      "Rs Daily:  8239.91601562 [W m-2]\n",
      "Wind Speed:   3.97250716 [m/s]\n",
      "Land Cover:  10\n"
     ]
    }
   ],
   "source": [
    "print('ALEXI ET:   {:>12.8f} [mm]'.format(float(utils.image_value(\n",
    "    disalexi.alexi_et, xy=test_xy, scale=30)['alexi_et'])))\n",
    "print('Elevation:  {:>12.8f} [m]'.format(float(utils.image_value(\n",
    "    disalexi.elevation, xy=test_xy, scale=30)['elevation'])))\n",
    "print('Rs Hourly:  {:>12.8f} [W m-2]'.format(float(utils.image_value(\n",
    "    disalexi.rs1, xy=test_xy, scale=30)['rs'])))\n",
    "print('Rs Daily:  {:>13.8f} [W m-2]'.format(float(utils.image_value(\n",
    "    disalexi.rs24, xy=test_xy, scale=30)['rs'])))\n",
    "print('Wind Speed: {:>12.8f} [m/s]'.format(float(utils.image_value(\n",
    "    disalexi.windspeed, xy=test_xy, scale=30)['windspeed'])))\n",
    "print('Land Cover: {:3}'.format(int(utils.image_value(\n",
    "    disalexi.landcover, xy=test_xy, scale=30)['landcover'])))"
   ]
  },
  {
   "cell_type": "code",
   "execution_count": 13,
   "metadata": {},
   "outputs": [
    {
     "data": {
      "text/html": [
       "<img src=\"https://earthengine.googleapis.com/api/thumb?thumbid=81a3ed87c586432a0adf7a668571c375&token=1755148e1d7a7ee54bc4140c7b7df3f9\"/>"
      ],
      "text/plain": [
       "<IPython.core.display.Image object>"
      ]
     },
     "execution_count": 13,
     "metadata": {},
     "output_type": "execute_result"
    }
   ],
   "source": [
    "vis_img = disalexi.alexi_et.getThumbURL({\n",
    "    'region': test_region, 'min':0, 'max':4, \n",
    "    'palette': ndvi_palette})\n",
    "Image(url=vis_img)"
   ]
  },
  {
   "cell_type": "markdown",
   "metadata": {},
   "source": [
    "### Extract the computed inputs"
   ]
  },
  {
   "cell_type": "code",
   "execution_count": 14,
   "metadata": {},
   "outputs": [
    {
     "name": "stdout",
     "output_type": "stream",
     "text": [
      "hc:         0.40717820\n",
      "clump:      0.83000000\n",
      "t_rise:    12.75206586\n",
      "t_end:     26.78551224\n",
      "pressure: 101.09921051\n"
     ]
    }
   ],
   "source": [
    "print('hc:       {:12.8f}'.format(float(\n",
    "    utils.image_value(disalexi.hc, xy=test_xy, scale=30)['hc'])))\n",
    "print('clump:    {:12.8f}'.format(float(\n",
    "    utils.image_value(disalexi.clump, xy=test_xy, scale=30)['omega'])))\n",
    "print('t_rise:   {:12.8f}'.format(float(\n",
    "    utils.image_value(disalexi.t_rise, xy=test_xy, scale=30)['t_rise'])))\n",
    "print('t_end:    {:12.8f}'.format(float(\n",
    "    utils.image_value(disalexi.t_end, xy=test_xy, scale=30)['t_end'])))\n",
    "print('pressure: {:12.8f}'.format(float(\n",
    "    utils.image_value(disalexi.pressure, xy=test_xy, scale=30)['pressure'])))"
   ]
  },
  {
   "cell_type": "markdown",
   "metadata": {},
   "source": [
    "### Compute Air Temperature"
   ]
  },
  {
   "cell_type": "code",
   "execution_count": 15,
   "metadata": {},
   "outputs": [
    {
     "name": "stdout",
     "output_type": "stream",
     "text": [
      "[30.0, 0.0, 626985.0, 0.0, -30.0, 3629715.0]\n"
     ]
    }
   ],
   "source": [
    "image_transform = ee.Image(landsat_img).select('B2').projection().getInfo()['transform']\n",
    "print(image_transform)\n",
    "# Reduce the computation resolution\n",
    "image_transform = '[' + ','.join(map(str, [120.0, 0.0, 626985.0, 0.0, -120.0, 3629715.0])) + ']'\n",
    "# output_transform = [cell_size, 0, output_extent[0], 0, -cell_size, output_extent[3]]\n",
    "image_transform = [120.0, 0.0, 626985.0, 0.0, -120.0, 3629715.0]"
   ]
  },
  {
   "cell_type": "code",
   "execution_count": 16,
   "metadata": {},
   "outputs": [
    {
     "name": "stdout",
     "output_type": "stream",
     "text": [
      "Output Ta:\n",
      "295.0\n"
     ]
    }
   ],
   "source": [
    "t_air_img = ee.Image(disalexi.compute_ta()) \\\n",
    "    .reproject(crs=image_crs, crsTransform=image_transform)\n",
    "print('Output Ta:\\n{}'.format(pprint.pformat(\n",
    "    utils.image_value(t_air_img, xy=test_xy, scale=30)['t_air'])))"
   ]
  },
  {
   "cell_type": "code",
   "execution_count": 17,
   "metadata": {},
   "outputs": [
    {
     "name": "stdout",
     "output_type": "stream",
     "text": [
      "https://earthengine.googleapis.com/api/thumb?thumbid=b27c679db850a254b09c17ead5641598&token=2064d1e84354a9f8bedfe37fb84f29a8\n"
     ]
    }
   ],
   "source": [
    "t_air_url = t_air_img.getThumbURL({\n",
    "    'region': test_region, 'min':270, 'max':330})\n",
    "print(t_air_url)"
   ]
  },
  {
   "cell_type": "code",
   "execution_count": 18,
   "metadata": {},
   "outputs": [
    {
     "data": {
      "text/html": [
       "<img src=\"https://earthengine.googleapis.com/api/thumb?thumbid=b27c679db850a254b09c17ead5641598&token=2064d1e84354a9f8bedfe37fb84f29a8\"/>"
      ],
      "text/plain": [
       "<IPython.core.display.Image object>"
      ]
     },
     "execution_count": 18,
     "metadata": {},
     "output_type": "execute_result"
    }
   ],
   "source": [
    "Image(url=t_air_url)"
   ]
  },
  {
   "cell_type": "markdown",
   "metadata": {},
   "source": [
    "### Aggregate Air Temperature to ALEXI ET cells"
   ]
  },
  {
   "cell_type": "code",
   "execution_count": 19,
   "metadata": {},
   "outputs": [
    {
     "name": "stdout",
     "output_type": "stream",
     "text": [
      "Coarse Ta: 291.7424571406523\n"
     ]
    }
   ],
   "source": [
    "# Test asset ALEXI ET geotransform (from IDL)\n",
    "# et_transform = [0.04, 0, -125.042123, 0, -0.04, 49.7764322]\n",
    "# CONUS ALEXI ET geotransform\n",
    "et_transform = [0.04, 0, -125.0, 0, -0.04, 49.80]\n",
    "\n",
    "t_air_coarse_img = disalexi.aggregate(t_air_img) \\\n",
    "    .reproject(crs='EPSG:4326', crsTransform=et_transform)\n",
    "print('Coarse Ta: {}'.format(pprint.pformat(\n",
    "    utils.image_value(t_air_coarse_img, xy=test_xy, scale=30)['t_air'])))"
   ]
  },
  {
   "cell_type": "code",
   "execution_count": 20,
   "metadata": {},
   "outputs": [
    {
     "name": "stdout",
     "output_type": "stream",
     "text": [
      "https://earthengine.googleapis.com/api/thumb?thumbid=6ecd7bded26e9f7e5d0d9f96477c3ddf&token=0a07ff857cce5159268c496667e96161\n"
     ]
    }
   ],
   "source": [
    "t_air_coarse_url = t_air_coarse_img.getThumbUrl({\n",
    "    'region': test_region, 'min':270, 'max':330})\n",
    "print(t_air_coarse_url)"
   ]
  },
  {
   "cell_type": "code",
   "execution_count": 21,
   "metadata": {},
   "outputs": [
    {
     "data": {
      "text/html": [
       "<img src=\"https://earthengine.googleapis.com/api/thumb?thumbid=6ecd7bded26e9f7e5d0d9f96477c3ddf&token=0a07ff857cce5159268c496667e96161\"/>"
      ],
      "text/plain": [
       "<IPython.core.display.Image object>"
      ]
     },
     "execution_count": 21,
     "metadata": {},
     "output_type": "execute_result"
    }
   ],
   "source": [
    "Image(url=t_air_coarse_url)"
   ]
  },
  {
   "cell_type": "markdown",
   "metadata": {},
   "source": [
    "### Compute ET"
   ]
  },
  {
   "cell_type": "code",
   "execution_count": 22,
   "metadata": {},
   "outputs": [
    {
     "name": "stdout",
     "output_type": "stream",
     "text": [
      "ET: 1.4770251229248055\n"
     ]
    }
   ],
   "source": [
    "et_img = disalexi.compute_et(t_air_coarse_img) \\\n",
    "    .reproject(crs=image_crs, crsTransform=image_transform)\n",
    "print('ET: {}'.format(pprint.pformat(\n",
    "    utils.image_value(et_img, xy=test_xy, scale=30)['et'])))"
   ]
  },
  {
   "cell_type": "code",
   "execution_count": 23,
   "metadata": {
    "collapsed": true
   },
   "outputs": [],
   "source": [
    "et_url = et_img.getThumbURL({\n",
    "    'region': test_region, 'min': 1, 'max': 7, \n",
    "    'palette': ','.join(ssebop_et_palette)})\n",
    "# print(et_url)"
   ]
  },
  {
   "cell_type": "code",
   "execution_count": 24,
   "metadata": {},
   "outputs": [
    {
     "data": {
      "text/html": [
       "<img src=\"https://earthengine.googleapis.com/api/thumb?thumbid=74ddde14319d06feca98fe051554b1be&token=bf586f9f6a57ba2a3ed1c99ef577d9b6\"/>"
      ],
      "text/plain": [
       "<IPython.core.display.Image object>"
      ]
     },
     "execution_count": 24,
     "metadata": {},
     "output_type": "execute_result"
    }
   ],
   "source": [
    "Image(url=et_url)"
   ]
  },
  {
   "cell_type": "code",
   "execution_count": null,
   "metadata": {
    "collapsed": true
   },
   "outputs": [],
   "source": []
  }
 ],
 "metadata": {
  "kernelspec": {
   "display_name": "Python 3",
   "language": "python",
   "name": "python3"
  },
  "language_info": {
   "codemirror_mode": {
    "name": "ipython",
    "version": 3
   },
   "file_extension": ".py",
   "mimetype": "text/x-python",
   "name": "python",
   "nbconvert_exporter": "python",
   "pygments_lexer": "ipython3",
   "version": "3.6.6"
  }
 },
 "nbformat": 4,
 "nbformat_minor": 2
}
