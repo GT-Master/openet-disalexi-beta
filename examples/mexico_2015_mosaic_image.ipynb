{
 "cells": [
  {
   "cell_type": "markdown",
   "metadata": {},
   "source": [
    "# Google Earth Engine (GEE) DisALEXI \n",
    "## Mexico 2015 - Landsat Collection 1 TOA\n",
    "\n",
    "Example of calling the GEE DisALEXI function on a mosaiced (merging rows) Landsat 8 Collection 1 top-of-atmosphere reflectance image.  \n",
    "Study area WRS2 tiles: p039r037, p038r037, p039r038, p038r038\n",
    "\n",
    "https://console.cloud.google.com/storage/browser/gcp-public-data-landsat/LC08/01/038/038/LC08_L1TP_038038_20150717_20170226_01_T1/"
   ]
  },
  {
   "cell_type": "code",
   "execution_count": 1,
   "metadata": {
    "collapsed": true
   },
   "outputs": [],
   "source": [
    "import ee\n",
    "from IPython.display import Image\n",
    "\n",
    "# For some reason the initialize has to be before the model imports below\n",
    "ee.Initialize()\n",
    "\n",
    "import openet.disalexi.disalexi as disalexi\n",
    "import openet.disalexi.landsat as landsat\n",
    "import openet.disalexi.utils as utils\n",
    "\n",
    "ndvi_palette = ['#EFE7E1', '#003300']\n",
    "ssebop_et_palette = [\n",
    "  'DEC29B', 'E6CDA1', 'EDD9A6', 'F5E4A9', 'FFF4AD', 'C3E683', '6BCC5C', \n",
    "  '3BB369', '20998F', '1C8691', '16678A', '114982', '0B2C7A']"
   ]
  },
  {
   "cell_type": "markdown",
   "metadata": {},
   "source": [
    "### Study area"
   ]
  },
  {
   "cell_type": "code",
   "execution_count": 2,
   "metadata": {},
   "outputs": [
    {
     "name": "stdout",
     "output_type": "stream",
     "text": [
      "[30,0,624000,0,-30,3625000]\n",
      "3000x3000\n"
     ]
    }
   ],
   "source": [
    "output_extent = [624000, 3535000, 714000, 3625000]\n",
    "output_crs = 'EPSG:32611'\n",
    "cell_size = 30\n",
    "output_transform = [cell_size, 0, output_extent[0], 0, -cell_size, output_extent[3]]\n",
    "output_transform_str = '[' + ','.join(map(str, output_transform)) + ']'\n",
    "output_shape_str = '{0}x{1}'.format(\n",
    "    int(abs(output_extent[2] - output_extent[0]) / cell_size),\n",
    "    int(abs(output_extent[3] - output_extent[1]) / cell_size))\n",
    "output_region = ee.Geometry.Rectangle(output_extent, output_crs, False) \\\n",
    "    .bounds(1, 'EPSG:4326').coordinates().getInfo()\n",
    "print(output_transform_str)\n",
    "print(output_shape_str)"
   ]
  },
  {
   "cell_type": "code",
   "execution_count": 3,
   "metadata": {
    "collapsed": true
   },
   "outputs": [],
   "source": [
    "thumbnail_region = [[-115.09, 32.32], [-115.09, 32.40], [-114.95, 32.40], [-114.95, 32.32]]\n",
    "thumbnail_geom = ee.Geometry.Polygon(thumbnail_region)"
   ]
  },
  {
   "cell_type": "markdown",
   "metadata": {},
   "source": [
    "### Prep DisALEXI Input"
   ]
  },
  {
   "cell_type": "code",
   "execution_count": 4,
   "metadata": {},
   "outputs": [
    {
     "name": "stdout",
     "output_type": "stream",
     "text": [
      "EPSG:32611\n",
      "[30.0, 0.0, 659985.0, 0.0, -30.0, 3789615.0]\n"
     ]
    }
   ],
   "source": [
    "scene_id = 'LC08_038XXX_20150717'\n",
    "landsat_a_img = ee.Image('LANDSAT/LC08/C01/T1_RT_TOA/LC08_038037_20150717')\n",
    "landsat_b_img = ee.Image('LANDSAT/LC08/C01/T1_RT_TOA/LC08_038038_20150717')\n",
    "\n",
    "# Get the projection information from the first image\n",
    "image_crs = landsat_a_img.select('B2').projection().crs().getInfo()\n",
    "image_transform = landsat_a_img.select('B2').projection().getInfo()['transform']\n",
    "image_geom = landsat_a_img.select('B2').geometry()\n",
    "print(image_crs)\n",
    "print(image_transform)\n",
    "\n",
    "# Mosaic images into a single Landsat image\n",
    "landsat_img = ee.Image(ee.ImageCollection([landsat_a_img, landsat_b_img]).mosaic()) \\\n",
    "    .reproject(crs=image_crs, crsTransform=image_transform)\n",
    "\n",
    "# Copy the image properties from the first image\n",
    "landsat_img = ee.Image(landsat_img.copyProperties(landsat_a_img, [\n",
    "    'system:time_start', 'system:index', 'SPACECRAFT_ID', \n",
    "    'K1_CONSTANT_BAND_10', 'K2_CONSTANT_BAND_10']))\n",
    "\n",
    "input_img = ee.Image(landsat.Landsat(landsat_img).prep())"
   ]
  },
  {
   "cell_type": "markdown",
   "metadata": {},
   "source": [
    "### NDVI "
   ]
  },
  {
   "cell_type": "code",
   "execution_count": 5,
   "metadata": {},
   "outputs": [
    {
     "data": {
      "text/html": [
       "<img src=\"https://earthengine.googleapis.com/api/thumb?thumbid=d06df16d645679ad7d37c1360c5e7578&token=15de1fde409cf5328d9fa1b65b5b6b50\"/>"
      ],
      "text/plain": [
       "<IPython.core.display.Image object>"
      ]
     },
     "execution_count": 5,
     "metadata": {},
     "output_type": "execute_result"
    }
   ],
   "source": [
    "Image(url=input_img.select(['ndvi']).paint(thumbnail_geom, 'red', 1).getThumbURL({\n",
    "    'region': output_region, 'min': -0.1, 'max': 0.9, \n",
    "    'palette': ','.join(ndvi_palette)}))"
   ]
  },
  {
   "cell_type": "markdown",
   "metadata": {},
   "source": [
    "### Apply DisALEXI"
   ]
  },
  {
   "cell_type": "code",
   "execution_count": 6,
   "metadata": {},
   "outputs": [],
   "source": [
    "# Use the CONUS ALEXI ET but the global landcover and elevation products\n",
    "disalexi = disalexi.Image(\n",
    "    input_img, \n",
    "    iterations=10,\n",
    "    elevation=ee.Image('USGS/SRTMGL1_003').rename(['elevation']),\n",
    "    landcover=ee.Image(\n",
    "        ee.ImageCollection('users/cgmorton/GlobeLand30').mosaic()) \\\n",
    "            .divide(10).floor().multiply(10).rename(['landcover']),\n",
    "    lc_type='GLOBELAND30')\n",
    "\n",
    "ta_img = disalexi.compute_ta() \\\n",
    "    .reproject(crs=output_crs, crsTransform=output_transform)\n",
    "ta_coarse_img = disalexi.aggregate(ta_img)\n",
    "# Eventually make smoothing to a DisALEXI method\n",
    "ta_smooth_img = ta_coarse_img \\\n",
    "    .resample('bilinear') \\\n",
    "    .reproject(crs=output_crs, crsTransform=output_transform)\n",
    "et_img = disalexi.compute_et(ta_smooth_img)\n",
    "\n",
    "# et_img = disalexi.compute_et(ta_smooth_img) \\\n",
    "#     .reproject(crs=output_crs, crsTransform=output_transform)"
   ]
  },
  {
   "cell_type": "code",
   "execution_count": 7,
   "metadata": {
    "collapsed": true
   },
   "outputs": [],
   "source": [
    "# print(t_air_img.getInfo())\n",
    "# print(t_air_coarse_img.getInfo())\n",
    "# print(et_img.getInfo())"
   ]
  },
  {
   "cell_type": "markdown",
   "metadata": {},
   "source": [
    "### Export to Drive"
   ]
  },
  {
   "cell_type": "code",
   "execution_count": 8,
   "metadata": {},
   "outputs": [],
   "source": [
    "et_task = ee.batch.Export.image.toDrive(\n",
    "    et_img.toFloat(),\n",
    "    description=scene_id + '_et',\n",
    "    folder='DisALEXI',\n",
    "    fileNamePrefix=scene_id + '_et',\n",
    "    dimensions=output_shape_str,\n",
    "    crs=output_crs,\n",
    "    crsTransform=output_transform_str,\n",
    "    maxPixels=1E10)"
   ]
  },
  {
   "cell_type": "code",
   "execution_count": 9,
   "metadata": {},
   "outputs": [
    {
     "name": "stdout",
     "output_type": "stream",
     "text": [
      "Status: {'id': 'L7CM4TSOWAGOPNWSBIQEMETQ', 'state': 'READY', 'creation_timestamp_ms': 1538069922488, 'update_timestamp_ms': 1538069922488, 'description': 'LC08_038XXX_20150717_et', 'task_type': 'EXPORT_IMAGE'}\n"
     ]
    }
   ],
   "source": [
    "et_task.start()\n",
    "print('Status: {}'.format(et_task.status()))"
   ]
  },
  {
   "cell_type": "code",
   "execution_count": 10,
   "metadata": {
    "collapsed": true
   },
   "outputs": [],
   "source": [
    "# ta_task = ee.batch.Export.image.toDrive(\n",
    "#     ta_img.toFloat(),\n",
    "#     description=scene_id + '_ta',\n",
    "#     folder='DisALEXI',\n",
    "#     fileNamePrefix=scene_id + '_ta',\n",
    "#     dimensions=output_shape_str,\n",
    "#     crs=output_crs,\n",
    "#     crsTransform=output_transform_str,\n",
    "#     maxPixels=1E10)"
   ]
  },
  {
   "cell_type": "code",
   "execution_count": 11,
   "metadata": {
    "collapsed": true
   },
   "outputs": [],
   "source": [
    "# ta_coarse_task = ee.batch.Export.image.toDrive(\n",
    "#     ta_coarse_img.toFloat(),\n",
    "#     description=scene_id + '_ta_coarse',\n",
    "#     folder='DisALEXI',\n",
    "#     fileNamePrefix=scene_id + '_ta_coarse',\n",
    "#     dimensions=output_shape_str,\n",
    "#     crs=output_crs,\n",
    "#     crsTransform=output_transform_str,\n",
    "#     maxPixels=1E10)"
   ]
  },
  {
   "cell_type": "code",
   "execution_count": 12,
   "metadata": {
    "collapsed": true
   },
   "outputs": [],
   "source": [
    "# ta_smooth_task = ee.batch.Export.image.toDrive(\n",
    "#     ta_smooth_img.toFloat(),\n",
    "#     description=scene_id + '_ta_smooth',\n",
    "#     folder='DisALEXI',\n",
    "#     fileNamePrefix=scene_id + '_ta_smooth',\n",
    "#     dimensions=output_shape_str,\n",
    "#     crs=output_crs,\n",
    "#     crsTransform=output_transform_str,\n",
    "#     maxPixels=1E10)"
   ]
  },
  {
   "cell_type": "code",
   "execution_count": 13,
   "metadata": {},
   "outputs": [],
   "source": [
    "# ta_task.start()\n",
    "# print('Status: {}'.format(ta_task.status()))\n",
    "# ta_coarse_task.start()\n",
    "# print('Status: {}'.format(ta_coarse_task.status()))\n",
    "# ta_smooth_task.start()\n",
    "# print('Status: {}'.format(ta_smooth_task.status()))"
   ]
  },
  {
   "cell_type": "markdown",
   "metadata": {},
   "source": [
    "### Thumbnails"
   ]
  },
  {
   "cell_type": "code",
   "execution_count": 14,
   "metadata": {},
   "outputs": [
    {
     "data": {
      "text/html": [
       "<img src=\"https://earthengine.googleapis.com/api/thumb?thumbid=1534c40d3fe69d2402ec6de20bdae0ee&token=23051fc245dd4154dc9ca02b07b6fcea\"/>"
      ],
      "text/plain": [
       "<IPython.core.display.Image object>"
      ]
     },
     "execution_count": 14,
     "metadata": {},
     "output_type": "execute_result"
    }
   ],
   "source": [
    "Image(url=input_img.select(['ndvi']).getThumbURL({\n",
    "    'region': thumbnail_region, 'min': -0.1, 'max': 0.9, \n",
    "    'palette': ','.join(ndvi_palette)}))"
   ]
  },
  {
   "cell_type": "code",
   "execution_count": 15,
   "metadata": {},
   "outputs": [
    {
     "data": {
      "text/html": [
       "<img src=\"https://earthengine.googleapis.com/api/thumb?thumbid=023ec164cb6c554ecacebc09421b980e&token=ed5010b0d9e1bcb33fb4b6bb9277512d\"/>"
      ],
      "text/plain": [
       "<IPython.core.display.Image object>"
      ]
     },
     "execution_count": 15,
     "metadata": {},
     "output_type": "execute_result"
    }
   ],
   "source": [
    "alexi_url = ee.Image(disalexi.alexi_et).reproject(crs=output_crs, crsTransform=output_transform).getThumbURL({\n",
    "    'region': thumbnail_region, 'min': 0, 'max': 10, \n",
    "    'palette': ','.join(['FF0000', 'FFFF00', '00FFFF', '0000FF'])})\n",
    "# print(alexi_url)\n",
    "Image(url=alexi_url)"
   ]
  },
  {
   "cell_type": "code",
   "execution_count": 16,
   "metadata": {},
   "outputs": [
    {
     "data": {
      "text/html": [
       "<img src=\"https://earthengine.googleapis.com/api/thumb?thumbid=1632e6ccc0e0a38edfc3af34b9069922&token=867716c5ff05658fd24f67d82bf6e91e\"/>"
      ],
      "text/plain": [
       "<IPython.core.display.Image object>"
      ]
     },
     "execution_count": 16,
     "metadata": {},
     "output_type": "execute_result"
    }
   ],
   "source": [
    "ta_url = ta_img.getThumbURL({\n",
    "    'region': thumbnail_region, 'min': 273, 'max': 325, \n",
    "    'palette': ','.join(['FF0000', 'FFFF00', '00FFFF', '0000FF'])})\n",
    "# print(ta_url)\n",
    "Image(url=ta_url)"
   ]
  },
  {
   "cell_type": "code",
   "execution_count": 17,
   "metadata": {},
   "outputs": [],
   "source": [
    "# ta_coarse_url = ta_coarse_img.getThumbURL({\n",
    "#     'region': thumbnail_region, 'min': 273, 'max': 325, \n",
    "#     'palette': ','.join(['FF0000', 'FFFF00', '00FFFF', '0000FF'])})\n",
    "# # print(ta_coarse_url)\n",
    "# Image(url=ta_coarse_url)"
   ]
  },
  {
   "cell_type": "code",
   "execution_count": 18,
   "metadata": {
    "collapsed": true
   },
   "outputs": [],
   "source": [
    "# ta_smooth_url = ta_smooth_img.getThumbURL({\n",
    "#     'region': thumbnail_region, 'min': 273, 'max': 325, \n",
    "#     'palette': ','.join(['FF0000', 'FFFF00', '00FFFF', '0000FF'])})\n",
    "# # print(ta_smooth_url)\n",
    "# Image(url=ta_smooth_url)"
   ]
  },
  {
   "cell_type": "code",
   "execution_count": 19,
   "metadata": {},
   "outputs": [],
   "source": [
    "# et_url = et_img.getThumbURL({\n",
    "#     'region': thumbnail_region, 'min': 0, 'max': 10, \n",
    "#     'palette': ','.join(ssebop_et_palette)})\n",
    "# # print(et_url)\n",
    "# Image(url=et_url)"
   ]
  },
  {
   "cell_type": "code",
   "execution_count": null,
   "metadata": {
    "collapsed": true
   },
   "outputs": [],
   "source": []
  }
 ],
 "metadata": {
  "kernelspec": {
   "display_name": "Python 3",
   "language": "python",
   "name": "python3"
  },
  "language_info": {
   "codemirror_mode": {
    "name": "ipython",
    "version": 3
   },
   "file_extension": ".py",
   "mimetype": "text/x-python",
   "name": "python",
   "nbconvert_exporter": "python",
   "pygments_lexer": "ipython3",
   "version": "3.6.6"
  }
 },
 "nbformat": 4,
 "nbformat_minor": 2
}
